{
 "cells": [
  {
   "cell_type": "markdown",
   "id": "8b0d2977-e112-45ad-a508-568d97a73941",
   "metadata": {},
   "source": [
    "# Lead Scoring - Case Study\n",
    "Problem Statement\n",
    "\n",
    "An X Education need help to select the most promising leads, i.e. the leads that are most likely to convert into paying customers. \n",
    "The company requires us to build a model wherein you need to assign a lead score to each of the leads such that the customers with higher lead score have \n",
    "a higher conversion chance and the customers with lower lead score have a lower conversion chance. The CEO, in particular, \n",
    "has given a ballpark of the target lead conversion rate to be around 80%.\n",
    "\n",
    "Goals of Case Study\n",
    "\n",
    "Build a logistic regression model to assign a lead score between 0 and 100 to each of the leads which can be used by the company to target potential leads.\n",
    "A higher score would mean that the lead is hot, i.e. is most likely to convert whereas a lower score would mean that the lead is cold and will mostly not \n",
    "get converted."
   ]
  },
  {
   "cell_type": "markdown",
   "id": "05bdc9e8-1ac3-48b7-b4ae-86fda5c463a0",
   "metadata": {},
   "source": [
    "## Importing Libraries"
   ]
  },
  {
   "cell_type": "code",
   "execution_count": 1,
   "id": "76e56b4c-e9f0-49a2-a629-ab639c6a050f",
   "metadata": {},
   "outputs": [],
   "source": [
    "# Suppressing Warnings\n",
    "import warnings\n",
    "warnings.filterwarnings('ignore')\n",
    "\n",
    "import pandas as pd\n",
    "import numpy as np\n",
    "\n",
    "import matplotlib.pyplot as plt\n",
    "%matplotlib inline\n",
    "\n",
    "import seaborn as sns\n",
    "\n",
    "import sklearn\n",
    "from sklearn.preprocessing import StandardScaler\n",
    "\n",
    "import statsmodels.api as sm"
   ]
  },
  {
   "cell_type": "markdown",
   "id": "ed14aebc-68f3-479c-af8f-163e99ecadd0",
   "metadata": {},
   "source": [
    "## Data Reading"
   ]
  },
  {
   "cell_type": "code",
   "execution_count": 3,
   "id": "2028f90a-3ef9-4637-80d8-4670684eb926",
   "metadata": {},
   "outputs": [
    {
     "data": {
      "text/html": [
       "<div>\n",
       "<style scoped>\n",
       "    .dataframe tbody tr th:only-of-type {\n",
       "        vertical-align: middle;\n",
       "    }\n",
       "\n",
       "    .dataframe tbody tr th {\n",
       "        vertical-align: top;\n",
       "    }\n",
       "\n",
       "    .dataframe thead th {\n",
       "        text-align: right;\n",
       "    }\n",
       "</style>\n",
       "<table border=\"1\" class=\"dataframe\">\n",
       "  <thead>\n",
       "    <tr style=\"text-align: right;\">\n",
       "      <th></th>\n",
       "      <th>Prospect ID</th>\n",
       "      <th>Lead Number</th>\n",
       "      <th>Lead Origin</th>\n",
       "      <th>Lead Source</th>\n",
       "      <th>Do Not Email</th>\n",
       "      <th>Do Not Call</th>\n",
       "      <th>Converted</th>\n",
       "      <th>TotalVisits</th>\n",
       "      <th>Total Time Spent on Website</th>\n",
       "      <th>Page Views Per Visit</th>\n",
       "      <th>...</th>\n",
       "      <th>Get updates on DM Content</th>\n",
       "      <th>Lead Profile</th>\n",
       "      <th>City</th>\n",
       "      <th>Asymmetrique Activity Index</th>\n",
       "      <th>Asymmetrique Profile Index</th>\n",
       "      <th>Asymmetrique Activity Score</th>\n",
       "      <th>Asymmetrique Profile Score</th>\n",
       "      <th>I agree to pay the amount through cheque</th>\n",
       "      <th>A free copy of Mastering The Interview</th>\n",
       "      <th>Last Notable Activity</th>\n",
       "    </tr>\n",
       "  </thead>\n",
       "  <tbody>\n",
       "    <tr>\n",
       "      <th>0</th>\n",
       "      <td>7927b2df-8bba-4d29-b9a2-b6e0beafe620</td>\n",
       "      <td>660737</td>\n",
       "      <td>API</td>\n",
       "      <td>Olark Chat</td>\n",
       "      <td>No</td>\n",
       "      <td>No</td>\n",
       "      <td>0</td>\n",
       "      <td>0.0</td>\n",
       "      <td>0</td>\n",
       "      <td>0.0</td>\n",
       "      <td>...</td>\n",
       "      <td>No</td>\n",
       "      <td>Select</td>\n",
       "      <td>Select</td>\n",
       "      <td>02.Medium</td>\n",
       "      <td>02.Medium</td>\n",
       "      <td>15.0</td>\n",
       "      <td>15.0</td>\n",
       "      <td>No</td>\n",
       "      <td>No</td>\n",
       "      <td>Modified</td>\n",
       "    </tr>\n",
       "    <tr>\n",
       "      <th>1</th>\n",
       "      <td>2a272436-5132-4136-86fa-dcc88c88f482</td>\n",
       "      <td>660728</td>\n",
       "      <td>API</td>\n",
       "      <td>Organic Search</td>\n",
       "      <td>No</td>\n",
       "      <td>No</td>\n",
       "      <td>0</td>\n",
       "      <td>5.0</td>\n",
       "      <td>674</td>\n",
       "      <td>2.5</td>\n",
       "      <td>...</td>\n",
       "      <td>No</td>\n",
       "      <td>Select</td>\n",
       "      <td>Select</td>\n",
       "      <td>02.Medium</td>\n",
       "      <td>02.Medium</td>\n",
       "      <td>15.0</td>\n",
       "      <td>15.0</td>\n",
       "      <td>No</td>\n",
       "      <td>No</td>\n",
       "      <td>Email Opened</td>\n",
       "    </tr>\n",
       "    <tr>\n",
       "      <th>2</th>\n",
       "      <td>8cc8c611-a219-4f35-ad23-fdfd2656bd8a</td>\n",
       "      <td>660727</td>\n",
       "      <td>Landing Page Submission</td>\n",
       "      <td>Direct Traffic</td>\n",
       "      <td>No</td>\n",
       "      <td>No</td>\n",
       "      <td>1</td>\n",
       "      <td>2.0</td>\n",
       "      <td>1532</td>\n",
       "      <td>2.0</td>\n",
       "      <td>...</td>\n",
       "      <td>No</td>\n",
       "      <td>Potential Lead</td>\n",
       "      <td>Mumbai</td>\n",
       "      <td>02.Medium</td>\n",
       "      <td>01.High</td>\n",
       "      <td>14.0</td>\n",
       "      <td>20.0</td>\n",
       "      <td>No</td>\n",
       "      <td>Yes</td>\n",
       "      <td>Email Opened</td>\n",
       "    </tr>\n",
       "    <tr>\n",
       "      <th>3</th>\n",
       "      <td>0cc2df48-7cf4-4e39-9de9-19797f9b38cc</td>\n",
       "      <td>660719</td>\n",
       "      <td>Landing Page Submission</td>\n",
       "      <td>Direct Traffic</td>\n",
       "      <td>No</td>\n",
       "      <td>No</td>\n",
       "      <td>0</td>\n",
       "      <td>1.0</td>\n",
       "      <td>305</td>\n",
       "      <td>1.0</td>\n",
       "      <td>...</td>\n",
       "      <td>No</td>\n",
       "      <td>Select</td>\n",
       "      <td>Mumbai</td>\n",
       "      <td>02.Medium</td>\n",
       "      <td>01.High</td>\n",
       "      <td>13.0</td>\n",
       "      <td>17.0</td>\n",
       "      <td>No</td>\n",
       "      <td>No</td>\n",
       "      <td>Modified</td>\n",
       "    </tr>\n",
       "    <tr>\n",
       "      <th>4</th>\n",
       "      <td>3256f628-e534-4826-9d63-4a8b88782852</td>\n",
       "      <td>660681</td>\n",
       "      <td>Landing Page Submission</td>\n",
       "      <td>Google</td>\n",
       "      <td>No</td>\n",
       "      <td>No</td>\n",
       "      <td>1</td>\n",
       "      <td>2.0</td>\n",
       "      <td>1428</td>\n",
       "      <td>1.0</td>\n",
       "      <td>...</td>\n",
       "      <td>No</td>\n",
       "      <td>Select</td>\n",
       "      <td>Mumbai</td>\n",
       "      <td>02.Medium</td>\n",
       "      <td>01.High</td>\n",
       "      <td>15.0</td>\n",
       "      <td>18.0</td>\n",
       "      <td>No</td>\n",
       "      <td>No</td>\n",
       "      <td>Modified</td>\n",
       "    </tr>\n",
       "  </tbody>\n",
       "</table>\n",
       "<p>5 rows × 37 columns</p>\n",
       "</div>"
      ],
      "text/plain": [
       "                            Prospect ID  Lead Number              Lead Origin  \\\n",
       "0  7927b2df-8bba-4d29-b9a2-b6e0beafe620       660737                      API   \n",
       "1  2a272436-5132-4136-86fa-dcc88c88f482       660728                      API   \n",
       "2  8cc8c611-a219-4f35-ad23-fdfd2656bd8a       660727  Landing Page Submission   \n",
       "3  0cc2df48-7cf4-4e39-9de9-19797f9b38cc       660719  Landing Page Submission   \n",
       "4  3256f628-e534-4826-9d63-4a8b88782852       660681  Landing Page Submission   \n",
       "\n",
       "      Lead Source Do Not Email Do Not Call  Converted  TotalVisits  \\\n",
       "0      Olark Chat           No          No          0          0.0   \n",
       "1  Organic Search           No          No          0          5.0   \n",
       "2  Direct Traffic           No          No          1          2.0   \n",
       "3  Direct Traffic           No          No          0          1.0   \n",
       "4          Google           No          No          1          2.0   \n",
       "\n",
       "   Total Time Spent on Website  Page Views Per Visit  ...  \\\n",
       "0                            0                   0.0  ...   \n",
       "1                          674                   2.5  ...   \n",
       "2                         1532                   2.0  ...   \n",
       "3                          305                   1.0  ...   \n",
       "4                         1428                   1.0  ...   \n",
       "\n",
       "  Get updates on DM Content    Lead Profile    City  \\\n",
       "0                        No          Select  Select   \n",
       "1                        No          Select  Select   \n",
       "2                        No  Potential Lead  Mumbai   \n",
       "3                        No          Select  Mumbai   \n",
       "4                        No          Select  Mumbai   \n",
       "\n",
       "  Asymmetrique Activity Index Asymmetrique Profile Index  \\\n",
       "0                   02.Medium                  02.Medium   \n",
       "1                   02.Medium                  02.Medium   \n",
       "2                   02.Medium                    01.High   \n",
       "3                   02.Medium                    01.High   \n",
       "4                   02.Medium                    01.High   \n",
       "\n",
       "  Asymmetrique Activity Score Asymmetrique Profile Score  \\\n",
       "0                        15.0                       15.0   \n",
       "1                        15.0                       15.0   \n",
       "2                        14.0                       20.0   \n",
       "3                        13.0                       17.0   \n",
       "4                        15.0                       18.0   \n",
       "\n",
       "  I agree to pay the amount through cheque  \\\n",
       "0                                       No   \n",
       "1                                       No   \n",
       "2                                       No   \n",
       "3                                       No   \n",
       "4                                       No   \n",
       "\n",
       "  A free copy of Mastering The Interview Last Notable Activity  \n",
       "0                                     No              Modified  \n",
       "1                                     No          Email Opened  \n",
       "2                                    Yes          Email Opened  \n",
       "3                                     No              Modified  \n",
       "4                                     No              Modified  \n",
       "\n",
       "[5 rows x 37 columns]"
      ]
     },
     "execution_count": 3,
     "metadata": {},
     "output_type": "execute_result"
    }
   ],
   "source": [
    "#Importing and displaying the dataset.\n",
    "\n",
    "lead = pd.read_csv(\"Leads.csv\")\n",
    "lead.head()"
   ]
  },
  {
   "cell_type": "code",
   "execution_count": 4,
   "id": "bc1b4600-e284-4c34-b8a8-e370fb47e9db",
   "metadata": {},
   "outputs": [
    {
     "data": {
      "text/plain": [
       "(9240, 37)"
      ]
     },
     "execution_count": 4,
     "metadata": {},
     "output_type": "execute_result"
    }
   ],
   "source": [
    "#Inspecting the shape\n",
    "lead.shape"
   ]
  },
  {
   "cell_type": "code",
   "execution_count": 5,
   "id": "9fd48909-1d26-48b0-bddb-d7bb08c449c5",
   "metadata": {},
   "outputs": [
    {
     "data": {
      "text/plain": [
       "Index(['Prospect ID', 'Lead Number', 'Lead Origin', 'Lead Source',\n",
       "       'Do Not Email', 'Do Not Call', 'Converted', 'TotalVisits',\n",
       "       'Total Time Spent on Website', 'Page Views Per Visit', 'Last Activity',\n",
       "       'Country', 'Specialization', 'How did you hear about X Education',\n",
       "       'What is your current occupation',\n",
       "       'What matters most to you in choosing a course', 'Search', 'Magazine',\n",
       "       'Newspaper Article', 'X Education Forums', 'Newspaper',\n",
       "       'Digital Advertisement', 'Through Recommendations',\n",
       "       'Receive More Updates About Our Courses', 'Tags', 'Lead Quality',\n",
       "       'Update me on Supply Chain Content', 'Get updates on DM Content',\n",
       "       'Lead Profile', 'City', 'Asymmetrique Activity Index',\n",
       "       'Asymmetrique Profile Index', 'Asymmetrique Activity Score',\n",
       "       'Asymmetrique Profile Score',\n",
       "       'I agree to pay the amount through cheque',\n",
       "       'A free copy of Mastering The Interview', 'Last Notable Activity'],\n",
       "      dtype='object')"
      ]
     },
     "execution_count": 5,
     "metadata": {},
     "output_type": "execute_result"
    }
   ],
   "source": [
    "#Inspecting the columns\n",
    "lead.columns"
   ]
  },
  {
   "cell_type": "code",
   "execution_count": 6,
   "id": "9bf15a68-4c23-4550-8da2-b7bbf89cbba6",
   "metadata": {},
   "outputs": [
    {
     "data": {
      "text/plain": [
       "Prospect ID                                       object\n",
       "Lead Number                                        int64\n",
       "Lead Origin                                       object\n",
       "Lead Source                                       object\n",
       "Do Not Email                                      object\n",
       "Do Not Call                                       object\n",
       "Converted                                          int64\n",
       "TotalVisits                                      float64\n",
       "Total Time Spent on Website                        int64\n",
       "Page Views Per Visit                             float64\n",
       "Last Activity                                     object\n",
       "Country                                           object\n",
       "Specialization                                    object\n",
       "How did you hear about X Education                object\n",
       "What is your current occupation                   object\n",
       "What matters most to you in choosing a course     object\n",
       "Search                                            object\n",
       "Magazine                                          object\n",
       "Newspaper Article                                 object\n",
       "X Education Forums                                object\n",
       "Newspaper                                         object\n",
       "Digital Advertisement                             object\n",
       "Through Recommendations                           object\n",
       "Receive More Updates About Our Courses            object\n",
       "Tags                                              object\n",
       "Lead Quality                                      object\n",
       "Update me on Supply Chain Content                 object\n",
       "Get updates on DM Content                         object\n",
       "Lead Profile                                      object\n",
       "City                                              object\n",
       "Asymmetrique Activity Index                       object\n",
       "Asymmetrique Profile Index                        object\n",
       "Asymmetrique Activity Score                      float64\n",
       "Asymmetrique Profile Score                       float64\n",
       "I agree to pay the amount through cheque          object\n",
       "A free copy of Mastering The Interview            object\n",
       "Last Notable Activity                             object\n",
       "dtype: object"
      ]
     },
     "execution_count": 6,
     "metadata": {},
     "output_type": "execute_result"
    }
   ],
   "source": [
    "#inspecting the datatypes of variables\n",
    "lead.dtypes"
   ]
  },
  {
   "cell_type": "code",
   "execution_count": 7,
   "id": "c543b290-d658-4da9-aa98-7dbc7d840f89",
   "metadata": {},
   "outputs": [
    {
     "name": "stdout",
     "output_type": "stream",
     "text": [
      "<class 'pandas.core.frame.DataFrame'>\n",
      "RangeIndex: 9240 entries, 0 to 9239\n",
      "Data columns (total 37 columns):\n",
      " #   Column                                         Non-Null Count  Dtype  \n",
      "---  ------                                         --------------  -----  \n",
      " 0   Prospect ID                                    9240 non-null   object \n",
      " 1   Lead Number                                    9240 non-null   int64  \n",
      " 2   Lead Origin                                    9240 non-null   object \n",
      " 3   Lead Source                                    9204 non-null   object \n",
      " 4   Do Not Email                                   9240 non-null   object \n",
      " 5   Do Not Call                                    9240 non-null   object \n",
      " 6   Converted                                      9240 non-null   int64  \n",
      " 7   TotalVisits                                    9103 non-null   float64\n",
      " 8   Total Time Spent on Website                    9240 non-null   int64  \n",
      " 9   Page Views Per Visit                           9103 non-null   float64\n",
      " 10  Last Activity                                  9137 non-null   object \n",
      " 11  Country                                        6779 non-null   object \n",
      " 12  Specialization                                 7802 non-null   object \n",
      " 13  How did you hear about X Education             7033 non-null   object \n",
      " 14  What is your current occupation                6550 non-null   object \n",
      " 15  What matters most to you in choosing a course  6531 non-null   object \n",
      " 16  Search                                         9240 non-null   object \n",
      " 17  Magazine                                       9240 non-null   object \n",
      " 18  Newspaper Article                              9240 non-null   object \n",
      " 19  X Education Forums                             9240 non-null   object \n",
      " 20  Newspaper                                      9240 non-null   object \n",
      " 21  Digital Advertisement                          9240 non-null   object \n",
      " 22  Through Recommendations                        9240 non-null   object \n",
      " 23  Receive More Updates About Our Courses         9240 non-null   object \n",
      " 24  Tags                                           5887 non-null   object \n",
      " 25  Lead Quality                                   4473 non-null   object \n",
      " 26  Update me on Supply Chain Content              9240 non-null   object \n",
      " 27  Get updates on DM Content                      9240 non-null   object \n",
      " 28  Lead Profile                                   6531 non-null   object \n",
      " 29  City                                           7820 non-null   object \n",
      " 30  Asymmetrique Activity Index                    5022 non-null   object \n",
      " 31  Asymmetrique Profile Index                     5022 non-null   object \n",
      " 32  Asymmetrique Activity Score                    5022 non-null   float64\n",
      " 33  Asymmetrique Profile Score                     5022 non-null   float64\n",
      " 34  I agree to pay the amount through cheque       9240 non-null   object \n",
      " 35  A free copy of Mastering The Interview         9240 non-null   object \n",
      " 36  Last Notable Activity                          9240 non-null   object \n",
      "dtypes: float64(4), int64(3), object(30)\n",
      "memory usage: 2.6+ MB\n"
     ]
    }
   ],
   "source": [
    "# checking dataset info \n",
    "lead.info()"
   ]
  },
  {
   "cell_type": "code",
   "execution_count": 8,
   "id": "3e055c66-b3b5-458a-b4b2-4f724429f124",
   "metadata": {},
   "outputs": [
    {
     "data": {
      "text/html": [
       "<div>\n",
       "<style scoped>\n",
       "    .dataframe tbody tr th:only-of-type {\n",
       "        vertical-align: middle;\n",
       "    }\n",
       "\n",
       "    .dataframe tbody tr th {\n",
       "        vertical-align: top;\n",
       "    }\n",
       "\n",
       "    .dataframe thead th {\n",
       "        text-align: right;\n",
       "    }\n",
       "</style>\n",
       "<table border=\"1\" class=\"dataframe\">\n",
       "  <thead>\n",
       "    <tr style=\"text-align: right;\">\n",
       "      <th></th>\n",
       "      <th>Lead Number</th>\n",
       "      <th>Converted</th>\n",
       "      <th>TotalVisits</th>\n",
       "      <th>Total Time Spent on Website</th>\n",
       "      <th>Page Views Per Visit</th>\n",
       "      <th>Asymmetrique Activity Score</th>\n",
       "      <th>Asymmetrique Profile Score</th>\n",
       "    </tr>\n",
       "  </thead>\n",
       "  <tbody>\n",
       "    <tr>\n",
       "      <th>count</th>\n",
       "      <td>9240.000000</td>\n",
       "      <td>9240.000000</td>\n",
       "      <td>9103.000000</td>\n",
       "      <td>9240.000000</td>\n",
       "      <td>9103.000000</td>\n",
       "      <td>5022.000000</td>\n",
       "      <td>5022.000000</td>\n",
       "    </tr>\n",
       "    <tr>\n",
       "      <th>mean</th>\n",
       "      <td>617188.435606</td>\n",
       "      <td>0.385390</td>\n",
       "      <td>3.445238</td>\n",
       "      <td>487.698268</td>\n",
       "      <td>2.362820</td>\n",
       "      <td>14.306252</td>\n",
       "      <td>16.344883</td>\n",
       "    </tr>\n",
       "    <tr>\n",
       "      <th>std</th>\n",
       "      <td>23405.995698</td>\n",
       "      <td>0.486714</td>\n",
       "      <td>4.854853</td>\n",
       "      <td>548.021466</td>\n",
       "      <td>2.161418</td>\n",
       "      <td>1.386694</td>\n",
       "      <td>1.811395</td>\n",
       "    </tr>\n",
       "    <tr>\n",
       "      <th>min</th>\n",
       "      <td>579533.000000</td>\n",
       "      <td>0.000000</td>\n",
       "      <td>0.000000</td>\n",
       "      <td>0.000000</td>\n",
       "      <td>0.000000</td>\n",
       "      <td>7.000000</td>\n",
       "      <td>11.000000</td>\n",
       "    </tr>\n",
       "    <tr>\n",
       "      <th>25%</th>\n",
       "      <td>596484.500000</td>\n",
       "      <td>0.000000</td>\n",
       "      <td>1.000000</td>\n",
       "      <td>12.000000</td>\n",
       "      <td>1.000000</td>\n",
       "      <td>14.000000</td>\n",
       "      <td>15.000000</td>\n",
       "    </tr>\n",
       "    <tr>\n",
       "      <th>50%</th>\n",
       "      <td>615479.000000</td>\n",
       "      <td>0.000000</td>\n",
       "      <td>3.000000</td>\n",
       "      <td>248.000000</td>\n",
       "      <td>2.000000</td>\n",
       "      <td>14.000000</td>\n",
       "      <td>16.000000</td>\n",
       "    </tr>\n",
       "    <tr>\n",
       "      <th>75%</th>\n",
       "      <td>637387.250000</td>\n",
       "      <td>1.000000</td>\n",
       "      <td>5.000000</td>\n",
       "      <td>936.000000</td>\n",
       "      <td>3.000000</td>\n",
       "      <td>15.000000</td>\n",
       "      <td>18.000000</td>\n",
       "    </tr>\n",
       "    <tr>\n",
       "      <th>max</th>\n",
       "      <td>660737.000000</td>\n",
       "      <td>1.000000</td>\n",
       "      <td>251.000000</td>\n",
       "      <td>2272.000000</td>\n",
       "      <td>55.000000</td>\n",
       "      <td>18.000000</td>\n",
       "      <td>20.000000</td>\n",
       "    </tr>\n",
       "  </tbody>\n",
       "</table>\n",
       "</div>"
      ],
      "text/plain": [
       "         Lead Number    Converted  TotalVisits  Total Time Spent on Website  \\\n",
       "count    9240.000000  9240.000000  9103.000000                  9240.000000   \n",
       "mean   617188.435606     0.385390     3.445238                   487.698268   \n",
       "std     23405.995698     0.486714     4.854853                   548.021466   \n",
       "min    579533.000000     0.000000     0.000000                     0.000000   \n",
       "25%    596484.500000     0.000000     1.000000                    12.000000   \n",
       "50%    615479.000000     0.000000     3.000000                   248.000000   \n",
       "75%    637387.250000     1.000000     5.000000                   936.000000   \n",
       "max    660737.000000     1.000000   251.000000                  2272.000000   \n",
       "\n",
       "       Page Views Per Visit  Asymmetrique Activity Score  \\\n",
       "count           9103.000000                  5022.000000   \n",
       "mean               2.362820                    14.306252   \n",
       "std                2.161418                     1.386694   \n",
       "min                0.000000                     7.000000   \n",
       "25%                1.000000                    14.000000   \n",
       "50%                2.000000                    14.000000   \n",
       "75%                3.000000                    15.000000   \n",
       "max               55.000000                    18.000000   \n",
       "\n",
       "       Asymmetrique Profile Score  \n",
       "count                 5022.000000  \n",
       "mean                    16.344883  \n",
       "std                      1.811395  \n",
       "min                     11.000000  \n",
       "25%                     15.000000  \n",
       "50%                     16.000000  \n",
       "75%                     18.000000  \n",
       "max                     20.000000  "
      ]
     },
     "execution_count": 8,
     "metadata": {},
     "output_type": "execute_result"
    }
   ],
   "source": [
    "# checking statistical values of dataset\n",
    "\n",
    "lead.describe()"
   ]
  },
  {
   "cell_type": "markdown",
   "id": "8a5b958b-1102-4b51-ac84-b3903ca779fa",
   "metadata": {},
   "source": [
    "## Data Cleaning"
   ]
  },
  {
   "cell_type": "markdown",
   "id": "7b5388f7-6975-47d4-9861-c1868cc44785",
   "metadata": {},
   "source": [
    "The following steps will be done in data cleaning process :-\n",
    "\n",
    "1. \"Select\" value will be replaced with NaN\n",
    "2. Calculating missing value percentage for each column and dropping score variables.\n",
    "3. Dropping the columns with high percentage of missing values.\n",
    "4. Checking the unique category for each column.\n",
    "5. If the columns is highly skewed with one category,such columns will be dropped. Combining different categories of the columns with \n",
    "   less percentage values into \"Others\" category.\n",
    "6. Imputing the column with least missing values percentage.\n",
    "7. Finally Checking for the number of rows retained after performing all the above steps."
   ]
  },
  {
   "cell_type": "markdown",
   "id": "b65dd6b3-17a1-47d1-b331-2e8934c92891",
   "metadata": {},
   "source": [
    "#### Replace all Select values in the dataframe with np.nan\n",
    "\n",
    "Reason to remove the select variable : Select variable does not provide any information regarding the data, \n",
    "It just means that the user has not answered anything for the particular question and it is better to treat them as missing values."
   ]
  },
  {
   "cell_type": "code",
   "execution_count": 9,
   "id": "4a3849ee-33a8-4b85-bc29-ea79fae009b2",
   "metadata": {},
   "outputs": [
    {
     "data": {
      "text/plain": [
       "Prospect ID                                      False\n",
       "Lead Number                                      False\n",
       "Lead Origin                                      False\n",
       "Lead Source                                      False\n",
       "Do Not Email                                     False\n",
       "Do Not Call                                      False\n",
       "Converted                                        False\n",
       "TotalVisits                                      False\n",
       "Total Time Spent on Website                      False\n",
       "Page Views Per Visit                             False\n",
       "Last Activity                                    False\n",
       "Country                                          False\n",
       "Specialization                                    True\n",
       "How did you hear about X Education                True\n",
       "What is your current occupation                  False\n",
       "What matters most to you in choosing a course    False\n",
       "Search                                           False\n",
       "Magazine                                         False\n",
       "Newspaper Article                                False\n",
       "X Education Forums                               False\n",
       "Newspaper                                        False\n",
       "Digital Advertisement                            False\n",
       "Through Recommendations                          False\n",
       "Receive More Updates About Our Courses           False\n",
       "Tags                                             False\n",
       "Lead Quality                                     False\n",
       "Update me on Supply Chain Content                False\n",
       "Get updates on DM Content                        False\n",
       "Lead Profile                                      True\n",
       "City                                              True\n",
       "Asymmetrique Activity Index                      False\n",
       "Asymmetrique Profile Index                       False\n",
       "Asymmetrique Activity Score                      False\n",
       "Asymmetrique Profile Score                       False\n",
       "I agree to pay the amount through cheque         False\n",
       "A free copy of Mastering The Interview           False\n",
       "Last Notable Activity                            False\n",
       "dtype: bool"
      ]
     },
     "execution_count": 9,
     "metadata": {},
     "output_type": "execute_result"
    }
   ],
   "source": [
    "#Inspecting all the columns with Select variable in the dataframe.\n",
    "\n",
    "colsHavingSelect = lead.isin([\"Select\"]).any()\n",
    "colsHavingSelect"
   ]
  },
  {
   "cell_type": "code",
   "execution_count": 10,
   "id": "d01b19bd-ba6d-41ff-b74b-81fe93151c2e",
   "metadata": {},
   "outputs": [],
   "source": [
    "# Replace all the occurances of the given string to missing values.\n",
    "\n",
    "lead.replace('Select', np.nan,inplace=True)"
   ]
  },
  {
   "cell_type": "markdown",
   "id": "202b558d-c2e2-4feb-921e-88802aa8cc31",
   "metadata": {},
   "source": [
    "#### Calculating the missing value percentage in each column"
   ]
  },
  {
   "cell_type": "code",
   "execution_count": 12,
   "id": "4d68043b-0f27-4c7d-9d33-b7c3b233c1a2",
   "metadata": {},
   "outputs": [
    {
     "data": {
      "text/plain": [
       "Prospect ID                                       0.00\n",
       "Lead Number                                       0.00\n",
       "Lead Origin                                       0.00\n",
       "Lead Source                                       0.39\n",
       "Do Not Email                                      0.00\n",
       "Do Not Call                                       0.00\n",
       "Converted                                         0.00\n",
       "TotalVisits                                       1.48\n",
       "Total Time Spent on Website                       0.00\n",
       "Page Views Per Visit                              1.48\n",
       "Last Activity                                     1.11\n",
       "Country                                          26.63\n",
       "Specialization                                   36.58\n",
       "How did you hear about X Education               78.46\n",
       "What is your current occupation                  29.11\n",
       "What matters most to you in choosing a course    29.32\n",
       "Search                                            0.00\n",
       "Magazine                                          0.00\n",
       "Newspaper Article                                 0.00\n",
       "X Education Forums                                0.00\n",
       "Newspaper                                         0.00\n",
       "Digital Advertisement                             0.00\n",
       "Through Recommendations                           0.00\n",
       "Receive More Updates About Our Courses            0.00\n",
       "Tags                                             36.29\n",
       "Lead Quality                                     51.59\n",
       "Update me on Supply Chain Content                 0.00\n",
       "Get updates on DM Content                         0.00\n",
       "Lead Profile                                     74.19\n",
       "City                                             39.71\n",
       "Asymmetrique Activity Index                      45.65\n",
       "Asymmetrique Profile Index                       45.65\n",
       "Asymmetrique Activity Score                      45.65\n",
       "Asymmetrique Profile Score                       45.65\n",
       "I agree to pay the amount through cheque          0.00\n",
       "A free copy of Mastering The Interview            0.00\n",
       "Last Notable Activity                             0.00\n",
       "dtype: float64"
      ]
     },
     "execution_count": 12,
     "metadata": {},
     "output_type": "execute_result"
    }
   ],
   "source": [
    "#Percentage of missing values in each column.\n",
    "\n",
    "round(lead.isnull().sum() * 100 / len(lead),2)"
   ]
  },
  {
   "cell_type": "markdown",
   "id": "8829afc8-fc4f-4768-8050-1d69124e86bd",
   "metadata": {},
   "source": [
    "### Observation : There are high missing value percentages in many columns and we must remove them."
   ]
  },
  {
   "cell_type": "markdown",
   "id": "c8e72c4a-8b37-4608-a2f8-899f279d85a7",
   "metadata": {},
   "source": [
    "#### Removing (Score variable) all unnecessary information from the dataframe.\n",
    "\n",
    "Reason to remove score variables : Score variable are those variables in the dataframe where the sales team has already contacted the lead, since the lead has already been contacted it does not add more value to our analysis, So we drop these variables.\n",
    "\n",
    "##### Dropping the below score variable first\n",
    "\n",
    "- Tags\n",
    "- Lead Quality\n",
    "- Lead Profile\n",
    "- Asymmetrique Activity Index\n",
    "- Asymmetrique Profile Index\n",
    "- Asymmetrique Activity Score\n",
    "- Asymmetrique Profile Score"
   ]
  },
  {
   "cell_type": "code",
   "execution_count": 13,
   "id": "63af0c1f-5670-4464-9823-dd12ae4287b0",
   "metadata": {},
   "outputs": [],
   "source": [
    "#Dropping all score variables in the dataframe.\n",
    "\n",
    "lead.drop(['Tags','Lead Quality','Lead Profile','Asymmetrique Activity Index',\n",
    "           'Asymmetrique Profile Index','Asymmetrique Activity Score','Asymmetrique Profile Score'],axis=1,inplace=True)"
   ]
  },
  {
   "cell_type": "code",
   "execution_count": 14,
   "id": "4975d066-c45e-42a0-99f9-cc95141eb615",
   "metadata": {},
   "outputs": [
    {
     "data": {
      "text/plain": [
       "Index(['Prospect ID', 'Lead Number', 'Lead Origin', 'Lead Source',\n",
       "       'Do Not Email', 'Do Not Call', 'Converted', 'TotalVisits',\n",
       "       'Total Time Spent on Website', 'Page Views Per Visit', 'Last Activity',\n",
       "       'Country', 'Specialization', 'How did you hear about X Education',\n",
       "       'What is your current occupation',\n",
       "       'What matters most to you in choosing a course', 'Search', 'Magazine',\n",
       "       'Newspaper Article', 'X Education Forums', 'Newspaper',\n",
       "       'Digital Advertisement', 'Through Recommendations',\n",
       "       'Receive More Updates About Our Courses',\n",
       "       'Update me on Supply Chain Content', 'Get updates on DM Content',\n",
       "       'City', 'I agree to pay the amount through cheque',\n",
       "       'A free copy of Mastering The Interview', 'Last Notable Activity'],\n",
       "      dtype='object')"
      ]
     },
     "execution_count": 14,
     "metadata": {},
     "output_type": "execute_result"
    }
   ],
   "source": [
    "# verifying that the columns are removed or not\n",
    "\n",
    "lead.columns"
   ]
  },
  {
   "cell_type": "code",
   "execution_count": 15,
   "id": "1b7d6051-d4b4-46e9-b910-9e2a7743d254",
   "metadata": {},
   "outputs": [],
   "source": [
    "# Also remove the 'Last Notable Activity' column as this column is recorded once the Sales team is in contact with the lead.\n",
    "\n",
    "lead.drop('Last Notable Activity', axis = 1, inplace=True)"
   ]
  },
  {
   "cell_type": "code",
   "execution_count": 16,
   "id": "0b8733f5-c90d-4780-ab92-ea24e71aec5c",
   "metadata": {},
   "outputs": [
    {
     "data": {
      "text/plain": [
       "Prospect ID                                       0.00\n",
       "Lead Number                                       0.00\n",
       "Lead Origin                                       0.00\n",
       "Lead Source                                       0.39\n",
       "Do Not Email                                      0.00\n",
       "Do Not Call                                       0.00\n",
       "Converted                                         0.00\n",
       "TotalVisits                                       1.48\n",
       "Total Time Spent on Website                       0.00\n",
       "Page Views Per Visit                              1.48\n",
       "Last Activity                                     1.11\n",
       "Country                                          26.63\n",
       "Specialization                                   36.58\n",
       "How did you hear about X Education               78.46\n",
       "What is your current occupation                  29.11\n",
       "What matters most to you in choosing a course    29.32\n",
       "Search                                            0.00\n",
       "Magazine                                          0.00\n",
       "Newspaper Article                                 0.00\n",
       "X Education Forums                                0.00\n",
       "Newspaper                                         0.00\n",
       "Digital Advertisement                             0.00\n",
       "Through Recommendations                           0.00\n",
       "Receive More Updates About Our Courses            0.00\n",
       "Update me on Supply Chain Content                 0.00\n",
       "Get updates on DM Content                         0.00\n",
       "City                                             39.71\n",
       "I agree to pay the amount through cheque          0.00\n",
       "A free copy of Mastering The Interview            0.00\n",
       "dtype: float64"
      ]
     },
     "execution_count": 16,
     "metadata": {},
     "output_type": "execute_result"
    }
   ],
   "source": [
    "# Again checking the percentage of missing values in dataset\n",
    "\n",
    "round(lead.isnull().sum() * 100 / len(lead),2)"
   ]
  },
  {
   "cell_type": "markdown",
   "id": "4a0f6be2-abcd-4192-97e0-910fac412770",
   "metadata": {},
   "source": [
    "#### Drop columns that has missing value percentage of greater that or equals to 38%."
   ]
  },
  {
   "cell_type": "code",
   "execution_count": 18,
   "id": "c1582d75-3866-4549-b42a-5b75aedbd86e",
   "metadata": {},
   "outputs": [],
   "source": [
    "#Dropping all columns having a missing value percentage greater than 38%.\n",
    "\n",
    "lead = lead.drop(lead.loc[:,list((100*(lead.isnull().sum()/len(lead.index))>=38))].columns, axis=1)"
   ]
  },
  {
   "cell_type": "code",
   "execution_count": 19,
   "id": "61cd6ea7-3c8d-480a-bed3-d02cf437222f",
   "metadata": {},
   "outputs": [
    {
     "data": {
      "text/plain": [
       "Prospect ID                                       0.00\n",
       "Lead Number                                       0.00\n",
       "Lead Origin                                       0.00\n",
       "Lead Source                                       0.39\n",
       "Do Not Email                                      0.00\n",
       "Do Not Call                                       0.00\n",
       "Converted                                         0.00\n",
       "TotalVisits                                       1.48\n",
       "Total Time Spent on Website                       0.00\n",
       "Page Views Per Visit                              1.48\n",
       "Last Activity                                     1.11\n",
       "Country                                          26.63\n",
       "Specialization                                   36.58\n",
       "What is your current occupation                  29.11\n",
       "What matters most to you in choosing a course    29.32\n",
       "Search                                            0.00\n",
       "Magazine                                          0.00\n",
       "Newspaper Article                                 0.00\n",
       "X Education Forums                                0.00\n",
       "Newspaper                                         0.00\n",
       "Digital Advertisement                             0.00\n",
       "Through Recommendations                           0.00\n",
       "Receive More Updates About Our Courses            0.00\n",
       "Update me on Supply Chain Content                 0.00\n",
       "Get updates on DM Content                         0.00\n",
       "I agree to pay the amount through cheque          0.00\n",
       "A free copy of Mastering The Interview            0.00\n",
       "dtype: float64"
      ]
     },
     "execution_count": 19,
     "metadata": {},
     "output_type": "execute_result"
    }
   ],
   "source": [
    "#Percentage of missing values in each column.\n",
    "\n",
    "round(lead.isnull().sum() * 100 / len(lead),2)"
   ]
  },
  {
   "cell_type": "markdown",
   "id": "95ac4780-8399-4361-a167-9bb52bc46802",
   "metadata": {},
   "source": [
    "### Checking for unique category"
   ]
  },
  {
   "cell_type": "code",
   "execution_count": 20,
   "id": "068cdca7-60f0-4928-98b3-5bd4090282ae",
   "metadata": {},
   "outputs": [
    {
     "data": {
      "text/plain": [
       "Lead Origin\n",
       "Landing Page Submission    0.528788\n",
       "API                        0.387446\n",
       "Lead Add Form              0.077706\n",
       "Lead Import                0.005952\n",
       "Quick Add Form             0.000108\n",
       "Name: proportion, dtype: float64"
      ]
     },
     "execution_count": 20,
     "metadata": {},
     "output_type": "execute_result"
    }
   ],
   "source": [
    "# Checking uniqueness in all categorical variables\n",
    "\n",
    "lead['Lead Origin'].value_counts(normalize=True)"
   ]
  },
  {
   "cell_type": "code",
   "execution_count": 21,
   "id": "f1fe3268-c7e8-4c4a-8af1-1483a41f46fd",
   "metadata": {},
   "outputs": [
    {
     "data": {
      "text/plain": [
       "Lead Source\n",
       "Google               0.311604\n",
       "Direct Traffic       0.276293\n",
       "Olark Chat           0.190678\n",
       "Organic Search       0.125380\n",
       "Reference            0.058018\n",
       "Welingak Website     0.015428\n",
       "Referral Sites       0.013581\n",
       "Facebook             0.005976\n",
       "bing                 0.000652\n",
       "google               0.000543\n",
       "Click2call           0.000435\n",
       "Press_Release        0.000217\n",
       "Social Media         0.000217\n",
       "Live Chat            0.000217\n",
       "youtubechannel       0.000109\n",
       "testone              0.000109\n",
       "Pay per Click Ads    0.000109\n",
       "welearnblog_Home     0.000109\n",
       "WeLearn              0.000109\n",
       "blog                 0.000109\n",
       "NC_EDM               0.000109\n",
       "Name: proportion, dtype: float64"
      ]
     },
     "execution_count": 21,
     "metadata": {},
     "output_type": "execute_result"
    }
   ],
   "source": [
    "# Checking uniqueness in all categorical variables\n",
    "\n",
    "lead['Lead Source'].value_counts(normalize=True)"
   ]
  },
  {
   "cell_type": "code",
   "execution_count": 22,
   "id": "ac14441a-ddd3-4354-a446-a3ff23e3c378",
   "metadata": {},
   "outputs": [
    {
     "data": {
      "text/plain": [
       "Do Not Email\n",
       "No     0.920563\n",
       "Yes    0.079437\n",
       "Name: proportion, dtype: float64"
      ]
     },
     "execution_count": 22,
     "metadata": {},
     "output_type": "execute_result"
    }
   ],
   "source": [
    "# Checking uniqueness in all categorical variables\n",
    "\n",
    "lead['Do Not Email'].value_counts(normalize=True)"
   ]
  },
  {
   "cell_type": "code",
   "execution_count": 23,
   "id": "8aaf6c22-a50f-4eb2-87b8-bbf8d1b54652",
   "metadata": {},
   "outputs": [
    {
     "data": {
      "text/plain": [
       "Do Not Call\n",
       "No     0.999784\n",
       "Yes    0.000216\n",
       "Name: proportion, dtype: float64"
      ]
     },
     "execution_count": 23,
     "metadata": {},
     "output_type": "execute_result"
    }
   ],
   "source": [
    "# Checking uniqueness in all categorical variables\n",
    "\n",
    "lead['Do Not Call'].value_counts(normalize=True)"
   ]
  },
  {
   "cell_type": "code",
   "execution_count": 24,
   "id": "d1b9e4cd-2a1d-4021-990f-5402cfd32e6e",
   "metadata": {},
   "outputs": [
    {
     "data": {
      "text/plain": [
       "Last Activity\n",
       "Email Opened                    0.376163\n",
       "SMS Sent                        0.300427\n",
       "Olark Chat Conversation         0.106490\n",
       "Page Visited on Website         0.070045\n",
       "Converted to Lead               0.046843\n",
       "Email Bounced                   0.035679\n",
       "Email Link Clicked              0.029222\n",
       "Form Submitted on Website       0.012696\n",
       "Unreachable                     0.010178\n",
       "Unsubscribed                    0.006676\n",
       "Had a Phone Conversation        0.003283\n",
       "Approached upfront              0.000985\n",
       "View in browser link Clicked    0.000657\n",
       "Email Received                  0.000219\n",
       "Email Marked Spam               0.000219\n",
       "Visited Booth in Tradeshow      0.000109\n",
       "Resubscribed to emails          0.000109\n",
       "Name: proportion, dtype: float64"
      ]
     },
     "execution_count": 24,
     "metadata": {},
     "output_type": "execute_result"
    }
   ],
   "source": [
    "# Checking uniqueness in all categorical variables\n",
    "\n",
    "lead['Last Activity'].value_counts(normalize=True)"
   ]
  },
  {
   "cell_type": "code",
   "execution_count": 25,
   "id": "0b7b80e5-b006-4277-844f-da5a9957f789",
   "metadata": {},
   "outputs": [
    {
     "data": {
      "text/plain": [
       "Country\n",
       "India                   0.957663\n",
       "United States           0.010178\n",
       "United Arab Emirates    0.007818\n",
       "Singapore               0.003540\n",
       "Saudi Arabia            0.003098\n",
       "United Kingdom          0.002213\n",
       "Australia               0.001918\n",
       "Qatar                   0.001475\n",
       "Hong Kong               0.001033\n",
       "Bahrain                 0.001033\n",
       "Oman                    0.000885\n",
       "France                  0.000885\n",
       "unknown                 0.000738\n",
       "South Africa            0.000590\n",
       "Nigeria                 0.000590\n",
       "Germany                 0.000590\n",
       "Kuwait                  0.000590\n",
       "Canada                  0.000590\n",
       "Sweden                  0.000443\n",
       "China                   0.000295\n",
       "Asia/Pacific Region     0.000295\n",
       "Uganda                  0.000295\n",
       "Bangladesh              0.000295\n",
       "Italy                   0.000295\n",
       "Belgium                 0.000295\n",
       "Netherlands             0.000295\n",
       "Ghana                   0.000295\n",
       "Philippines             0.000295\n",
       "Russia                  0.000148\n",
       "Switzerland             0.000148\n",
       "Vietnam                 0.000148\n",
       "Denmark                 0.000148\n",
       "Tanzania                0.000148\n",
       "Liberia                 0.000148\n",
       "Malaysia                0.000148\n",
       "Kenya                   0.000148\n",
       "Sri Lanka               0.000148\n",
       "Indonesia               0.000148\n",
       "Name: proportion, dtype: float64"
      ]
     },
     "execution_count": 25,
     "metadata": {},
     "output_type": "execute_result"
    }
   ],
   "source": [
    "# Checking uniqueness in all categorical variables\n",
    "\n",
    "lead['Country'].value_counts(normalize=True)"
   ]
  },
  {
   "cell_type": "code",
   "execution_count": 26,
   "id": "9eba05cb-90a9-45e5-9692-8f584f9c9a1e",
   "metadata": {},
   "outputs": [
    {
     "data": {
      "text/plain": [
       "Specialization\n",
       "Finance Management                   0.166553\n",
       "Human Resource Management            0.144710\n",
       "Marketing Management                 0.143003\n",
       "Operations Management                0.085836\n",
       "Business Administration              0.068771\n",
       "IT Projects Management               0.062457\n",
       "Supply Chain Management              0.059556\n",
       "Banking, Investment And Insurance    0.057679\n",
       "Travel and Tourism                   0.034642\n",
       "Media and Advertising                0.034642\n",
       "International Business               0.030375\n",
       "Healthcare Management                0.027133\n",
       "Hospitality Management               0.019454\n",
       "E-COMMERCE                           0.019113\n",
       "Retail Management                    0.017065\n",
       "Rural and Agribusiness               0.012457\n",
       "E-Business                           0.009727\n",
       "Services Excellence                  0.006826\n",
       "Name: proportion, dtype: float64"
      ]
     },
     "execution_count": 26,
     "metadata": {},
     "output_type": "execute_result"
    }
   ],
   "source": [
    "# Checking uniqueness in all categorical variables\n",
    "\n",
    "lead['Specialization'].value_counts(normalize=True)"
   ]
  },
  {
   "cell_type": "code",
   "execution_count": 27,
   "id": "7775bbf5-b913-4d7b-93cf-ac9820de3c86",
   "metadata": {},
   "outputs": [
    {
     "data": {
      "text/plain": [
       "What is your current occupation\n",
       "Unemployed              0.854962\n",
       "Working Professional    0.107786\n",
       "Student                 0.032061\n",
       "Other                   0.002443\n",
       "Housewife               0.001527\n",
       "Businessman             0.001221\n",
       "Name: proportion, dtype: float64"
      ]
     },
     "execution_count": 27,
     "metadata": {},
     "output_type": "execute_result"
    }
   ],
   "source": [
    "# Checking uniqueness in all categorical variables\n",
    "\n",
    "lead['What is your current occupation'].value_counts(normalize=True)"
   ]
  },
  {
   "cell_type": "code",
   "execution_count": 28,
   "id": "5a18d8e2-e22e-4242-9959-a228c81c9794",
   "metadata": {},
   "outputs": [
    {
     "data": {
      "text/plain": [
       "What matters most to you in choosing a course\n",
       "Better Career Prospects      0.999541\n",
       "Flexibility & Convenience    0.000306\n",
       "Other                        0.000153\n",
       "Name: proportion, dtype: float64"
      ]
     },
     "execution_count": 28,
     "metadata": {},
     "output_type": "execute_result"
    }
   ],
   "source": [
    "# Checking uniqueness in all categorical variables\n",
    "\n",
    "lead['What matters most to you in choosing a course'].value_counts(normalize=True) "
   ]
  },
  {
   "cell_type": "code",
   "execution_count": 29,
   "id": "fd1329fb-d741-4062-a469-62c5b873ba07",
   "metadata": {},
   "outputs": [
    {
     "data": {
      "text/plain": [
       "Search\n",
       "No     0.998485\n",
       "Yes    0.001515\n",
       "Name: proportion, dtype: float64"
      ]
     },
     "execution_count": 29,
     "metadata": {},
     "output_type": "execute_result"
    }
   ],
   "source": [
    "# Checking uniqueness in all categorical variables\n",
    "\n",
    "lead['Search'].value_counts(normalize=True) "
   ]
  },
  {
   "cell_type": "code",
   "execution_count": 30,
   "id": "a2f7a51a-ee26-49c5-83a9-d983f3033097",
   "metadata": {},
   "outputs": [
    {
     "data": {
      "text/plain": [
       "Magazine\n",
       "No    1.0\n",
       "Name: proportion, dtype: float64"
      ]
     },
     "execution_count": 30,
     "metadata": {},
     "output_type": "execute_result"
    }
   ],
   "source": [
    "# Checking uniqueness in all categorical variables\n",
    "\n",
    "lead['Magazine'].value_counts(normalize=True) "
   ]
  },
  {
   "cell_type": "code",
   "execution_count": 31,
   "id": "f79a4f57-c83c-4fa7-96fe-584a8a13ac1d",
   "metadata": {},
   "outputs": [
    {
     "data": {
      "text/plain": [
       "Newspaper Article\n",
       "No     0.999784\n",
       "Yes    0.000216\n",
       "Name: proportion, dtype: float64"
      ]
     },
     "execution_count": 31,
     "metadata": {},
     "output_type": "execute_result"
    }
   ],
   "source": [
    "# Checking uniqueness in all categorical variables\n",
    "\n",
    "lead['Newspaper Article'].value_counts(normalize=True) "
   ]
  },
  {
   "cell_type": "code",
   "execution_count": 32,
   "id": "32008860-6dc0-42b6-858e-d28f1bfb4875",
   "metadata": {},
   "outputs": [
    {
     "data": {
      "text/plain": [
       "X Education Forums\n",
       "No     0.999892\n",
       "Yes    0.000108\n",
       "Name: proportion, dtype: float64"
      ]
     },
     "execution_count": 32,
     "metadata": {},
     "output_type": "execute_result"
    }
   ],
   "source": [
    "# Checking uniqueness in all categorical variables\n",
    "\n",
    "lead['X Education Forums'].value_counts(normalize=True) "
   ]
  },
  {
   "cell_type": "code",
   "execution_count": 33,
   "id": "9a8d8cb9-e585-4263-845b-c86ca2e21a6a",
   "metadata": {},
   "outputs": [
    {
     "data": {
      "text/plain": [
       "Digital Advertisement\n",
       "No     0.999567\n",
       "Yes    0.000433\n",
       "Name: proportion, dtype: float64"
      ]
     },
     "execution_count": 33,
     "metadata": {},
     "output_type": "execute_result"
    }
   ],
   "source": [
    "# Checking uniqueness in all categorical variables\n",
    "\n",
    "lead['Digital Advertisement'].value_counts(normalize=True) "
   ]
  },
  {
   "cell_type": "code",
   "execution_count": 34,
   "id": "0c0ac71c-7b23-4a50-bbb6-a97d7c449206",
   "metadata": {},
   "outputs": [
    {
     "data": {
      "text/plain": [
       "Through Recommendations\n",
       "No     0.999242\n",
       "Yes    0.000758\n",
       "Name: proportion, dtype: float64"
      ]
     },
     "execution_count": 34,
     "metadata": {},
     "output_type": "execute_result"
    }
   ],
   "source": [
    "# Checking uniqueness in all categorical variables\n",
    "\n",
    "lead['Through Recommendations'].value_counts(normalize=True) "
   ]
  },
  {
   "cell_type": "code",
   "execution_count": 35,
   "id": "ca059fba-f586-462e-a2ce-129ee9185382",
   "metadata": {},
   "outputs": [
    {
     "data": {
      "text/plain": [
       "Receive More Updates About Our Courses\n",
       "No    1.0\n",
       "Name: proportion, dtype: float64"
      ]
     },
     "execution_count": 35,
     "metadata": {},
     "output_type": "execute_result"
    }
   ],
   "source": [
    "# Checking uniqueness in all categorical variables\n",
    "\n",
    "lead['Receive More Updates About Our Courses'].value_counts(normalize=True) "
   ]
  },
  {
   "cell_type": "code",
   "execution_count": 36,
   "id": "1f0629ce-fb5f-4c49-9bfc-dd5149cfe1d0",
   "metadata": {},
   "outputs": [
    {
     "data": {
      "text/plain": [
       "Get updates on DM Content\n",
       "No    1.0\n",
       "Name: proportion, dtype: float64"
      ]
     },
     "execution_count": 36,
     "metadata": {},
     "output_type": "execute_result"
    }
   ],
   "source": [
    "# Checking uniqueness in all categorical variables\n",
    "\n",
    "lead['Get updates on DM Content'].value_counts(normalize=True) "
   ]
  },
  {
   "cell_type": "code",
   "execution_count": 37,
   "id": "00ab2d55-e0d4-498e-b436-0e22c21652db",
   "metadata": {},
   "outputs": [
    {
     "data": {
      "text/plain": [
       "Update me on Supply Chain Content\n",
       "No    1.0\n",
       "Name: proportion, dtype: float64"
      ]
     },
     "execution_count": 37,
     "metadata": {},
     "output_type": "execute_result"
    }
   ],
   "source": [
    "# Checking uniqueness in all categorical variable\n",
    "\n",
    "lead['Update me on Supply Chain Content'].value_counts(normalize=True) "
   ]
  },
  {
   "cell_type": "code",
   "execution_count": 38,
   "id": "b679dd8d-1ce3-4651-8a30-1adfcd20fb9d",
   "metadata": {},
   "outputs": [
    {
     "data": {
      "text/plain": [
       "I agree to pay the amount through cheque\n",
       "No    1.0\n",
       "Name: proportion, dtype: float64"
      ]
     },
     "execution_count": 38,
     "metadata": {},
     "output_type": "execute_result"
    }
   ],
   "source": [
    "# Checking uniqueness in all categorical variable\n",
    "\n",
    "lead['I agree to pay the amount through cheque'].value_counts(normalize=True) "
   ]
  },
  {
   "cell_type": "code",
   "execution_count": 39,
   "id": "d13ea047-8bfb-4984-9e97-8d5fa8a905ab",
   "metadata": {},
   "outputs": [
    {
     "data": {
      "text/plain": [
       "A free copy of Mastering The Interview\n",
       "No     0.687446\n",
       "Yes    0.312554\n",
       "Name: proportion, dtype: float64"
      ]
     },
     "execution_count": 39,
     "metadata": {},
     "output_type": "execute_result"
    }
   ],
   "source": [
    "# Checking uniqueness in all categorical variable\n",
    "\n",
    "lead['A free copy of Mastering The Interview'].value_counts(normalize=True) "
   ]
  },
  {
   "cell_type": "markdown",
   "id": "b3627009-7096-4f70-ae46-976a4c21d156",
   "metadata": {},
   "source": [
    "### Dropping Highly Skewed Columns"
   ]
  },
  {
   "cell_type": "markdown",
   "id": "f492a179-47eb-4471-ab63-cc66a5863a8f",
   "metadata": {},
   "source": [
    "#### Dropping highky skewed columns is important because : there is a high data imbalance amongst the columns and it does not add more value to model building.\n",
    "\n",
    "#### Following Columns To Be Drop:\n",
    "- Do Not Email\n",
    "- Do Not Call\n",
    "- Country\n",
    "- What matters most to you in choosing a course\n",
    "- Search\n",
    "- Magazine\n",
    "- Newspaper Article\n",
    "- X Education Forums\n",
    "- Newspaper\n",
    "- Digital Advertisement\n",
    "- Through Recommendations\n",
    "- Receive More Updates About Our Courses\n",
    "- Update me on Supply Chain Content\n",
    "- Get updates on DM Content\n",
    "- I agree to pay the amount through cheque"
   ]
  },
  {
   "cell_type": "code",
   "execution_count": 40,
   "id": "8e825566-a02d-4fc6-9ace-d4d4c7a21cc1",
   "metadata": {},
   "outputs": [],
   "source": [
    "# Using drop to remove columns with high data imbalance \n",
    "\n",
    "lead.drop(['Do Not Email','Do Not Call','Country','What matters most to you in choosing a course', \n",
    "            'Search','Magazine','Newspaper Article', 'X Education Forums','Newspaper','Digital Advertisement','Through Recommendations',\n",
    "            'Receive More Updates About Our Courses', 'Update me on Supply Chain Content','Get updates on DM Content', \n",
    "            'I agree to pay the amount through cheque'], axis=1, inplace=True)"
   ]
  },
  {
   "cell_type": "code",
   "execution_count": 41,
   "id": "68329031-7616-4594-b0ac-ad3928e14879",
   "metadata": {},
   "outputs": [
    {
     "data": {
      "text/plain": [
       "Index(['Prospect ID', 'Lead Number', 'Lead Origin', 'Lead Source', 'Converted',\n",
       "       'TotalVisits', 'Total Time Spent on Website', 'Page Views Per Visit',\n",
       "       'Last Activity', 'Specialization', 'What is your current occupation',\n",
       "       'A free copy of Mastering The Interview'],\n",
       "      dtype='object')"
      ]
     },
     "execution_count": 41,
     "metadata": {},
     "output_type": "execute_result"
    }
   ],
   "source": [
    "# Inspecting to check if the columns have been deleted carefully.\n",
    "\n",
    "lead.columns"
   ]
  },
  {
   "cell_type": "code",
   "execution_count": 42,
   "id": "2d354968-96dc-4a26-8a89-c5a0ff4e2bca",
   "metadata": {},
   "outputs": [
    {
     "data": {
      "text/plain": [
       "Prospect ID                                0.00\n",
       "Lead Number                                0.00\n",
       "Lead Origin                                0.00\n",
       "Lead Source                                0.39\n",
       "Converted                                  0.00\n",
       "TotalVisits                                1.48\n",
       "Total Time Spent on Website                0.00\n",
       "Page Views Per Visit                       1.48\n",
       "Last Activity                              1.11\n",
       "Specialization                            36.58\n",
       "What is your current occupation           29.11\n",
       "A free copy of Mastering The Interview     0.00\n",
       "dtype: float64"
      ]
     },
     "execution_count": 42,
     "metadata": {},
     "output_type": "execute_result"
    }
   ],
   "source": [
    "# Percentage of missing values in each column.\n",
    "\n",
    "round(lead.isnull().sum() * 100 / len(lead),2)"
   ]
  },
  {
   "cell_type": "code",
   "execution_count": 43,
   "id": "a6fa65c1-c14a-4566-837f-c192851764be",
   "metadata": {},
   "outputs": [
    {
     "data": {
      "text/plain": [
       "(9240, 12)"
      ]
     },
     "execution_count": 43,
     "metadata": {},
     "output_type": "execute_result"
    }
   ],
   "source": [
    "# checking shape of the data set\n",
    "\n",
    "lead.shape"
   ]
  },
  {
   "cell_type": "markdown",
   "id": "c8e19239-74ff-4e06-bfd8-0ef61f97003c",
   "metadata": {},
   "source": [
    "### Combining columns having low percentages into one single column.\n",
    "#### Following are the columns in which categories are to be combined and form \"Others\" category :-\n",
    "\n",
    "- Lead Origin\n",
    "- Lead Source\n",
    "- Last Activity\n",
    "- Specialization\n",
    "- What is your current occupation"
   ]
  },
  {
   "cell_type": "code",
   "execution_count": 44,
   "id": "144c18ca-e028-43c5-b757-6abfcbd8fb9f",
   "metadata": {},
   "outputs": [
    {
     "data": {
      "text/plain": [
       "Lead Origin\n",
       "Landing Page Submission    0.528788\n",
       "API                        0.387446\n",
       "Lead Add Form              0.077706\n",
       "Lead Import                0.005952\n",
       "Quick Add Form             0.000108\n",
       "Name: proportion, dtype: float64"
      ]
     },
     "execution_count": 44,
     "metadata": {},
     "output_type": "execute_result"
    }
   ],
   "source": [
    "# Inspecting the column again\n",
    "\n",
    "lead['Lead Origin'].value_counts(normalize=True)"
   ]
  },
  {
   "cell_type": "code",
   "execution_count": 45,
   "id": "2e3b1e4d-5dc3-4731-8d3d-4e9bfa72253d",
   "metadata": {},
   "outputs": [],
   "source": [
    "# Combining categories with very low row percentages as it does not make sense to create dummies for such rows.\n",
    "\n",
    "lead['Lead Origin'] = lead['Lead Origin'].replace(['Lead Import','Quick Add Form'] ,'Others')"
   ]
  },
  {
   "cell_type": "code",
   "execution_count": 46,
   "id": "5263ec17-94e8-4e30-8ba2-f176626d018a",
   "metadata": {},
   "outputs": [
    {
     "data": {
      "text/plain": [
       "Lead Origin\n",
       "Landing Page Submission    0.528788\n",
       "API                        0.387446\n",
       "Lead Add Form              0.077706\n",
       "Others                     0.006061\n",
       "Name: proportion, dtype: float64"
      ]
     },
     "execution_count": 46,
     "metadata": {},
     "output_type": "execute_result"
    }
   ],
   "source": [
    "# Checking if the category has been correctly replaced. \n",
    "\n",
    "lead['Lead Origin'].value_counts(normalize=True) "
   ]
  },
  {
   "cell_type": "code",
   "execution_count": 47,
   "id": "da066fed-373a-4317-ae07-0ff229b16717",
   "metadata": {},
   "outputs": [
    {
     "data": {
      "text/plain": [
       "Lead Source\n",
       "Google               0.311604\n",
       "Direct Traffic       0.276293\n",
       "Olark Chat           0.190678\n",
       "Organic Search       0.125380\n",
       "Reference            0.058018\n",
       "Welingak Website     0.015428\n",
       "Referral Sites       0.013581\n",
       "Facebook             0.005976\n",
       "bing                 0.000652\n",
       "google               0.000543\n",
       "Click2call           0.000435\n",
       "Press_Release        0.000217\n",
       "Social Media         0.000217\n",
       "Live Chat            0.000217\n",
       "youtubechannel       0.000109\n",
       "testone              0.000109\n",
       "Pay per Click Ads    0.000109\n",
       "welearnblog_Home     0.000109\n",
       "WeLearn              0.000109\n",
       "blog                 0.000109\n",
       "NC_EDM               0.000109\n",
       "Name: proportion, dtype: float64"
      ]
     },
     "execution_count": 47,
     "metadata": {},
     "output_type": "execute_result"
    }
   ],
   "source": [
    "#Inspecting Lead Source column.\n",
    "\n",
    "lead['Lead Source'].value_counts(normalize=True) "
   ]
  },
  {
   "cell_type": "code",
   "execution_count": 50,
   "id": "68ef3252-c301-4245-8e30-16758195903e",
   "metadata": {},
   "outputs": [],
   "source": [
    "# Combining categories\n",
    "\n",
    "lead['Lead Source'] = lead['Lead Source'].replace(['Welingak Website','Referral Sites','Facebook','bing','google','Click2call', \n",
    "                                                   'Press_Release','Social Media','Live Chat','Pay per Click Ads','blog','WeLearn',\n",
    "                                                   'youtubechannel','testone','NC_EDM' ,'welearnblog_Home'] ,'Others')"
   ]
  },
  {
   "cell_type": "code",
   "execution_count": 51,
   "id": "367b9d9d-1d07-46fc-b628-a60ef2c28421",
   "metadata": {},
   "outputs": [
    {
     "data": {
      "text/plain": [
       "Lead Source\n",
       "Google            0.311604\n",
       "Direct Traffic    0.276293\n",
       "Olark Chat        0.190678\n",
       "Organic Search    0.125380\n",
       "Reference         0.058018\n",
       "Others            0.038027\n",
       "Name: proportion, dtype: float64"
      ]
     },
     "execution_count": 51,
     "metadata": {},
     "output_type": "execute_result"
    }
   ],
   "source": [
    "# Inspecting Lead Source column.\n",
    "\n",
    "lead['Lead Source'].value_counts(normalize=True) "
   ]
  },
  {
   "cell_type": "code",
   "execution_count": 52,
   "id": "da7e9485-5b9d-4733-a862-3a39fe0b9a07",
   "metadata": {},
   "outputs": [
    {
     "data": {
      "text/plain": [
       "Last Activity\n",
       "Email Opened                    0.376163\n",
       "SMS Sent                        0.300427\n",
       "Olark Chat Conversation         0.106490\n",
       "Page Visited on Website         0.070045\n",
       "Converted to Lead               0.046843\n",
       "Email Bounced                   0.035679\n",
       "Email Link Clicked              0.029222\n",
       "Form Submitted on Website       0.012696\n",
       "Unreachable                     0.010178\n",
       "Unsubscribed                    0.006676\n",
       "Had a Phone Conversation        0.003283\n",
       "Approached upfront              0.000985\n",
       "View in browser link Clicked    0.000657\n",
       "Email Received                  0.000219\n",
       "Email Marked Spam               0.000219\n",
       "Visited Booth in Tradeshow      0.000109\n",
       "Resubscribed to emails          0.000109\n",
       "Name: proportion, dtype: float64"
      ]
     },
     "execution_count": 52,
     "metadata": {},
     "output_type": "execute_result"
    }
   ],
   "source": [
    "# Inspecting 'Last Activity' column\n",
    "\n",
    "lead['Last Activity'].value_counts(normalize=True) "
   ]
  },
  {
   "cell_type": "code",
   "execution_count": 53,
   "id": "49b878da-9875-466a-8001-fd70eeaa7c6c",
   "metadata": {},
   "outputs": [],
   "source": [
    "#Combining together to form 'Others' Categories. \n",
    "\n",
    "lead['Last Activity']=lead['Last Activity'].replace(['Form Submitted on Website',\n",
    "        'Unreachable', 'Unsubscribed', 'Had a Phone Conversation', 'Approached upfront', 'View in browser link Clicked',\n",
    "        'Email Received', 'Email Marked Spam', 'Visited Booth in Tradeshow', 'Resubscribed to emails'],'Others') "
   ]
  },
  {
   "cell_type": "code",
   "execution_count": 54,
   "id": "96dab01e-37d0-4e9c-bccc-1d4f3eca0786",
   "metadata": {},
   "outputs": [
    {
     "data": {
      "text/plain": [
       "Last Activity\n",
       "Email Opened               0.376163\n",
       "SMS Sent                   0.300427\n",
       "Olark Chat Conversation    0.106490\n",
       "Page Visited on Website    0.070045\n",
       "Converted to Lead          0.046843\n",
       "Email Bounced              0.035679\n",
       "Others                     0.035132\n",
       "Email Link Clicked         0.029222\n",
       "Name: proportion, dtype: float64"
      ]
     },
     "execution_count": 54,
     "metadata": {},
     "output_type": "execute_result"
    }
   ],
   "source": [
    "# Inspecting 'Last Activity' column\n",
    "\n",
    "lead['Last Activity'].value_counts(normalize=True) "
   ]
  },
  {
   "cell_type": "code",
   "execution_count": 55,
   "id": "aee98049-cf45-45cb-855d-9b4bbd8bc6c0",
   "metadata": {},
   "outputs": [
    {
     "data": {
      "text/plain": [
       "Specialization\n",
       "Finance Management                   0.166553\n",
       "Human Resource Management            0.144710\n",
       "Marketing Management                 0.143003\n",
       "Operations Management                0.085836\n",
       "Business Administration              0.068771\n",
       "IT Projects Management               0.062457\n",
       "Supply Chain Management              0.059556\n",
       "Banking, Investment And Insurance    0.057679\n",
       "Travel and Tourism                   0.034642\n",
       "Media and Advertising                0.034642\n",
       "International Business               0.030375\n",
       "Healthcare Management                0.027133\n",
       "Hospitality Management               0.019454\n",
       "E-COMMERCE                           0.019113\n",
       "Retail Management                    0.017065\n",
       "Rural and Agribusiness               0.012457\n",
       "E-Business                           0.009727\n",
       "Services Excellence                  0.006826\n",
       "Name: proportion, dtype: float64"
      ]
     },
     "execution_count": 55,
     "metadata": {},
     "output_type": "execute_result"
    }
   ],
   "source": [
    "# Inspecting the specialization column\n",
    "\n",
    "lead['Specialization'].value_counts(normalize=True)"
   ]
  },
  {
   "cell_type": "code",
   "execution_count": 56,
   "id": "eedab5ee-0f5f-497e-a4ff-ddfa9721d412",
   "metadata": {},
   "outputs": [],
   "source": [
    "# Combining categories < 2%  into 'Others'\n",
    "\n",
    "lead['Specialization']=lead['Specialization'].replace(['Rural and Agribusiness','E-Business','Services Excellence',\n",
    "                                                       'Hospitality Management','E-COMMERCE','Retail Management'],'Others')"
   ]
  },
  {
   "cell_type": "code",
   "execution_count": 57,
   "id": "efe38f45-c562-4dda-a8a1-1090eee214e4",
   "metadata": {},
   "outputs": [
    {
     "data": {
      "text/plain": [
       "Specialization\n",
       "Finance Management                   0.166553\n",
       "Human Resource Management            0.144710\n",
       "Marketing Management                 0.143003\n",
       "Operations Management                0.085836\n",
       "Others                               0.084642\n",
       "Business Administration              0.068771\n",
       "IT Projects Management               0.062457\n",
       "Supply Chain Management              0.059556\n",
       "Banking, Investment And Insurance    0.057679\n",
       "Media and Advertising                0.034642\n",
       "Travel and Tourism                   0.034642\n",
       "International Business               0.030375\n",
       "Healthcare Management                0.027133\n",
       "Name: proportion, dtype: float64"
      ]
     },
     "execution_count": 57,
     "metadata": {},
     "output_type": "execute_result"
    }
   ],
   "source": [
    "# Inspecting the column again to recheck the same.\n",
    "\n",
    "lead['Specialization'].value_counts(normalize=True)"
   ]
  },
  {
   "cell_type": "code",
   "execution_count": 58,
   "id": "15d59c9c-35e0-409a-a6b2-67fd0f517e42",
   "metadata": {},
   "outputs": [],
   "source": [
    "# We also handle the missing values for this Specialisation column, we add another column known as \"Not Specified\" for all missing values.\n",
    "\n",
    "lead.Specialization.fillna('Not Specified', inplace=True)"
   ]
  },
  {
   "cell_type": "code",
   "execution_count": 59,
   "id": "1fb0220c-78b5-4e17-94d4-13ba0b98370a",
   "metadata": {},
   "outputs": [
    {
     "data": {
      "text/plain": [
       "Specialization\n",
       "Not Specified                        0.365801\n",
       "Finance Management                   0.105628\n",
       "Human Resource Management            0.091775\n",
       "Marketing Management                 0.090693\n",
       "Operations Management                0.054437\n",
       "Others                               0.053680\n",
       "Business Administration              0.043615\n",
       "IT Projects Management               0.039610\n",
       "Supply Chain Management              0.037771\n",
       "Banking, Investment And Insurance    0.036580\n",
       "Media and Advertising                0.021970\n",
       "Travel and Tourism                   0.021970\n",
       "International Business               0.019264\n",
       "Healthcare Management                0.017208\n",
       "Name: proportion, dtype: float64"
      ]
     },
     "execution_count": 59,
     "metadata": {},
     "output_type": "execute_result"
    }
   ],
   "source": [
    "# Inspecting the column again to recheck the same.\n",
    "\n",
    "lead['Specialization'].value_counts(normalize=True)"
   ]
  },
  {
   "cell_type": "code",
   "execution_count": 60,
   "id": "db46c036-9370-4171-8c11-7400a15b174d",
   "metadata": {},
   "outputs": [
    {
     "data": {
      "text/plain": [
       "What is your current occupation\n",
       "Unemployed              0.854962\n",
       "Working Professional    0.107786\n",
       "Student                 0.032061\n",
       "Other                   0.002443\n",
       "Housewife               0.001527\n",
       "Businessman             0.001221\n",
       "Name: proportion, dtype: float64"
      ]
     },
     "execution_count": 60,
     "metadata": {},
     "output_type": "execute_result"
    }
   ],
   "source": [
    "# Inspecting value counts for Current Occupation\n",
    "\n",
    "lead['What is your current occupation'].value_counts(normalize=True)"
   ]
  },
  {
   "cell_type": "code",
   "execution_count": 61,
   "id": "751ee8a9-21df-4dea-b1cb-255d95709951",
   "metadata": {},
   "outputs": [],
   "source": [
    "# Combining categories \n",
    "\n",
    "lead['What is your current occupation']=lead['What is your current occupation'].replace(['Other','Housewife','Businessman'],'Others')"
   ]
  },
  {
   "cell_type": "code",
   "execution_count": 62,
   "id": "3633e694-f4bf-4b47-a689-4a36667cbefe",
   "metadata": {},
   "outputs": [
    {
     "data": {
      "text/plain": [
       "What is your current occupation\n",
       "Unemployed              0.854962\n",
       "Working Professional    0.107786\n",
       "Student                 0.032061\n",
       "Others                  0.005191\n",
       "Name: proportion, dtype: float64"
      ]
     },
     "execution_count": 62,
     "metadata": {},
     "output_type": "execute_result"
    }
   ],
   "source": [
    "# Rechecking to find if the categories are correctly combined.\n",
    "\n",
    "lead['What is your current occupation'].value_counts(normalize=True)"
   ]
  },
  {
   "cell_type": "markdown",
   "id": "f9e0afb8-a316-4748-8300-3861c9e716dc",
   "metadata": {},
   "source": [
    "### Imputing columns with low null value percentages\n",
    "    - Generally categorical columns are imputed with 'mode'.\n",
    "    - And, Numerical columns are imputed with mean or median."
   ]
  },
  {
   "cell_type": "code",
   "execution_count": 63,
   "id": "eb94bee3-eb95-482b-ada5-cd6bfd3b36be",
   "metadata": {},
   "outputs": [
    {
     "data": {
      "text/plain": [
       "Prospect ID                                0.00\n",
       "Lead Number                                0.00\n",
       "Lead Origin                                0.00\n",
       "Lead Source                                0.39\n",
       "Converted                                  0.00\n",
       "TotalVisits                                1.48\n",
       "Total Time Spent on Website                0.00\n",
       "Page Views Per Visit                       1.48\n",
       "Last Activity                              1.11\n",
       "Specialization                             0.00\n",
       "What is your current occupation           29.11\n",
       "A free copy of Mastering The Interview     0.00\n",
       "dtype: float64"
      ]
     },
     "execution_count": 63,
     "metadata": {},
     "output_type": "execute_result"
    }
   ],
   "source": [
    "# Percentage of missing values in each column.\n",
    "\n",
    "round(lead.isnull().sum() * 100 / len(lead),2)"
   ]
  },
  {
   "cell_type": "code",
   "execution_count": 64,
   "id": "3e729453-a481-43e8-a45b-f1e43f3178be",
   "metadata": {},
   "outputs": [
    {
     "data": {
      "text/plain": [
       "Lead Source\n",
       "Google            0.311604\n",
       "Direct Traffic    0.276293\n",
       "Olark Chat        0.190678\n",
       "Organic Search    0.125380\n",
       "Reference         0.058018\n",
       "Others            0.038027\n",
       "Name: proportion, dtype: float64"
      ]
     },
     "execution_count": 64,
     "metadata": {},
     "output_type": "execute_result"
    }
   ],
   "source": [
    "#Imputing categorical columns with Mode\n",
    "\n",
    "lead['Lead Source'].value_counts(normalize=True)"
   ]
  },
  {
   "cell_type": "code",
   "execution_count": 65,
   "id": "858b92b1-cbdf-4f30-9af1-ca7fd9ed9fc3",
   "metadata": {},
   "outputs": [],
   "source": [
    "# Imputing missing values in 'Lead Source' with mode.\n",
    "\n",
    "lead['Lead Source'].fillna('Google',inplace=True)"
   ]
  },
  {
   "cell_type": "code",
   "execution_count": 66,
   "id": "0b51791f-7701-4b88-9662-66777b2d72dc",
   "metadata": {},
   "outputs": [
    {
     "data": {
      "text/plain": [
       "Last Activity\n",
       "Email Opened               0.376163\n",
       "SMS Sent                   0.300427\n",
       "Olark Chat Conversation    0.106490\n",
       "Page Visited on Website    0.070045\n",
       "Converted to Lead          0.046843\n",
       "Email Bounced              0.035679\n",
       "Others                     0.035132\n",
       "Email Link Clicked         0.029222\n",
       "Name: proportion, dtype: float64"
      ]
     },
     "execution_count": 66,
     "metadata": {},
     "output_type": "execute_result"
    }
   ],
   "source": [
    "# Imputing categorical columns with Mode\n",
    "\n",
    "lead['Last Activity'].value_counts(normalize=True) "
   ]
  },
  {
   "cell_type": "code",
   "execution_count": 67,
   "id": "0791963b-adc8-4bde-9427-0fc0783a2826",
   "metadata": {},
   "outputs": [],
   "source": [
    "# Imputing missing values in 'Last Activity' with mode. \n",
    "\n",
    "lead['Last Activity'].fillna('Email Opened',inplace=True)"
   ]
  },
  {
   "cell_type": "code",
   "execution_count": 68,
   "id": "52f6e402-2b70-4e80-9e12-fc833ad8a699",
   "metadata": {},
   "outputs": [
    {
     "data": {
      "text/plain": [
       "What is your current occupation\n",
       "Unemployed              0.854962\n",
       "Working Professional    0.107786\n",
       "Student                 0.032061\n",
       "Others                  0.005191\n",
       "Name: proportion, dtype: float64"
      ]
     },
     "execution_count": 68,
     "metadata": {},
     "output_type": "execute_result"
    }
   ],
   "source": [
    "# Imputing categorical columns with Mode\n",
    "\n",
    "lead['What is your current occupation'].value_counts(normalize=True) "
   ]
  },
  {
   "cell_type": "code",
   "execution_count": 69,
   "id": "1336b832-bb02-4e11-b37f-b7321589f650",
   "metadata": {},
   "outputs": [],
   "source": [
    "# Replacing categorical columns with Unemployed in Current Occupation \n",
    "\n",
    "lead['What is your current occupation'].fillna('Unemployed', inplace = True)"
   ]
  },
  {
   "cell_type": "markdown",
   "id": "87d348a7-e6d1-4145-91a5-adc779b0c345",
   "metadata": {},
   "source": [
    "#### Imputing numerical columns"
   ]
  },
  {
   "cell_type": "code",
   "execution_count": 71,
   "id": "cac4b138-490e-4f7e-8a83-d5da101c527b",
   "metadata": {},
   "outputs": [
    {
     "data": {
      "text/plain": [
       "count    9103.000000\n",
       "mean        3.445238\n",
       "std         4.854853\n",
       "min         0.000000\n",
       "25%         1.000000\n",
       "50%         3.000000\n",
       "75%         5.000000\n",
       "max       251.000000\n",
       "Name: TotalVisits, dtype: float64"
      ]
     },
     "execution_count": 71,
     "metadata": {},
     "output_type": "execute_result"
    }
   ],
   "source": [
    "# Since TotalVisits is a numerical column, we first inspect the data.\n",
    "\n",
    "lead['TotalVisits'].describe()"
   ]
  },
  {
   "cell_type": "markdown",
   "id": "99b12190-dea1-46da-97f4-a766908076a2",
   "metadata": {},
   "source": [
    "#### Observation : We can see that both mean and median = 3 and we can impute it with either, but we choose to impute it with median."
   ]
  },
  {
   "cell_type": "code",
   "execution_count": 72,
   "id": "ab107c8e-6d24-4404-b9f4-d19ad8f3afcc",
   "metadata": {},
   "outputs": [],
   "source": [
    "# Imputing missing values in 'TotalVisits' with mean/median which is 3.\n",
    "\n",
    "lead['TotalVisits'].fillna(lead['TotalVisits'].median(),inplace=True)"
   ]
  },
  {
   "cell_type": "code",
   "execution_count": 73,
   "id": "0798266d-392d-4f24-8232-be05ef93ce7e",
   "metadata": {},
   "outputs": [
    {
     "data": {
      "text/plain": [
       "count    9240.000000\n",
       "mean        3.438636\n",
       "std         4.819024\n",
       "min         0.000000\n",
       "25%         1.000000\n",
       "50%         3.000000\n",
       "75%         5.000000\n",
       "max       251.000000\n",
       "Name: TotalVisits, dtype: float64"
      ]
     },
     "execution_count": 73,
     "metadata": {},
     "output_type": "execute_result"
    }
   ],
   "source": [
    "# Checking for distribution\n",
    "\n",
    "lead['TotalVisits'].describe()"
   ]
  },
  {
   "cell_type": "code",
   "execution_count": 74,
   "id": "e316085d-3c43-4125-b524-f83161306a6f",
   "metadata": {},
   "outputs": [
    {
     "data": {
      "text/plain": [
       "count    9103.000000\n",
       "mean        2.362820\n",
       "std         2.161418\n",
       "min         0.000000\n",
       "25%         1.000000\n",
       "50%         2.000000\n",
       "75%         3.000000\n",
       "max        55.000000\n",
       "Name: Page Views Per Visit, dtype: float64"
      ]
     },
     "execution_count": 74,
     "metadata": {},
     "output_type": "execute_result"
    }
   ],
   "source": [
    "# Page Per Views is also a numerical column, hence we check the distribution first.\n",
    "\n",
    "lead['Page Views Per Visit'].describe()"
   ]
  },
  {
   "cell_type": "markdown",
   "id": "6e7bb77d-b170-47c6-ba68-741a6e9b4da2",
   "metadata": {},
   "source": [
    "#### Observation : We can see that both mean and median ~ 2 and we can impute it with either, but we choose to impute it with median."
   ]
  },
  {
   "cell_type": "code",
   "execution_count": 75,
   "id": "3b794c3a-a077-45e9-b746-bbe7530d2b90",
   "metadata": {},
   "outputs": [],
   "source": [
    "# Imputing missing values with mean/median which is 2. \n",
    "\n",
    "lead['Page Views Per Visit'].fillna(lead['Page Views Per Visit'].median(),inplace=True)"
   ]
  },
  {
   "cell_type": "code",
   "execution_count": 76,
   "id": "55611f0a-ca0b-4129-884b-97c3e12fa889",
   "metadata": {},
   "outputs": [
    {
     "data": {
      "text/plain": [
       "count    9240.000000\n",
       "mean        2.357440\n",
       "std         2.145781\n",
       "min         0.000000\n",
       "25%         1.000000\n",
       "50%         2.000000\n",
       "75%         3.000000\n",
       "max        55.000000\n",
       "Name: Page Views Per Visit, dtype: float64"
      ]
     },
     "execution_count": 76,
     "metadata": {},
     "output_type": "execute_result"
    }
   ],
   "source": [
    "# Page Per Views is also a numerical column, hence we check the distribution first.\n",
    "\n",
    "lead['Page Views Per Visit'].describe()"
   ]
  },
  {
   "cell_type": "markdown",
   "id": "475258eb-ad23-4cf2-9157-9bfcd633002c",
   "metadata": {},
   "source": [
    "### Cross-Checking for missing values again."
   ]
  },
  {
   "cell_type": "code",
   "execution_count": 77,
   "id": "7b3cece4-c8a5-4335-ab9e-11c920da1a52",
   "metadata": {},
   "outputs": [
    {
     "data": {
      "text/plain": [
       "Prospect ID                               0.0\n",
       "Lead Number                               0.0\n",
       "Lead Origin                               0.0\n",
       "Lead Source                               0.0\n",
       "Converted                                 0.0\n",
       "TotalVisits                               0.0\n",
       "Total Time Spent on Website               0.0\n",
       "Page Views Per Visit                      0.0\n",
       "Last Activity                             0.0\n",
       "Specialization                            0.0\n",
       "What is your current occupation           0.0\n",
       "A free copy of Mastering The Interview    0.0\n",
       "dtype: float64"
      ]
     },
     "execution_count": 77,
     "metadata": {},
     "output_type": "execute_result"
    }
   ],
   "source": [
    "# Percentage of missing values in each column.\n",
    "\n",
    "round(lead.isnull().sum() * 100 / len(lead),2)"
   ]
  },
  {
   "cell_type": "markdown",
   "id": "35019aaf-0983-43f7-bfc0-9fe2b08e9634",
   "metadata": {},
   "source": [
    "#### Observation : There are no more missing values, we have cleaned the data thoroughly."
   ]
  },
  {
   "cell_type": "code",
   "execution_count": 78,
   "id": "5a3577be-2fab-414d-9bec-2e9a322fffe8",
   "metadata": {},
   "outputs": [
    {
     "name": "stdout",
     "output_type": "stream",
     "text": [
      "0       0\n",
      "1       0\n",
      "2       0\n",
      "3       0\n",
      "4       0\n",
      "       ..\n",
      "9235    0\n",
      "9236    0\n",
      "9237    0\n",
      "9238    0\n",
      "9239    0\n",
      "Length: 9240, dtype: int64\n"
     ]
    }
   ],
   "source": [
    "# Row-wise null count\n",
    "\n",
    "print(lead.isnull().sum(axis=1))"
   ]
  },
  {
   "cell_type": "markdown",
   "id": "c8acfcd5-f914-4682-ad8d-0c67acdab003",
   "metadata": {},
   "source": [
    "### Duplicates check"
   ]
  },
  {
   "cell_type": "code",
   "execution_count": 79,
   "id": "6597b4d7-37d7-4862-a0b4-8eb03e6dc250",
   "metadata": {},
   "outputs": [
    {
     "data": {
      "text/html": [
       "<div>\n",
       "<style scoped>\n",
       "    .dataframe tbody tr th:only-of-type {\n",
       "        vertical-align: middle;\n",
       "    }\n",
       "\n",
       "    .dataframe tbody tr th {\n",
       "        vertical-align: top;\n",
       "    }\n",
       "\n",
       "    .dataframe thead th {\n",
       "        text-align: right;\n",
       "    }\n",
       "</style>\n",
       "<table border=\"1\" class=\"dataframe\">\n",
       "  <thead>\n",
       "    <tr style=\"text-align: right;\">\n",
       "      <th></th>\n",
       "      <th>Prospect ID</th>\n",
       "      <th>Lead Number</th>\n",
       "      <th>Lead Origin</th>\n",
       "      <th>Lead Source</th>\n",
       "      <th>Converted</th>\n",
       "      <th>TotalVisits</th>\n",
       "      <th>Total Time Spent on Website</th>\n",
       "      <th>Page Views Per Visit</th>\n",
       "      <th>Last Activity</th>\n",
       "      <th>Specialization</th>\n",
       "      <th>What is your current occupation</th>\n",
       "      <th>A free copy of Mastering The Interview</th>\n",
       "    </tr>\n",
       "  </thead>\n",
       "  <tbody>\n",
       "  </tbody>\n",
       "</table>\n",
       "</div>"
      ],
      "text/plain": [
       "Empty DataFrame\n",
       "Columns: [Prospect ID, Lead Number, Lead Origin, Lead Source, Converted, TotalVisits, Total Time Spent on Website, Page Views Per Visit, Last Activity, Specialization, What is your current occupation, A free copy of Mastering The Interview]\n",
       "Index: []"
      ]
     },
     "execution_count": 79,
     "metadata": {},
     "output_type": "execute_result"
    }
   ],
   "source": [
    "# Checking for any duplicates in the data.\n",
    "\n",
    "lead.loc[lead.duplicated()]"
   ]
  },
  {
   "cell_type": "markdown",
   "id": "d88f16e4-cffc-4fbe-8113-818dc7644c86",
   "metadata": {},
   "source": [
    "#### Observation : There are no duplicate rows in the dataset."
   ]
  },
  {
   "cell_type": "markdown",
   "id": "421f5aa1-5052-434d-98b8-25dfc50d054b",
   "metadata": {},
   "source": [
    "## EDA (Exploratory Data Analysis)"
   ]
  },
  {
   "cell_type": "code",
   "execution_count": 80,
   "id": "aaac9ad8-43f0-4f13-8402-d3fb09afdb1b",
   "metadata": {},
   "outputs": [
    {
     "data": {
      "text/plain": [
       "Prospect ID                                object\n",
       "Lead Number                                 int64\n",
       "Lead Origin                                object\n",
       "Lead Source                                object\n",
       "Converted                                   int64\n",
       "TotalVisits                               float64\n",
       "Total Time Spent on Website                 int64\n",
       "Page Views Per Visit                      float64\n",
       "Last Activity                              object\n",
       "Specialization                             object\n",
       "What is your current occupation            object\n",
       "A free copy of Mastering The Interview     object\n",
       "dtype: object"
      ]
     },
     "execution_count": 80,
     "metadata": {},
     "output_type": "execute_result"
    }
   ],
   "source": [
    "# Displaying the data types on different columns\n",
    "\n",
    "lead.dtypes"
   ]
  },
  {
   "cell_type": "markdown",
   "id": "89937436-7ecd-4272-966e-2eba2f002dbf",
   "metadata": {},
   "source": [
    "### EDA - Numerical Values"
   ]
  },
  {
   "cell_type": "code",
   "execution_count": 81,
   "id": "89580700-e07c-4e15-aa5e-1f5d3603567f",
   "metadata": {},
   "outputs": [
    {
     "data": {
      "image/png": "[encoded data removed]",
      "text/plain": [
       "<Figure size 2000x2000 with 3 Axes>"
      ]
     },
     "metadata": {},
     "output_type": "display_data"
    }
   ],
   "source": [
    "# Plotting distplot for analysis of numerical values\n",
    "\n",
    "Required_columns= ['TotalVisits','Total Time Spent on Website','Page Views Per Visit']\n",
    "sns.set_palette(\"dark\")\n",
    "plt.figure(figsize = (20, 20))\n",
    "\n",
    "for col in enumerate(Required_columns):\n",
    "    plt.subplot(4, 2, col[0]+1)\n",
    "    plt.title(col[1])\n",
    "    sns.distplot(lead[col[1]], hist =False)\n",
    "    plt.tight_layout()\n",
    "    plt.xticks(rotation = 90)"
   ]
  },
  {
   "cell_type": "markdown",
   "id": "0351d02e-af83-4575-8d7e-f66dcb71143e",
   "metadata": {},
   "source": [
    "#### Observation :\n",
    "\n",
    "Uni-variate Analysis - Numerical values:\n",
    "\n",
    "- The max probability for TotalVisits is found to be around 15-20. It increases initially but decreases further.\n",
    "- The max probability for PageViewsPerVisit is found to be around to be 3-5\n",
    "- The probability of time spent is found to be high for time between 0-300 seconds and decreases further."
   ]
  },
  {
   "cell_type": "code",
   "execution_count": 84,
   "id": "b0399966-763d-4422-9b46-02aee2d79e5c",
   "metadata": {},
   "outputs": [
    {
     "data": {
      "image/png": "[encoded data removed]",
      "text/plain": [
       "<Figure size 2000x2000 with 3 Axes>"
      ]
     },
     "metadata": {},
     "output_type": "display_data"
    }
   ],
   "source": [
    "# Using boxplot for bivariate analysis\n",
    "\n",
    "Required_columns= ['TotalVisits','Total Time Spent on Website','Page Views Per Visit']\n",
    "sns.set_palette(\"bright\")\n",
    "plt.figure(figsize = (20, 20))\n",
    "\n",
    "for col in enumerate(Required_columns):\n",
    "    plt.subplot(4, 2, col[0]+1)\n",
    "    plt.title(col[1])\n",
    "    ax = sns.boxplot(x='Converted', y=col[1], data = lead)\n",
    "    ax.set_yscale('log')\n",
    "    plt.tight_layout()\n",
    "    plt.xticks(rotation = 90)\n",
    "plt.show()"
   ]
  },
  {
   "cell_type": "markdown",
   "id": "567f812e-6be7-4be9-8982-09c38b2af567",
   "metadata": {},
   "source": [
    "#### Observation :\n",
    "\n",
    "Bi-variate Analysis - Numerical values:\n",
    "\n",
    "- The mean is found to be higher in case of Converted people rather than non-converted people.\n",
    "- The average page views for both converted and non converted is found to be the same.\n",
    "- The average total visits for both converted and non converted people is found to be the same."
   ]
  },
  {
   "cell_type": "markdown",
   "id": "3d47d030-33de-49c3-96ea-7530bcd89686",
   "metadata": {},
   "source": [
    "### EDA - Categorical values"
   ]
  },
  {
   "cell_type": "code",
   "execution_count": 85,
   "id": "941263d2-12aa-4439-a8f4-4bc32ee46480",
   "metadata": {},
   "outputs": [],
   "source": [
    "# Copying from the lead dataframe for easier eda\n",
    "\n",
    "leadCopy = lead.copy()"
   ]
  },
  {
   "cell_type": "code",
   "execution_count": 86,
   "id": "0c230de0-c4de-4ad1-9c30-1fff77354b8e",
   "metadata": {},
   "outputs": [
    {
     "data": {
      "text/html": [
       "<div>\n",
       "<style scoped>\n",
       "    .dataframe tbody tr th:only-of-type {\n",
       "        vertical-align: middle;\n",
       "    }\n",
       "\n",
       "    .dataframe tbody tr th {\n",
       "        vertical-align: top;\n",
       "    }\n",
       "\n",
       "    .dataframe thead th {\n",
       "        text-align: right;\n",
       "    }\n",
       "</style>\n",
       "<table border=\"1\" class=\"dataframe\">\n",
       "  <thead>\n",
       "    <tr style=\"text-align: right;\">\n",
       "      <th></th>\n",
       "      <th>Prospect ID</th>\n",
       "      <th>Lead Number</th>\n",
       "      <th>Lead Origin</th>\n",
       "      <th>Lead Source</th>\n",
       "      <th>Converted</th>\n",
       "      <th>TotalVisits</th>\n",
       "      <th>Total Time Spent on Website</th>\n",
       "      <th>Page Views Per Visit</th>\n",
       "      <th>Last Activity</th>\n",
       "      <th>Specialization</th>\n",
       "      <th>What is your current occupation</th>\n",
       "      <th>A free copy of Mastering The Interview</th>\n",
       "    </tr>\n",
       "  </thead>\n",
       "  <tbody>\n",
       "    <tr>\n",
       "      <th>0</th>\n",
       "      <td>7927b2df-8bba-4d29-b9a2-b6e0beafe620</td>\n",
       "      <td>660737</td>\n",
       "      <td>API</td>\n",
       "      <td>Olark Chat</td>\n",
       "      <td>0</td>\n",
       "      <td>0.0</td>\n",
       "      <td>0</td>\n",
       "      <td>0.0</td>\n",
       "      <td>Page Visited on Website</td>\n",
       "      <td>Not Specified</td>\n",
       "      <td>Unemployed</td>\n",
       "      <td>No</td>\n",
       "    </tr>\n",
       "    <tr>\n",
       "      <th>1</th>\n",
       "      <td>2a272436-5132-4136-86fa-dcc88c88f482</td>\n",
       "      <td>660728</td>\n",
       "      <td>API</td>\n",
       "      <td>Organic Search</td>\n",
       "      <td>0</td>\n",
       "      <td>5.0</td>\n",
       "      <td>674</td>\n",
       "      <td>2.5</td>\n",
       "      <td>Email Opened</td>\n",
       "      <td>Not Specified</td>\n",
       "      <td>Unemployed</td>\n",
       "      <td>No</td>\n",
       "    </tr>\n",
       "    <tr>\n",
       "      <th>2</th>\n",
       "      <td>8cc8c611-a219-4f35-ad23-fdfd2656bd8a</td>\n",
       "      <td>660727</td>\n",
       "      <td>Landing Page Submission</td>\n",
       "      <td>Direct Traffic</td>\n",
       "      <td>1</td>\n",
       "      <td>2.0</td>\n",
       "      <td>1532</td>\n",
       "      <td>2.0</td>\n",
       "      <td>Email Opened</td>\n",
       "      <td>Business Administration</td>\n",
       "      <td>Student</td>\n",
       "      <td>Yes</td>\n",
       "    </tr>\n",
       "    <tr>\n",
       "      <th>3</th>\n",
       "      <td>0cc2df48-7cf4-4e39-9de9-19797f9b38cc</td>\n",
       "      <td>660719</td>\n",
       "      <td>Landing Page Submission</td>\n",
       "      <td>Direct Traffic</td>\n",
       "      <td>0</td>\n",
       "      <td>1.0</td>\n",
       "      <td>305</td>\n",
       "      <td>1.0</td>\n",
       "      <td>Others</td>\n",
       "      <td>Media and Advertising</td>\n",
       "      <td>Unemployed</td>\n",
       "      <td>No</td>\n",
       "    </tr>\n",
       "    <tr>\n",
       "      <th>4</th>\n",
       "      <td>3256f628-e534-4826-9d63-4a8b88782852</td>\n",
       "      <td>660681</td>\n",
       "      <td>Landing Page Submission</td>\n",
       "      <td>Google</td>\n",
       "      <td>1</td>\n",
       "      <td>2.0</td>\n",
       "      <td>1428</td>\n",
       "      <td>1.0</td>\n",
       "      <td>Converted to Lead</td>\n",
       "      <td>Not Specified</td>\n",
       "      <td>Unemployed</td>\n",
       "      <td>No</td>\n",
       "    </tr>\n",
       "  </tbody>\n",
       "</table>\n",
       "</div>"
      ],
      "text/plain": [
       "                            Prospect ID  Lead Number              Lead Origin  \\\n",
       "0  7927b2df-8bba-4d29-b9a2-b6e0beafe620       660737                      API   \n",
       "1  2a272436-5132-4136-86fa-dcc88c88f482       660728                      API   \n",
       "2  8cc8c611-a219-4f35-ad23-fdfd2656bd8a       660727  Landing Page Submission   \n",
       "3  0cc2df48-7cf4-4e39-9de9-19797f9b38cc       660719  Landing Page Submission   \n",
       "4  3256f628-e534-4826-9d63-4a8b88782852       660681  Landing Page Submission   \n",
       "\n",
       "      Lead Source  Converted  TotalVisits  Total Time Spent on Website  \\\n",
       "0      Olark Chat          0          0.0                            0   \n",
       "1  Organic Search          0          5.0                          674   \n",
       "2  Direct Traffic          1          2.0                         1532   \n",
       "3  Direct Traffic          0          1.0                          305   \n",
       "4          Google          1          2.0                         1428   \n",
       "\n",
       "   Page Views Per Visit            Last Activity           Specialization  \\\n",
       "0                   0.0  Page Visited on Website            Not Specified   \n",
       "1                   2.5             Email Opened            Not Specified   \n",
       "2                   2.0             Email Opened  Business Administration   \n",
       "3                   1.0                   Others    Media and Advertising   \n",
       "4                   1.0        Converted to Lead            Not Specified   \n",
       "\n",
       "  What is your current occupation A free copy of Mastering The Interview  \n",
       "0                      Unemployed                                     No  \n",
       "1                      Unemployed                                     No  \n",
       "2                         Student                                    Yes  \n",
       "3                      Unemployed                                     No  \n",
       "4                      Unemployed                                     No  "
      ]
     },
     "execution_count": 86,
     "metadata": {},
     "output_type": "execute_result"
    }
   ],
   "source": [
    "# Displaying the dataframe\n",
    "\n",
    "leadCopy.head()"
   ]
  },
  {
   "cell_type": "code",
   "execution_count": 87,
   "id": "7b52f086-bbf6-43de-92d8-a41daaddc236",
   "metadata": {},
   "outputs": [],
   "source": [
    "leadCopy['Category'] = leadCopy.Converted.astype('category')"
   ]
  },
  {
   "cell_type": "code",
   "execution_count": 88,
   "id": "abb79f28-3c3a-4aa9-8664-31a38cbbdeeb",
   "metadata": {},
   "outputs": [
    {
     "data": {
      "text/html": [
       "<div>\n",
       "<style scoped>\n",
       "    .dataframe tbody tr th:only-of-type {\n",
       "        vertical-align: middle;\n",
       "    }\n",
       "\n",
       "    .dataframe tbody tr th {\n",
       "        vertical-align: top;\n",
       "    }\n",
       "\n",
       "    .dataframe thead th {\n",
       "        text-align: right;\n",
       "    }\n",
       "</style>\n",
       "<table border=\"1\" class=\"dataframe\">\n",
       "  <thead>\n",
       "    <tr style=\"text-align: right;\">\n",
       "      <th></th>\n",
       "      <th>Prospect ID</th>\n",
       "      <th>Lead Number</th>\n",
       "      <th>Lead Origin</th>\n",
       "      <th>Lead Source</th>\n",
       "      <th>Converted</th>\n",
       "      <th>TotalVisits</th>\n",
       "      <th>Total Time Spent on Website</th>\n",
       "      <th>Page Views Per Visit</th>\n",
       "      <th>Last Activity</th>\n",
       "      <th>Specialization</th>\n",
       "      <th>What is your current occupation</th>\n",
       "      <th>A free copy of Mastering The Interview</th>\n",
       "      <th>Category</th>\n",
       "    </tr>\n",
       "  </thead>\n",
       "  <tbody>\n",
       "    <tr>\n",
       "      <th>0</th>\n",
       "      <td>7927b2df-8bba-4d29-b9a2-b6e0beafe620</td>\n",
       "      <td>660737</td>\n",
       "      <td>API</td>\n",
       "      <td>Olark Chat</td>\n",
       "      <td>0</td>\n",
       "      <td>0.0</td>\n",
       "      <td>0</td>\n",
       "      <td>0.0</td>\n",
       "      <td>Page Visited on Website</td>\n",
       "      <td>Not Specified</td>\n",
       "      <td>Unemployed</td>\n",
       "      <td>No</td>\n",
       "      <td>0</td>\n",
       "    </tr>\n",
       "    <tr>\n",
       "      <th>1</th>\n",
       "      <td>2a272436-5132-4136-86fa-dcc88c88f482</td>\n",
       "      <td>660728</td>\n",
       "      <td>API</td>\n",
       "      <td>Organic Search</td>\n",
       "      <td>0</td>\n",
       "      <td>5.0</td>\n",
       "      <td>674</td>\n",
       "      <td>2.5</td>\n",
       "      <td>Email Opened</td>\n",
       "      <td>Not Specified</td>\n",
       "      <td>Unemployed</td>\n",
       "      <td>No</td>\n",
       "      <td>0</td>\n",
       "    </tr>\n",
       "    <tr>\n",
       "      <th>2</th>\n",
       "      <td>8cc8c611-a219-4f35-ad23-fdfd2656bd8a</td>\n",
       "      <td>660727</td>\n",
       "      <td>Landing Page Submission</td>\n",
       "      <td>Direct Traffic</td>\n",
       "      <td>1</td>\n",
       "      <td>2.0</td>\n",
       "      <td>1532</td>\n",
       "      <td>2.0</td>\n",
       "      <td>Email Opened</td>\n",
       "      <td>Business Administration</td>\n",
       "      <td>Student</td>\n",
       "      <td>Yes</td>\n",
       "      <td>1</td>\n",
       "    </tr>\n",
       "    <tr>\n",
       "      <th>3</th>\n",
       "      <td>0cc2df48-7cf4-4e39-9de9-19797f9b38cc</td>\n",
       "      <td>660719</td>\n",
       "      <td>Landing Page Submission</td>\n",
       "      <td>Direct Traffic</td>\n",
       "      <td>0</td>\n",
       "      <td>1.0</td>\n",
       "      <td>305</td>\n",
       "      <td>1.0</td>\n",
       "      <td>Others</td>\n",
       "      <td>Media and Advertising</td>\n",
       "      <td>Unemployed</td>\n",
       "      <td>No</td>\n",
       "      <td>0</td>\n",
       "    </tr>\n",
       "    <tr>\n",
       "      <th>4</th>\n",
       "      <td>3256f628-e534-4826-9d63-4a8b88782852</td>\n",
       "      <td>660681</td>\n",
       "      <td>Landing Page Submission</td>\n",
       "      <td>Google</td>\n",
       "      <td>1</td>\n",
       "      <td>2.0</td>\n",
       "      <td>1428</td>\n",
       "      <td>1.0</td>\n",
       "      <td>Converted to Lead</td>\n",
       "      <td>Not Specified</td>\n",
       "      <td>Unemployed</td>\n",
       "      <td>No</td>\n",
       "      <td>1</td>\n",
       "    </tr>\n",
       "  </tbody>\n",
       "</table>\n",
       "</div>"
      ],
      "text/plain": [
       "                            Prospect ID  Lead Number              Lead Origin  \\\n",
       "0  7927b2df-8bba-4d29-b9a2-b6e0beafe620       660737                      API   \n",
       "1  2a272436-5132-4136-86fa-dcc88c88f482       660728                      API   \n",
       "2  8cc8c611-a219-4f35-ad23-fdfd2656bd8a       660727  Landing Page Submission   \n",
       "3  0cc2df48-7cf4-4e39-9de9-19797f9b38cc       660719  Landing Page Submission   \n",
       "4  3256f628-e534-4826-9d63-4a8b88782852       660681  Landing Page Submission   \n",
       "\n",
       "      Lead Source  Converted  TotalVisits  Total Time Spent on Website  \\\n",
       "0      Olark Chat          0          0.0                            0   \n",
       "1  Organic Search          0          5.0                          674   \n",
       "2  Direct Traffic          1          2.0                         1532   \n",
       "3  Direct Traffic          0          1.0                          305   \n",
       "4          Google          1          2.0                         1428   \n",
       "\n",
       "   Page Views Per Visit            Last Activity           Specialization  \\\n",
       "0                   0.0  Page Visited on Website            Not Specified   \n",
       "1                   2.5             Email Opened            Not Specified   \n",
       "2                   2.0             Email Opened  Business Administration   \n",
       "3                   1.0                   Others    Media and Advertising   \n",
       "4                   1.0        Converted to Lead            Not Specified   \n",
       "\n",
       "  What is your current occupation A free copy of Mastering The Interview  \\\n",
       "0                      Unemployed                                     No   \n",
       "1                      Unemployed                                     No   \n",
       "2                         Student                                    Yes   \n",
       "3                      Unemployed                                     No   \n",
       "4                      Unemployed                                     No   \n",
       "\n",
       "  Category  \n",
       "0        0  \n",
       "1        0  \n",
       "2        1  \n",
       "3        0  \n",
       "4        1  "
      ]
     },
     "execution_count": 88,
     "metadata": {},
     "output_type": "execute_result"
    }
   ],
   "source": [
    "leadCopy.head()"
   ]
  },
  {
   "cell_type": "code",
   "execution_count": 90,
   "id": "34f94574-8a66-4ae3-afd6-0a618730194a",
   "metadata": {},
   "outputs": [
    {
     "data": {
      "image/png": "[encoded data removed]",
      "text/plain": [
       "<Figure size 1500x1500 with 6 Axes>"
      ]
     },
     "metadata": {},
     "output_type": "display_data"
    }
   ],
   "source": [
    "# Using countplot for analysis of categorical data\n",
    "\n",
    "Required_columns= ['Lead Origin','Lead Source', 'Last Activity', 'Specialization', 'What is your current occupation', \n",
    "                   'A free copy of Mastering The Interview']\n",
    "sns.set_palette(\"bright\")\n",
    "\n",
    "plt.figure(figsize = (15, 15))\n",
    "\n",
    "for col in enumerate(Required_columns):\n",
    "    plt.subplot(3, 2, col[0]+1)\n",
    "    plt.title(col[1])\n",
    "    ax = sns.countplot(data = leadCopy, x=col[1], hue='Converted') \n",
    "    plt.xticks(rotation = 90)\n",
    "    plt.tight_layout()\n",
    "plt.show()"
   ]
  },
  {
   "cell_type": "markdown",
   "id": "4caa51a0-4d11-4755-bfa8-9844cd80bb8f",
   "metadata": {},
   "source": [
    "#### Univariate analysis for Categorical data\n",
    "\n",
    "- The percentage of Converted people is found to be greater for Landing Page Submission. We can also see that if Lead source is Add Form, the ratio of lead conversion is very high(almost not converted is very less).\n",
    "- Google is found to be the important source for Lead Conversion\n",
    "- We need to target people via Emails and SMS as it is found that the probability of response in case Converted leads is found to be higher.\n",
    "- We cannot infer much about conversion rate from specialisation as people who do not select any specialisation can also be converted to a lead.But the ratio of non converted leads is higher than converted ones if they didn't choose specialisation.\n",
    "- It is clearly visible from the graph that we need to target the Unemployed and Working Professional to get a higher conversion rate. The ratio of conversion rate is higher than not converted people for working professionals.\n",
    "- People usually do not subscribe for a free copy of mastering the interview."
   ]
  },
  {
   "cell_type": "markdown",
   "id": "ca9250dd-0e50-4aa9-ac61-6c0247663254",
   "metadata": {},
   "source": [
    "### Outliers Handling"
   ]
  },
  {
   "cell_type": "code",
   "execution_count": 91,
   "id": "682c26fa-38c2-410f-9854-f70a7d7add8a",
   "metadata": {},
   "outputs": [
    {
     "data": {
      "text/plain": [
       "Prospect ID                                object\n",
       "Lead Number                                 int64\n",
       "Lead Origin                                object\n",
       "Lead Source                                object\n",
       "Converted                                   int64\n",
       "TotalVisits                               float64\n",
       "Total Time Spent on Website                 int64\n",
       "Page Views Per Visit                      float64\n",
       "Last Activity                              object\n",
       "Specialization                             object\n",
       "What is your current occupation            object\n",
       "A free copy of Mastering The Interview     object\n",
       "dtype: object"
      ]
     },
     "execution_count": 91,
     "metadata": {},
     "output_type": "execute_result"
    }
   ],
   "source": [
    "# Inspectig the data types of all columns\n",
    "\n",
    "lead.dtypes"
   ]
  },
  {
   "cell_type": "code",
   "execution_count": 92,
   "id": "d76ff196-f1a3-4ddc-bb83-3ea46ef6f81a",
   "metadata": {},
   "outputs": [
    {
     "data": {
      "image/png": "[encoded data removed]",
      "text/plain": [
       "<Figure size 1100x1100 with 4 Axes>"
      ]
     },
     "metadata": {},
     "output_type": "display_data"
    }
   ],
   "source": [
    "# There are 4 numerical columns - Converted , TotalVisits, Total Time Spent on Website, 'Page Views Per Visit\n",
    "# Plotting them to check for outliers.\n",
    "\n",
    "numerical_columns=['Converted','TotalVisits','Total Time Spent on Website','Page Views Per Visit']\n",
    "\n",
    "plt.figure(figsize = (11, 11))\n",
    "sns.set_palette('bright')\n",
    "for col in enumerate(numerical_columns):\n",
    "    plt.subplot(2,2, col[0]+1)\n",
    "    sns.boxplot(x = col[1], data = lead)\n",
    "    plt.xticks(rotation = 90)\n",
    "    plt.tight_layout()\n",
    "plt.show()"
   ]
  },
  {
   "cell_type": "code",
   "execution_count": 93,
   "id": "d1098d84-7e71-45ad-996f-3d65a42bebea",
   "metadata": {},
   "outputs": [
    {
     "data": {
      "text/plain": [
       "count    9240.000000\n",
       "mean        3.438636\n",
       "std         4.819024\n",
       "min         0.000000\n",
       "25%         1.000000\n",
       "50%         3.000000\n",
       "75%         5.000000\n",
       "max       251.000000\n",
       "Name: TotalVisits, dtype: float64"
      ]
     },
     "execution_count": 93,
     "metadata": {},
     "output_type": "execute_result"
    }
   ],
   "source": [
    "# TotalVisits and Page Views Per Visit have outliers\n",
    "\n",
    "lead['TotalVisits'].describe()"
   ]
  },
  {
   "cell_type": "code",
   "execution_count": 94,
   "id": "012b352e-6362-4b83-9f61-96708cdc3a5f",
   "metadata": {},
   "outputs": [
    {
     "data": {
      "text/plain": [
       "234.0"
      ]
     },
     "execution_count": 94,
     "metadata": {},
     "output_type": "execute_result"
    }
   ],
   "source": [
    "# diff1 will provide the difference between outliers and 99th percentile. \n",
    "# If the value is too big, we can conclude that there are outliers.\n",
    "\n",
    "diff1 = lead.TotalVisits.max() - lead.TotalVisits.quantile(0.99)\n",
    "diff1"
   ]
  },
  {
   "cell_type": "code",
   "execution_count": 95,
   "id": "63cfd384-2c6d-45cb-b12c-73a4f5e2de6b",
   "metadata": {},
   "outputs": [
    {
     "data": {
      "text/plain": [
       "count    9240.000000\n",
       "mean        2.357440\n",
       "std         2.145781\n",
       "min         0.000000\n",
       "25%         1.000000\n",
       "50%         2.000000\n",
       "75%         3.000000\n",
       "max        55.000000\n",
       "Name: Page Views Per Visit, dtype: float64"
      ]
     },
     "execution_count": 95,
     "metadata": {},
     "output_type": "execute_result"
    }
   ],
   "source": [
    "lead['Page Views Per Visit'].describe()"
   ]
  },
  {
   "cell_type": "code",
   "execution_count": 96,
   "id": "ebb46125-111c-4a59-b0ef-843a82722c02",
   "metadata": {},
   "outputs": [
    {
     "data": {
      "text/plain": [
       "46.0"
      ]
     },
     "execution_count": 96,
     "metadata": {},
     "output_type": "execute_result"
    }
   ],
   "source": [
    "# diff2 will provide the difference between outliers and 99th percentile. \n",
    "# If the value is too big, we can conclude that there are outliers.\n",
    "\n",
    "diff2 = lead['Page Views Per Visit'].max() - lead['Page Views Per Visit'].quantile(0.99)\n",
    "diff2"
   ]
  },
  {
   "cell_type": "markdown",
   "id": "30299147-f1b4-4b6c-9748-b0a188b607bb",
   "metadata": {},
   "source": [
    "#### Capping Outliers\n",
    "- We Perform Soft Capping.\n",
    "- We check only for outliers in the upper range that are > 99th percentile."
   ]
  },
  {
   "cell_type": "code",
   "execution_count": 97,
   "id": "6be3e979-14b9-4a69-9aaa-8fc4067c0413",
   "metadata": {},
   "outputs": [],
   "source": [
    "# capping higher range outliers\n",
    "\n",
    "req_cols=['TotalVisits','Page Views Per Visit'] \n",
    "for col in req_cols:\n",
    "    percentiles = lead[col].quantile(0.99)\n",
    "    lead[col][lead[col] >= percentiles] = percentiles"
   ]
  },
  {
   "cell_type": "code",
   "execution_count": 98,
   "id": "748f00ea-f20d-46a8-9395-9c6f2d071e57",
   "metadata": {},
   "outputs": [
    {
     "data": {
      "image/png": "[encoded data removed]",
      "text/plain": [
       "<Figure size 1100x1100 with 4 Axes>"
      ]
     },
     "metadata": {},
     "output_type": "display_data"
    }
   ],
   "source": [
    "# Plotting the columns again to visualize after capping\n",
    "\n",
    "numerical_columns=['Converted','TotalVisits','Total Time Spent on Website','Page Views Per Visit']\n",
    "\n",
    "plt.figure(figsize = (11, 11))\n",
    "sns.set_palette('bright')\n",
    "for col in enumerate(numerical_columns):\n",
    "    plt.subplot(2,2, col[0]+1)\n",
    "    sns.boxplot(x = col[1], data = lead)\n",
    "    plt.xticks(rotation = 90)\n",
    "    plt.tight_layout()\n",
    "plt.show()"
   ]
  },
  {
   "cell_type": "markdown",
   "id": "d59f8b35-548c-4723-b1dd-788809c72b66",
   "metadata": {},
   "source": [
    "## Data Preparation"
   ]
  },
  {
   "cell_type": "markdown",
   "id": "4bd6bdb8-73da-4336-bb0d-b641c89b5bcd",
   "metadata": {},
   "source": [
    "### Following steps will be done as part of data preparation:\n",
    "\n",
    "- Converting binary variable (Yes/No) to 1/0\n",
    "- Create dummies for categorical columns\n",
    "- Perform train-test split\n",
    "- Perform Scaling"
   ]
  },
  {
   "cell_type": "markdown",
   "id": "ea85a45e-89e3-4d4d-acef-8cb4e5aedcdd",
   "metadata": {},
   "source": [
    "#### Converting Binary Variables\n",
    "- Any kind of Data Preparation while performing Model Building involves converting Yes/No columns to binary values."
   ]
  },
  {
   "cell_type": "code",
   "execution_count": 99,
   "id": "6e514dfd-9492-49de-96a9-7448f61d5b4e",
   "metadata": {},
   "outputs": [],
   "source": [
    "# mapping the values yes/no to 1/0:\n",
    "\n",
    "varlist =['A free copy of Mastering The Interview']\n",
    "def binary_map(x):\n",
    "  return x.map({'Yes' : 1, \"No\": 0})\n",
    "\n",
    "lead[varlist] = lead[varlist].apply(binary_map)"
   ]
  },
  {
   "cell_type": "code",
   "execution_count": 100,
   "id": "4211d115-eb75-43e9-bcdb-70bbd0fc3b5e",
   "metadata": {},
   "outputs": [
    {
     "data": {
      "text/html": [
       "<div>\n",
       "<style scoped>\n",
       "    .dataframe tbody tr th:only-of-type {\n",
       "        vertical-align: middle;\n",
       "    }\n",
       "\n",
       "    .dataframe tbody tr th {\n",
       "        vertical-align: top;\n",
       "    }\n",
       "\n",
       "    .dataframe thead th {\n",
       "        text-align: right;\n",
       "    }\n",
       "</style>\n",
       "<table border=\"1\" class=\"dataframe\">\n",
       "  <thead>\n",
       "    <tr style=\"text-align: right;\">\n",
       "      <th></th>\n",
       "      <th>Prospect ID</th>\n",
       "      <th>Lead Number</th>\n",
       "      <th>Lead Origin</th>\n",
       "      <th>Lead Source</th>\n",
       "      <th>Converted</th>\n",
       "      <th>TotalVisits</th>\n",
       "      <th>Total Time Spent on Website</th>\n",
       "      <th>Page Views Per Visit</th>\n",
       "      <th>Last Activity</th>\n",
       "      <th>Specialization</th>\n",
       "      <th>What is your current occupation</th>\n",
       "      <th>A free copy of Mastering The Interview</th>\n",
       "    </tr>\n",
       "  </thead>\n",
       "  <tbody>\n",
       "    <tr>\n",
       "      <th>0</th>\n",
       "      <td>7927b2df-8bba-4d29-b9a2-b6e0beafe620</td>\n",
       "      <td>660737</td>\n",
       "      <td>API</td>\n",
       "      <td>Olark Chat</td>\n",
       "      <td>0</td>\n",
       "      <td>0.0</td>\n",
       "      <td>0</td>\n",
       "      <td>0.0</td>\n",
       "      <td>Page Visited on Website</td>\n",
       "      <td>Not Specified</td>\n",
       "      <td>Unemployed</td>\n",
       "      <td>0</td>\n",
       "    </tr>\n",
       "    <tr>\n",
       "      <th>1</th>\n",
       "      <td>2a272436-5132-4136-86fa-dcc88c88f482</td>\n",
       "      <td>660728</td>\n",
       "      <td>API</td>\n",
       "      <td>Organic Search</td>\n",
       "      <td>0</td>\n",
       "      <td>5.0</td>\n",
       "      <td>674</td>\n",
       "      <td>2.5</td>\n",
       "      <td>Email Opened</td>\n",
       "      <td>Not Specified</td>\n",
       "      <td>Unemployed</td>\n",
       "      <td>0</td>\n",
       "    </tr>\n",
       "    <tr>\n",
       "      <th>2</th>\n",
       "      <td>8cc8c611-a219-4f35-ad23-fdfd2656bd8a</td>\n",
       "      <td>660727</td>\n",
       "      <td>Landing Page Submission</td>\n",
       "      <td>Direct Traffic</td>\n",
       "      <td>1</td>\n",
       "      <td>2.0</td>\n",
       "      <td>1532</td>\n",
       "      <td>2.0</td>\n",
       "      <td>Email Opened</td>\n",
       "      <td>Business Administration</td>\n",
       "      <td>Student</td>\n",
       "      <td>1</td>\n",
       "    </tr>\n",
       "    <tr>\n",
       "      <th>3</th>\n",
       "      <td>0cc2df48-7cf4-4e39-9de9-19797f9b38cc</td>\n",
       "      <td>660719</td>\n",
       "      <td>Landing Page Submission</td>\n",
       "      <td>Direct Traffic</td>\n",
       "      <td>0</td>\n",
       "      <td>1.0</td>\n",
       "      <td>305</td>\n",
       "      <td>1.0</td>\n",
       "      <td>Others</td>\n",
       "      <td>Media and Advertising</td>\n",
       "      <td>Unemployed</td>\n",
       "      <td>0</td>\n",
       "    </tr>\n",
       "    <tr>\n",
       "      <th>4</th>\n",
       "      <td>3256f628-e534-4826-9d63-4a8b88782852</td>\n",
       "      <td>660681</td>\n",
       "      <td>Landing Page Submission</td>\n",
       "      <td>Google</td>\n",
       "      <td>1</td>\n",
       "      <td>2.0</td>\n",
       "      <td>1428</td>\n",
       "      <td>1.0</td>\n",
       "      <td>Converted to Lead</td>\n",
       "      <td>Not Specified</td>\n",
       "      <td>Unemployed</td>\n",
       "      <td>0</td>\n",
       "    </tr>\n",
       "  </tbody>\n",
       "</table>\n",
       "</div>"
      ],
      "text/plain": [
       "                            Prospect ID  Lead Number              Lead Origin  \\\n",
       "0  7927b2df-8bba-4d29-b9a2-b6e0beafe620       660737                      API   \n",
       "1  2a272436-5132-4136-86fa-dcc88c88f482       660728                      API   \n",
       "2  8cc8c611-a219-4f35-ad23-fdfd2656bd8a       660727  Landing Page Submission   \n",
       "3  0cc2df48-7cf4-4e39-9de9-19797f9b38cc       660719  Landing Page Submission   \n",
       "4  3256f628-e534-4826-9d63-4a8b88782852       660681  Landing Page Submission   \n",
       "\n",
       "      Lead Source  Converted  TotalVisits  Total Time Spent on Website  \\\n",
       "0      Olark Chat          0          0.0                            0   \n",
       "1  Organic Search          0          5.0                          674   \n",
       "2  Direct Traffic          1          2.0                         1532   \n",
       "3  Direct Traffic          0          1.0                          305   \n",
       "4          Google          1          2.0                         1428   \n",
       "\n",
       "   Page Views Per Visit            Last Activity           Specialization  \\\n",
       "0                   0.0  Page Visited on Website            Not Specified   \n",
       "1                   2.5             Email Opened            Not Specified   \n",
       "2                   2.0             Email Opened  Business Administration   \n",
       "3                   1.0                   Others    Media and Advertising   \n",
       "4                   1.0        Converted to Lead            Not Specified   \n",
       "\n",
       "  What is your current occupation  A free copy of Mastering The Interview  \n",
       "0                      Unemployed                                       0  \n",
       "1                      Unemployed                                       0  \n",
       "2                         Student                                       1  \n",
       "3                      Unemployed                                       0  \n",
       "4                      Unemployed                                       0  "
      ]
     },
     "execution_count": 100,
     "metadata": {},
     "output_type": "execute_result"
    }
   ],
   "source": [
    "# Inspecting the data for the same. \n",
    "\n",
    "lead.head()"
   ]
  },
  {
   "cell_type": "markdown",
   "id": "2dafe53f-cb7a-4f91-ac9a-341b42455c89",
   "metadata": {},
   "source": [
    "#### Preliminary step before creating dummies.\n",
    "- There are some columns with long names and this might be difficult for our analysis, hence we rename these columns."
   ]
  },
  {
   "cell_type": "code",
   "execution_count": 101,
   "id": "87aab24b-939f-482c-b013-1f64dc6a9936",
   "metadata": {},
   "outputs": [
    {
     "data": {
      "text/plain": [
       "Index(['Prospect ID', 'Lead Number', 'Lead Origin', 'Lead Source', 'Converted',\n",
       "       'TotalVisits', 'Total Time Spent on Website', 'Page Views Per Visit',\n",
       "       'Last Activity', 'Specialization', 'What is your current occupation',\n",
       "       'A free copy of Mastering The Interview'],\n",
       "      dtype='object')"
      ]
     },
     "execution_count": 101,
     "metadata": {},
     "output_type": "execute_result"
    }
   ],
   "source": [
    "# Checking for all columns\n",
    "\n",
    "lead.columns"
   ]
  },
  {
   "cell_type": "code",
   "execution_count": 102,
   "id": "cee264cf-9db5-4316-9a04-1c4503a45562",
   "metadata": {},
   "outputs": [],
   "source": [
    "# Rename the columns\n",
    "\n",
    "lead.rename(columns={'Total Time Spent on Website' : 'Time Spent', \n",
    "                     'What is your current occupation':'Current Occupation', 'A free copy of Mastering The Interview':'Free Copy'}, inplace=True )"
   ]
  },
  {
   "cell_type": "code",
   "execution_count": 103,
   "id": "aeb591aa-d80b-4879-bdb4-18a127782355",
   "metadata": {},
   "outputs": [
    {
     "data": {
      "text/plain": [
       "Index(['Prospect ID', 'Lead Number', 'Lead Origin', 'Lead Source', 'Converted',\n",
       "       'TotalVisits', 'Time Spent', 'Page Views Per Visit', 'Last Activity',\n",
       "       'Specialization', 'Current Occupation', 'Free Copy'],\n",
       "      dtype='object')"
      ]
     },
     "execution_count": 103,
     "metadata": {},
     "output_type": "execute_result"
    }
   ],
   "source": [
    "# Check if it has correctly been renamed \n",
    "\n",
    "lead.columns"
   ]
  },
  {
   "cell_type": "markdown",
   "id": "0edbc5c6-5153-46bf-9144-2f53f537af44",
   "metadata": {},
   "source": [
    "### Create Dummies for Categorical columns"
   ]
  },
  {
   "cell_type": "code",
   "execution_count": 104,
   "id": "371aa763-bb3b-4112-a689-d12e36da8cb0",
   "metadata": {},
   "outputs": [
    {
     "data": {
      "text/plain": [
       "Prospect ID              object\n",
       "Lead Number               int64\n",
       "Lead Origin              object\n",
       "Lead Source              object\n",
       "Converted                 int64\n",
       "TotalVisits             float64\n",
       "Time Spent                int64\n",
       "Page Views Per Visit    float64\n",
       "Last Activity            object\n",
       "Specialization           object\n",
       "Current Occupation       object\n",
       "Free Copy                 int64\n",
       "dtype: object"
      ]
     },
     "execution_count": 104,
     "metadata": {},
     "output_type": "execute_result"
    }
   ],
   "source": [
    "# Checking for categorical columns in the dataframe.\n",
    "\n",
    "lead.dtypes"
   ]
  },
  {
   "cell_type": "code",
   "execution_count": 105,
   "id": "36d2c3ae-3b15-421f-94ea-7d237ce262f5",
   "metadata": {},
   "outputs": [],
   "source": [
    "# Creating a dummy variable for some of the categorical variables and dropping the first one.\n",
    "\n",
    "dummy1 = pd.get_dummies(lead[['Lead Origin','Lead Source','Last Activity','Specialization','Current Occupation']], drop_first=True).astype(int)"
   ]
  },
  {
   "cell_type": "code",
   "execution_count": 107,
   "id": "59192557-6655-48bc-be49-14d249656de3",
   "metadata": {},
   "outputs": [
    {
     "data": {
      "text/html": [
       "<div>\n",
       "<style scoped>\n",
       "    .dataframe tbody tr th:only-of-type {\n",
       "        vertical-align: middle;\n",
       "    }\n",
       "\n",
       "    .dataframe tbody tr th {\n",
       "        vertical-align: top;\n",
       "    }\n",
       "\n",
       "    .dataframe thead th {\n",
       "        text-align: right;\n",
       "    }\n",
       "</style>\n",
       "<table border=\"1\" class=\"dataframe\">\n",
       "  <thead>\n",
       "    <tr style=\"text-align: right;\">\n",
       "      <th></th>\n",
       "      <th>Lead Origin_Landing Page Submission</th>\n",
       "      <th>Lead Origin_Lead Add Form</th>\n",
       "      <th>Lead Origin_Others</th>\n",
       "      <th>Lead Source_Google</th>\n",
       "      <th>Lead Source_Olark Chat</th>\n",
       "      <th>Lead Source_Organic Search</th>\n",
       "      <th>Lead Source_Others</th>\n",
       "      <th>Lead Source_Reference</th>\n",
       "      <th>Last Activity_Email Bounced</th>\n",
       "      <th>Last Activity_Email Link Clicked</th>\n",
       "      <th>...</th>\n",
       "      <th>Specialization_Marketing Management</th>\n",
       "      <th>Specialization_Media and Advertising</th>\n",
       "      <th>Specialization_Not Specified</th>\n",
       "      <th>Specialization_Operations Management</th>\n",
       "      <th>Specialization_Others</th>\n",
       "      <th>Specialization_Supply Chain Management</th>\n",
       "      <th>Specialization_Travel and Tourism</th>\n",
       "      <th>Current Occupation_Student</th>\n",
       "      <th>Current Occupation_Unemployed</th>\n",
       "      <th>Current Occupation_Working Professional</th>\n",
       "    </tr>\n",
       "  </thead>\n",
       "  <tbody>\n",
       "    <tr>\n",
       "      <th>0</th>\n",
       "      <td>0</td>\n",
       "      <td>0</td>\n",
       "      <td>0</td>\n",
       "      <td>0</td>\n",
       "      <td>1</td>\n",
       "      <td>0</td>\n",
       "      <td>0</td>\n",
       "      <td>0</td>\n",
       "      <td>0</td>\n",
       "      <td>0</td>\n",
       "      <td>...</td>\n",
       "      <td>0</td>\n",
       "      <td>0</td>\n",
       "      <td>1</td>\n",
       "      <td>0</td>\n",
       "      <td>0</td>\n",
       "      <td>0</td>\n",
       "      <td>0</td>\n",
       "      <td>0</td>\n",
       "      <td>1</td>\n",
       "      <td>0</td>\n",
       "    </tr>\n",
       "    <tr>\n",
       "      <th>1</th>\n",
       "      <td>0</td>\n",
       "      <td>0</td>\n",
       "      <td>0</td>\n",
       "      <td>0</td>\n",
       "      <td>0</td>\n",
       "      <td>1</td>\n",
       "      <td>0</td>\n",
       "      <td>0</td>\n",
       "      <td>0</td>\n",
       "      <td>0</td>\n",
       "      <td>...</td>\n",
       "      <td>0</td>\n",
       "      <td>0</td>\n",
       "      <td>1</td>\n",
       "      <td>0</td>\n",
       "      <td>0</td>\n",
       "      <td>0</td>\n",
       "      <td>0</td>\n",
       "      <td>0</td>\n",
       "      <td>1</td>\n",
       "      <td>0</td>\n",
       "    </tr>\n",
       "    <tr>\n",
       "      <th>2</th>\n",
       "      <td>1</td>\n",
       "      <td>0</td>\n",
       "      <td>0</td>\n",
       "      <td>0</td>\n",
       "      <td>0</td>\n",
       "      <td>0</td>\n",
       "      <td>0</td>\n",
       "      <td>0</td>\n",
       "      <td>0</td>\n",
       "      <td>0</td>\n",
       "      <td>...</td>\n",
       "      <td>0</td>\n",
       "      <td>0</td>\n",
       "      <td>0</td>\n",
       "      <td>0</td>\n",
       "      <td>0</td>\n",
       "      <td>0</td>\n",
       "      <td>0</td>\n",
       "      <td>1</td>\n",
       "      <td>0</td>\n",
       "      <td>0</td>\n",
       "    </tr>\n",
       "    <tr>\n",
       "      <th>3</th>\n",
       "      <td>1</td>\n",
       "      <td>0</td>\n",
       "      <td>0</td>\n",
       "      <td>0</td>\n",
       "      <td>0</td>\n",
       "      <td>0</td>\n",
       "      <td>0</td>\n",
       "      <td>0</td>\n",
       "      <td>0</td>\n",
       "      <td>0</td>\n",
       "      <td>...</td>\n",
       "      <td>0</td>\n",
       "      <td>1</td>\n",
       "      <td>0</td>\n",
       "      <td>0</td>\n",
       "      <td>0</td>\n",
       "      <td>0</td>\n",
       "      <td>0</td>\n",
       "      <td>0</td>\n",
       "      <td>1</td>\n",
       "      <td>0</td>\n",
       "    </tr>\n",
       "    <tr>\n",
       "      <th>4</th>\n",
       "      <td>1</td>\n",
       "      <td>0</td>\n",
       "      <td>0</td>\n",
       "      <td>1</td>\n",
       "      <td>0</td>\n",
       "      <td>0</td>\n",
       "      <td>0</td>\n",
       "      <td>0</td>\n",
       "      <td>0</td>\n",
       "      <td>0</td>\n",
       "      <td>...</td>\n",
       "      <td>0</td>\n",
       "      <td>0</td>\n",
       "      <td>1</td>\n",
       "      <td>0</td>\n",
       "      <td>0</td>\n",
       "      <td>0</td>\n",
       "      <td>0</td>\n",
       "      <td>0</td>\n",
       "      <td>1</td>\n",
       "      <td>0</td>\n",
       "    </tr>\n",
       "  </tbody>\n",
       "</table>\n",
       "<p>5 rows × 31 columns</p>\n",
       "</div>"
      ],
      "text/plain": [
       "   Lead Origin_Landing Page Submission  Lead Origin_Lead Add Form  \\\n",
       "0                                    0                          0   \n",
       "1                                    0                          0   \n",
       "2                                    1                          0   \n",
       "3                                    1                          0   \n",
       "4                                    1                          0   \n",
       "\n",
       "   Lead Origin_Others  Lead Source_Google  Lead Source_Olark Chat  \\\n",
       "0                   0                   0                       1   \n",
       "1                   0                   0                       0   \n",
       "2                   0                   0                       0   \n",
       "3                   0                   0                       0   \n",
       "4                   0                   1                       0   \n",
       "\n",
       "   Lead Source_Organic Search  Lead Source_Others  Lead Source_Reference  \\\n",
       "0                           0                   0                      0   \n",
       "1                           1                   0                      0   \n",
       "2                           0                   0                      0   \n",
       "3                           0                   0                      0   \n",
       "4                           0                   0                      0   \n",
       "\n",
       "   Last Activity_Email Bounced  Last Activity_Email Link Clicked  ...  \\\n",
       "0                            0                                 0  ...   \n",
       "1                            0                                 0  ...   \n",
       "2                            0                                 0  ...   \n",
       "3                            0                                 0  ...   \n",
       "4                            0                                 0  ...   \n",
       "\n",
       "   Specialization_Marketing Management  Specialization_Media and Advertising  \\\n",
       "0                                    0                                     0   \n",
       "1                                    0                                     0   \n",
       "2                                    0                                     0   \n",
       "3                                    0                                     1   \n",
       "4                                    0                                     0   \n",
       "\n",
       "   Specialization_Not Specified  Specialization_Operations Management  \\\n",
       "0                             1                                     0   \n",
       "1                             1                                     0   \n",
       "2                             0                                     0   \n",
       "3                             0                                     0   \n",
       "4                             1                                     0   \n",
       "\n",
       "   Specialization_Others  Specialization_Supply Chain Management  \\\n",
       "0                      0                                       0   \n",
       "1                      0                                       0   \n",
       "2                      0                                       0   \n",
       "3                      0                                       0   \n",
       "4                      0                                       0   \n",
       "\n",
       "   Specialization_Travel and Tourism  Current Occupation_Student  \\\n",
       "0                                  0                           0   \n",
       "1                                  0                           0   \n",
       "2                                  0                           1   \n",
       "3                                  0                           0   \n",
       "4                                  0                           0   \n",
       "\n",
       "   Current Occupation_Unemployed  Current Occupation_Working Professional  \n",
       "0                              1                                        0  \n",
       "1                              1                                        0  \n",
       "2                              0                                        0  \n",
       "3                              1                                        0  \n",
       "4                              1                                        0  \n",
       "\n",
       "[5 rows x 31 columns]"
      ]
     },
     "execution_count": 107,
     "metadata": {},
     "output_type": "execute_result"
    }
   ],
   "source": [
    "# checking dummies created\n",
    "\n",
    "dummy1.head()"
   ]
  },
  {
   "cell_type": "code",
   "execution_count": 108,
   "id": "f8c2754c-a1ae-4e77-9f1a-b652078f312f",
   "metadata": {},
   "outputs": [],
   "source": [
    "# Merging the dummy dataframs and the original dataframe\n",
    "\n",
    "lead = pd.concat([lead, dummy1], axis=1)"
   ]
  },
  {
   "cell_type": "code",
   "execution_count": 109,
   "id": "3931534b-944f-4173-a6b2-fef68b3bdfb1",
   "metadata": {},
   "outputs": [
    {
     "data": {
      "text/html": [
       "<div>\n",
       "<style scoped>\n",
       "    .dataframe tbody tr th:only-of-type {\n",
       "        vertical-align: middle;\n",
       "    }\n",
       "\n",
       "    .dataframe tbody tr th {\n",
       "        vertical-align: top;\n",
       "    }\n",
       "\n",
       "    .dataframe thead th {\n",
       "        text-align: right;\n",
       "    }\n",
       "</style>\n",
       "<table border=\"1\" class=\"dataframe\">\n",
       "  <thead>\n",
       "    <tr style=\"text-align: right;\">\n",
       "      <th></th>\n",
       "      <th>Prospect ID</th>\n",
       "      <th>Lead Number</th>\n",
       "      <th>Lead Origin</th>\n",
       "      <th>Lead Source</th>\n",
       "      <th>Converted</th>\n",
       "      <th>TotalVisits</th>\n",
       "      <th>Time Spent</th>\n",
       "      <th>Page Views Per Visit</th>\n",
       "      <th>Last Activity</th>\n",
       "      <th>Specialization</th>\n",
       "      <th>...</th>\n",
       "      <th>Specialization_Marketing Management</th>\n",
       "      <th>Specialization_Media and Advertising</th>\n",
       "      <th>Specialization_Not Specified</th>\n",
       "      <th>Specialization_Operations Management</th>\n",
       "      <th>Specialization_Others</th>\n",
       "      <th>Specialization_Supply Chain Management</th>\n",
       "      <th>Specialization_Travel and Tourism</th>\n",
       "      <th>Current Occupation_Student</th>\n",
       "      <th>Current Occupation_Unemployed</th>\n",
       "      <th>Current Occupation_Working Professional</th>\n",
       "    </tr>\n",
       "  </thead>\n",
       "  <tbody>\n",
       "    <tr>\n",
       "      <th>0</th>\n",
       "      <td>7927b2df-8bba-4d29-b9a2-b6e0beafe620</td>\n",
       "      <td>660737</td>\n",
       "      <td>API</td>\n",
       "      <td>Olark Chat</td>\n",
       "      <td>0</td>\n",
       "      <td>0.0</td>\n",
       "      <td>0</td>\n",
       "      <td>0.0</td>\n",
       "      <td>Page Visited on Website</td>\n",
       "      <td>Not Specified</td>\n",
       "      <td>...</td>\n",
       "      <td>0</td>\n",
       "      <td>0</td>\n",
       "      <td>1</td>\n",
       "      <td>0</td>\n",
       "      <td>0</td>\n",
       "      <td>0</td>\n",
       "      <td>0</td>\n",
       "      <td>0</td>\n",
       "      <td>1</td>\n",
       "      <td>0</td>\n",
       "    </tr>\n",
       "    <tr>\n",
       "      <th>1</th>\n",
       "      <td>2a272436-5132-4136-86fa-dcc88c88f482</td>\n",
       "      <td>660728</td>\n",
       "      <td>API</td>\n",
       "      <td>Organic Search</td>\n",
       "      <td>0</td>\n",
       "      <td>5.0</td>\n",
       "      <td>674</td>\n",
       "      <td>2.5</td>\n",
       "      <td>Email Opened</td>\n",
       "      <td>Not Specified</td>\n",
       "      <td>...</td>\n",
       "      <td>0</td>\n",
       "      <td>0</td>\n",
       "      <td>1</td>\n",
       "      <td>0</td>\n",
       "      <td>0</td>\n",
       "      <td>0</td>\n",
       "      <td>0</td>\n",
       "      <td>0</td>\n",
       "      <td>1</td>\n",
       "      <td>0</td>\n",
       "    </tr>\n",
       "    <tr>\n",
       "      <th>2</th>\n",
       "      <td>8cc8c611-a219-4f35-ad23-fdfd2656bd8a</td>\n",
       "      <td>660727</td>\n",
       "      <td>Landing Page Submission</td>\n",
       "      <td>Direct Traffic</td>\n",
       "      <td>1</td>\n",
       "      <td>2.0</td>\n",
       "      <td>1532</td>\n",
       "      <td>2.0</td>\n",
       "      <td>Email Opened</td>\n",
       "      <td>Business Administration</td>\n",
       "      <td>...</td>\n",
       "      <td>0</td>\n",
       "      <td>0</td>\n",
       "      <td>0</td>\n",
       "      <td>0</td>\n",
       "      <td>0</td>\n",
       "      <td>0</td>\n",
       "      <td>0</td>\n",
       "      <td>1</td>\n",
       "      <td>0</td>\n",
       "      <td>0</td>\n",
       "    </tr>\n",
       "    <tr>\n",
       "      <th>3</th>\n",
       "      <td>0cc2df48-7cf4-4e39-9de9-19797f9b38cc</td>\n",
       "      <td>660719</td>\n",
       "      <td>Landing Page Submission</td>\n",
       "      <td>Direct Traffic</td>\n",
       "      <td>0</td>\n",
       "      <td>1.0</td>\n",
       "      <td>305</td>\n",
       "      <td>1.0</td>\n",
       "      <td>Others</td>\n",
       "      <td>Media and Advertising</td>\n",
       "      <td>...</td>\n",
       "      <td>0</td>\n",
       "      <td>1</td>\n",
       "      <td>0</td>\n",
       "      <td>0</td>\n",
       "      <td>0</td>\n",
       "      <td>0</td>\n",
       "      <td>0</td>\n",
       "      <td>0</td>\n",
       "      <td>1</td>\n",
       "      <td>0</td>\n",
       "    </tr>\n",
       "    <tr>\n",
       "      <th>4</th>\n",
       "      <td>3256f628-e534-4826-9d63-4a8b88782852</td>\n",
       "      <td>660681</td>\n",
       "      <td>Landing Page Submission</td>\n",
       "      <td>Google</td>\n",
       "      <td>1</td>\n",
       "      <td>2.0</td>\n",
       "      <td>1428</td>\n",
       "      <td>1.0</td>\n",
       "      <td>Converted to Lead</td>\n",
       "      <td>Not Specified</td>\n",
       "      <td>...</td>\n",
       "      <td>0</td>\n",
       "      <td>0</td>\n",
       "      <td>1</td>\n",
       "      <td>0</td>\n",
       "      <td>0</td>\n",
       "      <td>0</td>\n",
       "      <td>0</td>\n",
       "      <td>0</td>\n",
       "      <td>1</td>\n",
       "      <td>0</td>\n",
       "    </tr>\n",
       "  </tbody>\n",
       "</table>\n",
       "<p>5 rows × 43 columns</p>\n",
       "</div>"
      ],
      "text/plain": [
       "                            Prospect ID  Lead Number              Lead Origin  \\\n",
       "0  7927b2df-8bba-4d29-b9a2-b6e0beafe620       660737                      API   \n",
       "1  2a272436-5132-4136-86fa-dcc88c88f482       660728                      API   \n",
       "2  8cc8c611-a219-4f35-ad23-fdfd2656bd8a       660727  Landing Page Submission   \n",
       "3  0cc2df48-7cf4-4e39-9de9-19797f9b38cc       660719  Landing Page Submission   \n",
       "4  3256f628-e534-4826-9d63-4a8b88782852       660681  Landing Page Submission   \n",
       "\n",
       "      Lead Source  Converted  TotalVisits  Time Spent  Page Views Per Visit  \\\n",
       "0      Olark Chat          0          0.0           0                   0.0   \n",
       "1  Organic Search          0          5.0         674                   2.5   \n",
       "2  Direct Traffic          1          2.0        1532                   2.0   \n",
       "3  Direct Traffic          0          1.0         305                   1.0   \n",
       "4          Google          1          2.0        1428                   1.0   \n",
       "\n",
       "             Last Activity           Specialization  ...  \\\n",
       "0  Page Visited on Website            Not Specified  ...   \n",
       "1             Email Opened            Not Specified  ...   \n",
       "2             Email Opened  Business Administration  ...   \n",
       "3                   Others    Media and Advertising  ...   \n",
       "4        Converted to Lead            Not Specified  ...   \n",
       "\n",
       "  Specialization_Marketing Management  Specialization_Media and Advertising  \\\n",
       "0                                   0                                     0   \n",
       "1                                   0                                     0   \n",
       "2                                   0                                     0   \n",
       "3                                   0                                     1   \n",
       "4                                   0                                     0   \n",
       "\n",
       "   Specialization_Not Specified  Specialization_Operations Management  \\\n",
       "0                             1                                     0   \n",
       "1                             1                                     0   \n",
       "2                             0                                     0   \n",
       "3                             0                                     0   \n",
       "4                             1                                     0   \n",
       "\n",
       "   Specialization_Others  Specialization_Supply Chain Management  \\\n",
       "0                      0                                       0   \n",
       "1                      0                                       0   \n",
       "2                      0                                       0   \n",
       "3                      0                                       0   \n",
       "4                      0                                       0   \n",
       "\n",
       "   Specialization_Travel and Tourism  Current Occupation_Student  \\\n",
       "0                                  0                           0   \n",
       "1                                  0                           0   \n",
       "2                                  0                           1   \n",
       "3                                  0                           0   \n",
       "4                                  0                           0   \n",
       "\n",
       "   Current Occupation_Unemployed  Current Occupation_Working Professional  \n",
       "0                              1                                        0  \n",
       "1                              1                                        0  \n",
       "2                              0                                        0  \n",
       "3                              1                                        0  \n",
       "4                              1                                        0  \n",
       "\n",
       "[5 rows x 43 columns]"
      ]
     },
     "execution_count": 109,
     "metadata": {},
     "output_type": "execute_result"
    }
   ],
   "source": [
    "# Checking if the dummy-variables are added into the dataframe correctly.\n",
    "\n",
    "lead.head()"
   ]
  },
  {
   "cell_type": "code",
   "execution_count": 110,
   "id": "079ae61b-a904-45c9-b6ea-5104d75f7503",
   "metadata": {},
   "outputs": [],
   "source": [
    "# Dropping the original columns\n",
    "\n",
    "lead.drop(['Lead Origin','Lead Source','Last Activity','Specialization','Current Occupation'], axis=1, inplace=True)"
   ]
  },
  {
   "cell_type": "code",
   "execution_count": 111,
   "id": "4f7206ce-a1b2-4d4b-b73c-3cc34ef4c840",
   "metadata": {},
   "outputs": [
    {
     "data": {
      "text/html": [
       "<div>\n",
       "<style scoped>\n",
       "    .dataframe tbody tr th:only-of-type {\n",
       "        vertical-align: middle;\n",
       "    }\n",
       "\n",
       "    .dataframe tbody tr th {\n",
       "        vertical-align: top;\n",
       "    }\n",
       "\n",
       "    .dataframe thead th {\n",
       "        text-align: right;\n",
       "    }\n",
       "</style>\n",
       "<table border=\"1\" class=\"dataframe\">\n",
       "  <thead>\n",
       "    <tr style=\"text-align: right;\">\n",
       "      <th></th>\n",
       "      <th>Prospect ID</th>\n",
       "      <th>Lead Number</th>\n",
       "      <th>Converted</th>\n",
       "      <th>TotalVisits</th>\n",
       "      <th>Time Spent</th>\n",
       "      <th>Page Views Per Visit</th>\n",
       "      <th>Free Copy</th>\n",
       "      <th>Lead Origin_Landing Page Submission</th>\n",
       "      <th>Lead Origin_Lead Add Form</th>\n",
       "      <th>Lead Origin_Others</th>\n",
       "      <th>...</th>\n",
       "      <th>Specialization_Marketing Management</th>\n",
       "      <th>Specialization_Media and Advertising</th>\n",
       "      <th>Specialization_Not Specified</th>\n",
       "      <th>Specialization_Operations Management</th>\n",
       "      <th>Specialization_Others</th>\n",
       "      <th>Specialization_Supply Chain Management</th>\n",
       "      <th>Specialization_Travel and Tourism</th>\n",
       "      <th>Current Occupation_Student</th>\n",
       "      <th>Current Occupation_Unemployed</th>\n",
       "      <th>Current Occupation_Working Professional</th>\n",
       "    </tr>\n",
       "  </thead>\n",
       "  <tbody>\n",
       "    <tr>\n",
       "      <th>0</th>\n",
       "      <td>7927b2df-8bba-4d29-b9a2-b6e0beafe620</td>\n",
       "      <td>660737</td>\n",
       "      <td>0</td>\n",
       "      <td>0.0</td>\n",
       "      <td>0</td>\n",
       "      <td>0.0</td>\n",
       "      <td>0</td>\n",
       "      <td>0</td>\n",
       "      <td>0</td>\n",
       "      <td>0</td>\n",
       "      <td>...</td>\n",
       "      <td>0</td>\n",
       "      <td>0</td>\n",
       "      <td>1</td>\n",
       "      <td>0</td>\n",
       "      <td>0</td>\n",
       "      <td>0</td>\n",
       "      <td>0</td>\n",
       "      <td>0</td>\n",
       "      <td>1</td>\n",
       "      <td>0</td>\n",
       "    </tr>\n",
       "    <tr>\n",
       "      <th>1</th>\n",
       "      <td>2a272436-5132-4136-86fa-dcc88c88f482</td>\n",
       "      <td>660728</td>\n",
       "      <td>0</td>\n",
       "      <td>5.0</td>\n",
       "      <td>674</td>\n",
       "      <td>2.5</td>\n",
       "      <td>0</td>\n",
       "      <td>0</td>\n",
       "      <td>0</td>\n",
       "      <td>0</td>\n",
       "      <td>...</td>\n",
       "      <td>0</td>\n",
       "      <td>0</td>\n",
       "      <td>1</td>\n",
       "      <td>0</td>\n",
       "      <td>0</td>\n",
       "      <td>0</td>\n",
       "      <td>0</td>\n",
       "      <td>0</td>\n",
       "      <td>1</td>\n",
       "      <td>0</td>\n",
       "    </tr>\n",
       "    <tr>\n",
       "      <th>2</th>\n",
       "      <td>8cc8c611-a219-4f35-ad23-fdfd2656bd8a</td>\n",
       "      <td>660727</td>\n",
       "      <td>1</td>\n",
       "      <td>2.0</td>\n",
       "      <td>1532</td>\n",
       "      <td>2.0</td>\n",
       "      <td>1</td>\n",
       "      <td>1</td>\n",
       "      <td>0</td>\n",
       "      <td>0</td>\n",
       "      <td>...</td>\n",
       "      <td>0</td>\n",
       "      <td>0</td>\n",
       "      <td>0</td>\n",
       "      <td>0</td>\n",
       "      <td>0</td>\n",
       "      <td>0</td>\n",
       "      <td>0</td>\n",
       "      <td>1</td>\n",
       "      <td>0</td>\n",
       "      <td>0</td>\n",
       "    </tr>\n",
       "    <tr>\n",
       "      <th>3</th>\n",
       "      <td>0cc2df48-7cf4-4e39-9de9-19797f9b38cc</td>\n",
       "      <td>660719</td>\n",
       "      <td>0</td>\n",
       "      <td>1.0</td>\n",
       "      <td>305</td>\n",
       "      <td>1.0</td>\n",
       "      <td>0</td>\n",
       "      <td>1</td>\n",
       "      <td>0</td>\n",
       "      <td>0</td>\n",
       "      <td>...</td>\n",
       "      <td>0</td>\n",
       "      <td>1</td>\n",
       "      <td>0</td>\n",
       "      <td>0</td>\n",
       "      <td>0</td>\n",
       "      <td>0</td>\n",
       "      <td>0</td>\n",
       "      <td>0</td>\n",
       "      <td>1</td>\n",
       "      <td>0</td>\n",
       "    </tr>\n",
       "    <tr>\n",
       "      <th>4</th>\n",
       "      <td>3256f628-e534-4826-9d63-4a8b88782852</td>\n",
       "      <td>660681</td>\n",
       "      <td>1</td>\n",
       "      <td>2.0</td>\n",
       "      <td>1428</td>\n",
       "      <td>1.0</td>\n",
       "      <td>0</td>\n",
       "      <td>1</td>\n",
       "      <td>0</td>\n",
       "      <td>0</td>\n",
       "      <td>...</td>\n",
       "      <td>0</td>\n",
       "      <td>0</td>\n",
       "      <td>1</td>\n",
       "      <td>0</td>\n",
       "      <td>0</td>\n",
       "      <td>0</td>\n",
       "      <td>0</td>\n",
       "      <td>0</td>\n",
       "      <td>1</td>\n",
       "      <td>0</td>\n",
       "    </tr>\n",
       "  </tbody>\n",
       "</table>\n",
       "<p>5 rows × 38 columns</p>\n",
       "</div>"
      ],
      "text/plain": [
       "                            Prospect ID  Lead Number  Converted  TotalVisits  \\\n",
       "0  7927b2df-8bba-4d29-b9a2-b6e0beafe620       660737          0          0.0   \n",
       "1  2a272436-5132-4136-86fa-dcc88c88f482       660728          0          5.0   \n",
       "2  8cc8c611-a219-4f35-ad23-fdfd2656bd8a       660727          1          2.0   \n",
       "3  0cc2df48-7cf4-4e39-9de9-19797f9b38cc       660719          0          1.0   \n",
       "4  3256f628-e534-4826-9d63-4a8b88782852       660681          1          2.0   \n",
       "\n",
       "   Time Spent  Page Views Per Visit  Free Copy  \\\n",
       "0           0                   0.0          0   \n",
       "1         674                   2.5          0   \n",
       "2        1532                   2.0          1   \n",
       "3         305                   1.0          0   \n",
       "4        1428                   1.0          0   \n",
       "\n",
       "   Lead Origin_Landing Page Submission  Lead Origin_Lead Add Form  \\\n",
       "0                                    0                          0   \n",
       "1                                    0                          0   \n",
       "2                                    1                          0   \n",
       "3                                    1                          0   \n",
       "4                                    1                          0   \n",
       "\n",
       "   Lead Origin_Others  ...  Specialization_Marketing Management  \\\n",
       "0                   0  ...                                    0   \n",
       "1                   0  ...                                    0   \n",
       "2                   0  ...                                    0   \n",
       "3                   0  ...                                    0   \n",
       "4                   0  ...                                    0   \n",
       "\n",
       "   Specialization_Media and Advertising  Specialization_Not Specified  \\\n",
       "0                                     0                             1   \n",
       "1                                     0                             1   \n",
       "2                                     0                             0   \n",
       "3                                     1                             0   \n",
       "4                                     0                             1   \n",
       "\n",
       "   Specialization_Operations Management  Specialization_Others  \\\n",
       "0                                     0                      0   \n",
       "1                                     0                      0   \n",
       "2                                     0                      0   \n",
       "3                                     0                      0   \n",
       "4                                     0                      0   \n",
       "\n",
       "   Specialization_Supply Chain Management  Specialization_Travel and Tourism  \\\n",
       "0                                       0                                  0   \n",
       "1                                       0                                  0   \n",
       "2                                       0                                  0   \n",
       "3                                       0                                  0   \n",
       "4                                       0                                  0   \n",
       "\n",
       "   Current Occupation_Student  Current Occupation_Unemployed  \\\n",
       "0                           0                              1   \n",
       "1                           0                              1   \n",
       "2                           1                              0   \n",
       "3                           0                              1   \n",
       "4                           0                              1   \n",
       "\n",
       "   Current Occupation_Working Professional  \n",
       "0                                        0  \n",
       "1                                        0  \n",
       "2                                        0  \n",
       "3                                        0  \n",
       "4                                        0  \n",
       "\n",
       "[5 rows x 38 columns]"
      ]
     },
     "execution_count": 111,
     "metadata": {},
     "output_type": "execute_result"
    }
   ],
   "source": [
    "# Inspecting the dataframe again \n",
    "\n",
    "lead.head()"
   ]
  },
  {
   "cell_type": "code",
   "execution_count": 112,
   "id": "87c3827f-8050-4bc9-9021-7025d54b593c",
   "metadata": {},
   "outputs": [
    {
     "data": {
      "text/plain": [
       "Prospect ID                                  object\n",
       "Lead Number                                   int64\n",
       "Converted                                     int64\n",
       "TotalVisits                                 float64\n",
       "Time Spent                                    int64\n",
       "Page Views Per Visit                        float64\n",
       "Free Copy                                     int64\n",
       "Lead Origin_Landing Page Submission           int32\n",
       "Lead Origin_Lead Add Form                     int32\n",
       "Lead Origin_Others                            int32\n",
       "Lead Source_Google                            int32\n",
       "Lead Source_Olark Chat                        int32\n",
       "Lead Source_Organic Search                    int32\n",
       "Lead Source_Others                            int32\n",
       "Lead Source_Reference                         int32\n",
       "Last Activity_Email Bounced                   int32\n",
       "Last Activity_Email Link Clicked              int32\n",
       "Last Activity_Email Opened                    int32\n",
       "Last Activity_Olark Chat Conversation         int32\n",
       "Last Activity_Others                          int32\n",
       "Last Activity_Page Visited on Website         int32\n",
       "Last Activity_SMS Sent                        int32\n",
       "Specialization_Business Administration        int32\n",
       "Specialization_Finance Management             int32\n",
       "Specialization_Healthcare Management          int32\n",
       "Specialization_Human Resource Management      int32\n",
       "Specialization_IT Projects Management         int32\n",
       "Specialization_International Business         int32\n",
       "Specialization_Marketing Management           int32\n",
       "Specialization_Media and Advertising          int32\n",
       "Specialization_Not Specified                  int32\n",
       "Specialization_Operations Management          int32\n",
       "Specialization_Others                         int32\n",
       "Specialization_Supply Chain Management        int32\n",
       "Specialization_Travel and Tourism             int32\n",
       "Current Occupation_Student                    int32\n",
       "Current Occupation_Unemployed                 int32\n",
       "Current Occupation_Working Professional       int32\n",
       "dtype: object"
      ]
     },
     "execution_count": 112,
     "metadata": {},
     "output_type": "execute_result"
    }
   ],
   "source": [
    "# Checking Datatypes\n",
    "\n",
    "lead.dtypes"
   ]
  },
  {
   "cell_type": "markdown",
   "id": "48cdc74e-bc05-4300-9628-fc2f694b66ad",
   "metadata": {},
   "source": [
    "#### Observation :\n",
    "- We can see that mostly all columns are already converted into Integer/Numerical datatype.\n",
    "- Hence, we can continue with our evaluation."
   ]
  },
  {
   "cell_type": "markdown",
   "id": "ee41ed21-14f7-408e-a48d-806d27e970c3",
   "metadata": {},
   "source": [
    "## Test-Train Data Split"
   ]
  },
  {
   "cell_type": "code",
   "execution_count": 113,
   "id": "22ba0d38-b126-4f87-ba4f-fa58a657d269",
   "metadata": {},
   "outputs": [],
   "source": [
    "# Importing the required libraries to divide the data into test data and training data.\n",
    "\n",
    "from sklearn.model_selection import train_test_split"
   ]
  },
  {
   "cell_type": "code",
   "execution_count": 114,
   "id": "197cd07c-949b-49f1-b8cb-74e260a95fe8",
   "metadata": {},
   "outputs": [],
   "source": [
    "# Adding all feature columns to X Variable\n",
    "\n",
    "X = lead.drop(['Converted','Prospect ID','Lead Number'], axis=1)"
   ]
  },
  {
   "cell_type": "code",
   "execution_count": 115,
   "id": "083d9fc9-4b94-4ad4-852f-3b8609984ee8",
   "metadata": {},
   "outputs": [
    {
     "data": {
      "text/html": [
       "<div>\n",
       "<style scoped>\n",
       "    .dataframe tbody tr th:only-of-type {\n",
       "        vertical-align: middle;\n",
       "    }\n",
       "\n",
       "    .dataframe tbody tr th {\n",
       "        vertical-align: top;\n",
       "    }\n",
       "\n",
       "    .dataframe thead th {\n",
       "        text-align: right;\n",
       "    }\n",
       "</style>\n",
       "<table border=\"1\" class=\"dataframe\">\n",
       "  <thead>\n",
       "    <tr style=\"text-align: right;\">\n",
       "      <th></th>\n",
       "      <th>TotalVisits</th>\n",
       "      <th>Time Spent</th>\n",
       "      <th>Page Views Per Visit</th>\n",
       "      <th>Free Copy</th>\n",
       "      <th>Lead Origin_Landing Page Submission</th>\n",
       "      <th>Lead Origin_Lead Add Form</th>\n",
       "      <th>Lead Origin_Others</th>\n",
       "      <th>Lead Source_Google</th>\n",
       "      <th>Lead Source_Olark Chat</th>\n",
       "      <th>Lead Source_Organic Search</th>\n",
       "      <th>...</th>\n",
       "      <th>Specialization_Marketing Management</th>\n",
       "      <th>Specialization_Media and Advertising</th>\n",
       "      <th>Specialization_Not Specified</th>\n",
       "      <th>Specialization_Operations Management</th>\n",
       "      <th>Specialization_Others</th>\n",
       "      <th>Specialization_Supply Chain Management</th>\n",
       "      <th>Specialization_Travel and Tourism</th>\n",
       "      <th>Current Occupation_Student</th>\n",
       "      <th>Current Occupation_Unemployed</th>\n",
       "      <th>Current Occupation_Working Professional</th>\n",
       "    </tr>\n",
       "  </thead>\n",
       "  <tbody>\n",
       "    <tr>\n",
       "      <th>0</th>\n",
       "      <td>0.0</td>\n",
       "      <td>0</td>\n",
       "      <td>0.0</td>\n",
       "      <td>0</td>\n",
       "      <td>0</td>\n",
       "      <td>0</td>\n",
       "      <td>0</td>\n",
       "      <td>0</td>\n",
       "      <td>1</td>\n",
       "      <td>0</td>\n",
       "      <td>...</td>\n",
       "      <td>0</td>\n",
       "      <td>0</td>\n",
       "      <td>1</td>\n",
       "      <td>0</td>\n",
       "      <td>0</td>\n",
       "      <td>0</td>\n",
       "      <td>0</td>\n",
       "      <td>0</td>\n",
       "      <td>1</td>\n",
       "      <td>0</td>\n",
       "    </tr>\n",
       "    <tr>\n",
       "      <th>1</th>\n",
       "      <td>5.0</td>\n",
       "      <td>674</td>\n",
       "      <td>2.5</td>\n",
       "      <td>0</td>\n",
       "      <td>0</td>\n",
       "      <td>0</td>\n",
       "      <td>0</td>\n",
       "      <td>0</td>\n",
       "      <td>0</td>\n",
       "      <td>1</td>\n",
       "      <td>...</td>\n",
       "      <td>0</td>\n",
       "      <td>0</td>\n",
       "      <td>1</td>\n",
       "      <td>0</td>\n",
       "      <td>0</td>\n",
       "      <td>0</td>\n",
       "      <td>0</td>\n",
       "      <td>0</td>\n",
       "      <td>1</td>\n",
       "      <td>0</td>\n",
       "    </tr>\n",
       "    <tr>\n",
       "      <th>2</th>\n",
       "      <td>2.0</td>\n",
       "      <td>1532</td>\n",
       "      <td>2.0</td>\n",
       "      <td>1</td>\n",
       "      <td>1</td>\n",
       "      <td>0</td>\n",
       "      <td>0</td>\n",
       "      <td>0</td>\n",
       "      <td>0</td>\n",
       "      <td>0</td>\n",
       "      <td>...</td>\n",
       "      <td>0</td>\n",
       "      <td>0</td>\n",
       "      <td>0</td>\n",
       "      <td>0</td>\n",
       "      <td>0</td>\n",
       "      <td>0</td>\n",
       "      <td>0</td>\n",
       "      <td>1</td>\n",
       "      <td>0</td>\n",
       "      <td>0</td>\n",
       "    </tr>\n",
       "    <tr>\n",
       "      <th>3</th>\n",
       "      <td>1.0</td>\n",
       "      <td>305</td>\n",
       "      <td>1.0</td>\n",
       "      <td>0</td>\n",
       "      <td>1</td>\n",
       "      <td>0</td>\n",
       "      <td>0</td>\n",
       "      <td>0</td>\n",
       "      <td>0</td>\n",
       "      <td>0</td>\n",
       "      <td>...</td>\n",
       "      <td>0</td>\n",
       "      <td>1</td>\n",
       "      <td>0</td>\n",
       "      <td>0</td>\n",
       "      <td>0</td>\n",
       "      <td>0</td>\n",
       "      <td>0</td>\n",
       "      <td>0</td>\n",
       "      <td>1</td>\n",
       "      <td>0</td>\n",
       "    </tr>\n",
       "    <tr>\n",
       "      <th>4</th>\n",
       "      <td>2.0</td>\n",
       "      <td>1428</td>\n",
       "      <td>1.0</td>\n",
       "      <td>0</td>\n",
       "      <td>1</td>\n",
       "      <td>0</td>\n",
       "      <td>0</td>\n",
       "      <td>1</td>\n",
       "      <td>0</td>\n",
       "      <td>0</td>\n",
       "      <td>...</td>\n",
       "      <td>0</td>\n",
       "      <td>0</td>\n",
       "      <td>1</td>\n",
       "      <td>0</td>\n",
       "      <td>0</td>\n",
       "      <td>0</td>\n",
       "      <td>0</td>\n",
       "      <td>0</td>\n",
       "      <td>1</td>\n",
       "      <td>0</td>\n",
       "    </tr>\n",
       "  </tbody>\n",
       "</table>\n",
       "<p>5 rows × 35 columns</p>\n",
       "</div>"
      ],
      "text/plain": [
       "   TotalVisits  Time Spent  Page Views Per Visit  Free Copy  \\\n",
       "0          0.0           0                   0.0          0   \n",
       "1          5.0         674                   2.5          0   \n",
       "2          2.0        1532                   2.0          1   \n",
       "3          1.0         305                   1.0          0   \n",
       "4          2.0        1428                   1.0          0   \n",
       "\n",
       "   Lead Origin_Landing Page Submission  Lead Origin_Lead Add Form  \\\n",
       "0                                    0                          0   \n",
       "1                                    0                          0   \n",
       "2                                    1                          0   \n",
       "3                                    1                          0   \n",
       "4                                    1                          0   \n",
       "\n",
       "   Lead Origin_Others  Lead Source_Google  Lead Source_Olark Chat  \\\n",
       "0                   0                   0                       1   \n",
       "1                   0                   0                       0   \n",
       "2                   0                   0                       0   \n",
       "3                   0                   0                       0   \n",
       "4                   0                   1                       0   \n",
       "\n",
       "   Lead Source_Organic Search  ...  Specialization_Marketing Management  \\\n",
       "0                           0  ...                                    0   \n",
       "1                           1  ...                                    0   \n",
       "2                           0  ...                                    0   \n",
       "3                           0  ...                                    0   \n",
       "4                           0  ...                                    0   \n",
       "\n",
       "   Specialization_Media and Advertising  Specialization_Not Specified  \\\n",
       "0                                     0                             1   \n",
       "1                                     0                             1   \n",
       "2                                     0                             0   \n",
       "3                                     1                             0   \n",
       "4                                     0                             1   \n",
       "\n",
       "   Specialization_Operations Management  Specialization_Others  \\\n",
       "0                                     0                      0   \n",
       "1                                     0                      0   \n",
       "2                                     0                      0   \n",
       "3                                     0                      0   \n",
       "4                                     0                      0   \n",
       "\n",
       "   Specialization_Supply Chain Management  Specialization_Travel and Tourism  \\\n",
       "0                                       0                                  0   \n",
       "1                                       0                                  0   \n",
       "2                                       0                                  0   \n",
       "3                                       0                                  0   \n",
       "4                                       0                                  0   \n",
       "\n",
       "   Current Occupation_Student  Current Occupation_Unemployed  \\\n",
       "0                           0                              1   \n",
       "1                           0                              1   \n",
       "2                           1                              0   \n",
       "3                           0                              1   \n",
       "4                           0                              1   \n",
       "\n",
       "   Current Occupation_Working Professional  \n",
       "0                                        0  \n",
       "1                                        0  \n",
       "2                                        0  \n",
       "3                                        0  \n",
       "4                                        0  \n",
       "\n",
       "[5 rows x 35 columns]"
      ]
     },
     "execution_count": 115,
     "metadata": {},
     "output_type": "execute_result"
    }
   ],
   "source": [
    "X.head()"
   ]
  },
  {
   "cell_type": "code",
   "execution_count": 116,
   "id": "9c6e6c79-cd1c-4b7c-9351-a223a54fd62d",
   "metadata": {},
   "outputs": [],
   "source": [
    "# Adding our target column to Y Variable\n",
    "\n",
    "y = lead['Converted']"
   ]
  },
  {
   "cell_type": "code",
   "execution_count": 117,
   "id": "4fcc18e2-d912-4747-b363-d99faa35b08e",
   "metadata": {},
   "outputs": [
    {
     "data": {
      "text/plain": [
       "0    0\n",
       "1    0\n",
       "2    1\n",
       "3    0\n",
       "4    1\n",
       "Name: Converted, dtype: int64"
      ]
     },
     "execution_count": 117,
     "metadata": {},
     "output_type": "execute_result"
    }
   ],
   "source": [
    "y.head()"
   ]
  },
  {
   "cell_type": "code",
   "execution_count": 118,
   "id": "6730ec5e-b2e6-4efc-8bea-598c43752b02",
   "metadata": {},
   "outputs": [],
   "source": [
    "# Splitting the data into train and test (70%-30%)\n",
    "\n",
    "X_train, X_test, y_train, y_test = train_test_split(X, y, train_size=0.7, test_size=0.3, random_state=100)"
   ]
  },
  {
   "cell_type": "markdown",
   "id": "3ad1c23a-9e1f-4df5-8870-0cdb60c4114b",
   "metadata": {},
   "source": [
    "### Scaling all the required variables"
   ]
  },
  {
   "cell_type": "code",
   "execution_count": 119,
   "id": "9839d85d-968d-49bb-9666-fe84c32c141c",
   "metadata": {},
   "outputs": [
    {
     "data": {
      "text/html": [
       "<div>\n",
       "<style scoped>\n",
       "    .dataframe tbody tr th:only-of-type {\n",
       "        vertical-align: middle;\n",
       "    }\n",
       "\n",
       "    .dataframe tbody tr th {\n",
       "        vertical-align: top;\n",
       "    }\n",
       "\n",
       "    .dataframe thead th {\n",
       "        text-align: right;\n",
       "    }\n",
       "</style>\n",
       "<table border=\"1\" class=\"dataframe\">\n",
       "  <thead>\n",
       "    <tr style=\"text-align: right;\">\n",
       "      <th></th>\n",
       "      <th>TotalVisits</th>\n",
       "      <th>Time Spent</th>\n",
       "      <th>Page Views Per Visit</th>\n",
       "      <th>Free Copy</th>\n",
       "      <th>Lead Origin_Landing Page Submission</th>\n",
       "      <th>Lead Origin_Lead Add Form</th>\n",
       "      <th>Lead Origin_Others</th>\n",
       "      <th>Lead Source_Google</th>\n",
       "      <th>Lead Source_Olark Chat</th>\n",
       "      <th>Lead Source_Organic Search</th>\n",
       "      <th>...</th>\n",
       "      <th>Specialization_Marketing Management</th>\n",
       "      <th>Specialization_Media and Advertising</th>\n",
       "      <th>Specialization_Not Specified</th>\n",
       "      <th>Specialization_Operations Management</th>\n",
       "      <th>Specialization_Others</th>\n",
       "      <th>Specialization_Supply Chain Management</th>\n",
       "      <th>Specialization_Travel and Tourism</th>\n",
       "      <th>Current Occupation_Student</th>\n",
       "      <th>Current Occupation_Unemployed</th>\n",
       "      <th>Current Occupation_Working Professional</th>\n",
       "    </tr>\n",
       "  </thead>\n",
       "  <tbody>\n",
       "    <tr>\n",
       "      <th>1871</th>\n",
       "      <td>-1.022595</td>\n",
       "      <td>-0.885371</td>\n",
       "      <td>-1.180474</td>\n",
       "      <td>0</td>\n",
       "      <td>0</td>\n",
       "      <td>0</td>\n",
       "      <td>0</td>\n",
       "      <td>0</td>\n",
       "      <td>1</td>\n",
       "      <td>0</td>\n",
       "      <td>...</td>\n",
       "      <td>1</td>\n",
       "      <td>0</td>\n",
       "      <td>0</td>\n",
       "      <td>0</td>\n",
       "      <td>0</td>\n",
       "      <td>0</td>\n",
       "      <td>0</td>\n",
       "      <td>0</td>\n",
       "      <td>1</td>\n",
       "      <td>0</td>\n",
       "    </tr>\n",
       "    <tr>\n",
       "      <th>6795</th>\n",
       "      <td>0.205373</td>\n",
       "      <td>0.005716</td>\n",
       "      <td>-0.503379</td>\n",
       "      <td>1</td>\n",
       "      <td>1</td>\n",
       "      <td>0</td>\n",
       "      <td>0</td>\n",
       "      <td>0</td>\n",
       "      <td>0</td>\n",
       "      <td>0</td>\n",
       "      <td>...</td>\n",
       "      <td>0</td>\n",
       "      <td>0</td>\n",
       "      <td>1</td>\n",
       "      <td>0</td>\n",
       "      <td>0</td>\n",
       "      <td>0</td>\n",
       "      <td>0</td>\n",
       "      <td>0</td>\n",
       "      <td>1</td>\n",
       "      <td>0</td>\n",
       "    </tr>\n",
       "    <tr>\n",
       "      <th>3516</th>\n",
       "      <td>0.512365</td>\n",
       "      <td>-0.691418</td>\n",
       "      <td>0.092260</td>\n",
       "      <td>0</td>\n",
       "      <td>0</td>\n",
       "      <td>0</td>\n",
       "      <td>0</td>\n",
       "      <td>0</td>\n",
       "      <td>1</td>\n",
       "      <td>0</td>\n",
       "      <td>...</td>\n",
       "      <td>0</td>\n",
       "      <td>0</td>\n",
       "      <td>1</td>\n",
       "      <td>0</td>\n",
       "      <td>0</td>\n",
       "      <td>0</td>\n",
       "      <td>0</td>\n",
       "      <td>0</td>\n",
       "      <td>1</td>\n",
       "      <td>0</td>\n",
       "    </tr>\n",
       "    <tr>\n",
       "      <th>8105</th>\n",
       "      <td>0.512365</td>\n",
       "      <td>1.365219</td>\n",
       "      <td>1.364995</td>\n",
       "      <td>0</td>\n",
       "      <td>1</td>\n",
       "      <td>0</td>\n",
       "      <td>0</td>\n",
       "      <td>1</td>\n",
       "      <td>0</td>\n",
       "      <td>0</td>\n",
       "      <td>...</td>\n",
       "      <td>0</td>\n",
       "      <td>0</td>\n",
       "      <td>0</td>\n",
       "      <td>0</td>\n",
       "      <td>1</td>\n",
       "      <td>0</td>\n",
       "      <td>0</td>\n",
       "      <td>0</td>\n",
       "      <td>1</td>\n",
       "      <td>0</td>\n",
       "    </tr>\n",
       "    <tr>\n",
       "      <th>3934</th>\n",
       "      <td>-1.022595</td>\n",
       "      <td>-0.885371</td>\n",
       "      <td>-1.180474</td>\n",
       "      <td>0</td>\n",
       "      <td>0</td>\n",
       "      <td>0</td>\n",
       "      <td>0</td>\n",
       "      <td>0</td>\n",
       "      <td>1</td>\n",
       "      <td>0</td>\n",
       "      <td>...</td>\n",
       "      <td>0</td>\n",
       "      <td>0</td>\n",
       "      <td>1</td>\n",
       "      <td>0</td>\n",
       "      <td>0</td>\n",
       "      <td>0</td>\n",
       "      <td>0</td>\n",
       "      <td>0</td>\n",
       "      <td>1</td>\n",
       "      <td>0</td>\n",
       "    </tr>\n",
       "  </tbody>\n",
       "</table>\n",
       "<p>5 rows × 35 columns</p>\n",
       "</div>"
      ],
      "text/plain": [
       "      TotalVisits  Time Spent  Page Views Per Visit  Free Copy  \\\n",
       "1871    -1.022595   -0.885371             -1.180474          0   \n",
       "6795     0.205373    0.005716             -0.503379          1   \n",
       "3516     0.512365   -0.691418              0.092260          0   \n",
       "8105     0.512365    1.365219              1.364995          0   \n",
       "3934    -1.022595   -0.885371             -1.180474          0   \n",
       "\n",
       "      Lead Origin_Landing Page Submission  Lead Origin_Lead Add Form  \\\n",
       "1871                                    0                          0   \n",
       "6795                                    1                          0   \n",
       "3516                                    0                          0   \n",
       "8105                                    1                          0   \n",
       "3934                                    0                          0   \n",
       "\n",
       "      Lead Origin_Others  Lead Source_Google  Lead Source_Olark Chat  \\\n",
       "1871                   0                   0                       1   \n",
       "6795                   0                   0                       0   \n",
       "3516                   0                   0                       1   \n",
       "8105                   0                   1                       0   \n",
       "3934                   0                   0                       1   \n",
       "\n",
       "      Lead Source_Organic Search  ...  Specialization_Marketing Management  \\\n",
       "1871                           0  ...                                    1   \n",
       "6795                           0  ...                                    0   \n",
       "3516                           0  ...                                    0   \n",
       "8105                           0  ...                                    0   \n",
       "3934                           0  ...                                    0   \n",
       "\n",
       "      Specialization_Media and Advertising  Specialization_Not Specified  \\\n",
       "1871                                     0                             0   \n",
       "6795                                     0                             1   \n",
       "3516                                     0                             1   \n",
       "8105                                     0                             0   \n",
       "3934                                     0                             1   \n",
       "\n",
       "      Specialization_Operations Management  Specialization_Others  \\\n",
       "1871                                     0                      0   \n",
       "6795                                     0                      0   \n",
       "3516                                     0                      0   \n",
       "8105                                     0                      1   \n",
       "3934                                     0                      0   \n",
       "\n",
       "      Specialization_Supply Chain Management  \\\n",
       "1871                                       0   \n",
       "6795                                       0   \n",
       "3516                                       0   \n",
       "8105                                       0   \n",
       "3934                                       0   \n",
       "\n",
       "      Specialization_Travel and Tourism  Current Occupation_Student  \\\n",
       "1871                                  0                           0   \n",
       "6795                                  0                           0   \n",
       "3516                                  0                           0   \n",
       "8105                                  0                           0   \n",
       "3934                                  0                           0   \n",
       "\n",
       "      Current Occupation_Unemployed  Current Occupation_Working Professional  \n",
       "1871                              1                                        0  \n",
       "6795                              1                                        0  \n",
       "3516                              1                                        0  \n",
       "8105                              1                                        0  \n",
       "3934                              1                                        0  \n",
       "\n",
       "[5 rows x 35 columns]"
      ]
     },
     "execution_count": 119,
     "metadata": {},
     "output_type": "execute_result"
    }
   ],
   "source": [
    "# We can see that columns except TotalVisits, Time Spent and Page Views Per Visit all the other columns are present in the range of 0 - 1, \n",
    "# so we need to scale these variables as well.\n",
    "\n",
    "scaler = StandardScaler()\n",
    "X_train[['TotalVisits','Time Spent','Page Views Per Visit']] = scaler.fit_transform(X_train[['TotalVisits','Time Spent','Page Views Per Visit']])\n",
    "X_train.head()"
   ]
  },
  {
   "cell_type": "code",
   "execution_count": 120,
   "id": "24a09d53-8779-462c-9e60-ddc8dc8c00a5",
   "metadata": {},
   "outputs": [
    {
     "data": {
      "text/html": [
       "<div>\n",
       "<style scoped>\n",
       "    .dataframe tbody tr th:only-of-type {\n",
       "        vertical-align: middle;\n",
       "    }\n",
       "\n",
       "    .dataframe tbody tr th {\n",
       "        vertical-align: top;\n",
       "    }\n",
       "\n",
       "    .dataframe thead th {\n",
       "        text-align: right;\n",
       "    }\n",
       "</style>\n",
       "<table border=\"1\" class=\"dataframe\">\n",
       "  <thead>\n",
       "    <tr style=\"text-align: right;\">\n",
       "      <th></th>\n",
       "      <th>TotalVisits</th>\n",
       "      <th>Time Spent</th>\n",
       "      <th>Page Views Per Visit</th>\n",
       "      <th>Free Copy</th>\n",
       "      <th>Lead Origin_Landing Page Submission</th>\n",
       "      <th>Lead Origin_Lead Add Form</th>\n",
       "      <th>Lead Origin_Others</th>\n",
       "      <th>Lead Source_Google</th>\n",
       "      <th>Lead Source_Olark Chat</th>\n",
       "      <th>Lead Source_Organic Search</th>\n",
       "      <th>...</th>\n",
       "      <th>Specialization_Marketing Management</th>\n",
       "      <th>Specialization_Media and Advertising</th>\n",
       "      <th>Specialization_Not Specified</th>\n",
       "      <th>Specialization_Operations Management</th>\n",
       "      <th>Specialization_Others</th>\n",
       "      <th>Specialization_Supply Chain Management</th>\n",
       "      <th>Specialization_Travel and Tourism</th>\n",
       "      <th>Current Occupation_Student</th>\n",
       "      <th>Current Occupation_Unemployed</th>\n",
       "      <th>Current Occupation_Working Professional</th>\n",
       "    </tr>\n",
       "  </thead>\n",
       "  <tbody>\n",
       "    <tr>\n",
       "      <th>count</th>\n",
       "      <td>6.468000e+03</td>\n",
       "      <td>6.468000e+03</td>\n",
       "      <td>6.468000e+03</td>\n",
       "      <td>6468.000000</td>\n",
       "      <td>6468.000000</td>\n",
       "      <td>6468.000000</td>\n",
       "      <td>6468.000000</td>\n",
       "      <td>6468.000000</td>\n",
       "      <td>6468.000000</td>\n",
       "      <td>6468.000000</td>\n",
       "      <td>...</td>\n",
       "      <td>6468.000000</td>\n",
       "      <td>6468.000000</td>\n",
       "      <td>6468.000000</td>\n",
       "      <td>6468.000000</td>\n",
       "      <td>6468.000000</td>\n",
       "      <td>6468.000000</td>\n",
       "      <td>6468.000000</td>\n",
       "      <td>6468.000000</td>\n",
       "      <td>6468.000000</td>\n",
       "      <td>6468.000000</td>\n",
       "    </tr>\n",
       "    <tr>\n",
       "      <th>mean</th>\n",
       "      <td>-7.991958e-17</td>\n",
       "      <td>-6.701161e-17</td>\n",
       "      <td>-1.991124e-17</td>\n",
       "      <td>0.311843</td>\n",
       "      <td>0.528139</td>\n",
       "      <td>0.079468</td>\n",
       "      <td>0.005257</td>\n",
       "      <td>0.320037</td>\n",
       "      <td>0.190167</td>\n",
       "      <td>0.121058</td>\n",
       "      <td>...</td>\n",
       "      <td>0.093383</td>\n",
       "      <td>0.020563</td>\n",
       "      <td>0.367502</td>\n",
       "      <td>0.057205</td>\n",
       "      <td>0.055040</td>\n",
       "      <td>0.037570</td>\n",
       "      <td>0.021336</td>\n",
       "      <td>0.021027</td>\n",
       "      <td>0.897805</td>\n",
       "      <td>0.077613</td>\n",
       "    </tr>\n",
       "    <tr>\n",
       "      <th>std</th>\n",
       "      <td>1.000077e+00</td>\n",
       "      <td>1.000077e+00</td>\n",
       "      <td>1.000077e+00</td>\n",
       "      <td>0.463282</td>\n",
       "      <td>0.499246</td>\n",
       "      <td>0.270489</td>\n",
       "      <td>0.072318</td>\n",
       "      <td>0.466527</td>\n",
       "      <td>0.392463</td>\n",
       "      <td>0.326219</td>\n",
       "      <td>...</td>\n",
       "      <td>0.290991</td>\n",
       "      <td>0.141926</td>\n",
       "      <td>0.482162</td>\n",
       "      <td>0.232251</td>\n",
       "      <td>0.228076</td>\n",
       "      <td>0.190168</td>\n",
       "      <td>0.144512</td>\n",
       "      <td>0.143484</td>\n",
       "      <td>0.302929</td>\n",
       "      <td>0.267582</td>\n",
       "    </tr>\n",
       "    <tr>\n",
       "      <th>min</th>\n",
       "      <td>-1.022595e+00</td>\n",
       "      <td>-8.853708e-01</td>\n",
       "      <td>-1.180474e+00</td>\n",
       "      <td>0.000000</td>\n",
       "      <td>0.000000</td>\n",
       "      <td>0.000000</td>\n",
       "      <td>0.000000</td>\n",
       "      <td>0.000000</td>\n",
       "      <td>0.000000</td>\n",
       "      <td>0.000000</td>\n",
       "      <td>...</td>\n",
       "      <td>0.000000</td>\n",
       "      <td>0.000000</td>\n",
       "      <td>0.000000</td>\n",
       "      <td>0.000000</td>\n",
       "      <td>0.000000</td>\n",
       "      <td>0.000000</td>\n",
       "      <td>0.000000</td>\n",
       "      <td>0.000000</td>\n",
       "      <td>0.000000</td>\n",
       "      <td>0.000000</td>\n",
       "    </tr>\n",
       "    <tr>\n",
       "      <th>25%</th>\n",
       "      <td>-7.156027e-01</td>\n",
       "      <td>-8.634138e-01</td>\n",
       "      <td>-6.713803e-01</td>\n",
       "      <td>0.000000</td>\n",
       "      <td>0.000000</td>\n",
       "      <td>0.000000</td>\n",
       "      <td>0.000000</td>\n",
       "      <td>0.000000</td>\n",
       "      <td>0.000000</td>\n",
       "      <td>0.000000</td>\n",
       "      <td>...</td>\n",
       "      <td>0.000000</td>\n",
       "      <td>0.000000</td>\n",
       "      <td>0.000000</td>\n",
       "      <td>0.000000</td>\n",
       "      <td>0.000000</td>\n",
       "      <td>0.000000</td>\n",
       "      <td>0.000000</td>\n",
       "      <td>0.000000</td>\n",
       "      <td>1.000000</td>\n",
       "      <td>0.000000</td>\n",
       "    </tr>\n",
       "    <tr>\n",
       "      <th>50%</th>\n",
       "      <td>-1.016187e-01</td>\n",
       "      <td>-4.352528e-01</td>\n",
       "      <td>-1.622866e-01</td>\n",
       "      <td>0.000000</td>\n",
       "      <td>1.000000</td>\n",
       "      <td>0.000000</td>\n",
       "      <td>0.000000</td>\n",
       "      <td>0.000000</td>\n",
       "      <td>0.000000</td>\n",
       "      <td>0.000000</td>\n",
       "      <td>...</td>\n",
       "      <td>0.000000</td>\n",
       "      <td>0.000000</td>\n",
       "      <td>0.000000</td>\n",
       "      <td>0.000000</td>\n",
       "      <td>0.000000</td>\n",
       "      <td>0.000000</td>\n",
       "      <td>0.000000</td>\n",
       "      <td>0.000000</td>\n",
       "      <td>1.000000</td>\n",
       "      <td>0.000000</td>\n",
       "    </tr>\n",
       "    <tr>\n",
       "      <th>75%</th>\n",
       "      <td>5.123653e-01</td>\n",
       "      <td>8.098906e-01</td>\n",
       "      <td>3.468071e-01</td>\n",
       "      <td>1.000000</td>\n",
       "      <td>1.000000</td>\n",
       "      <td>0.000000</td>\n",
       "      <td>0.000000</td>\n",
       "      <td>1.000000</td>\n",
       "      <td>0.000000</td>\n",
       "      <td>0.000000</td>\n",
       "      <td>...</td>\n",
       "      <td>0.000000</td>\n",
       "      <td>0.000000</td>\n",
       "      <td>1.000000</td>\n",
       "      <td>0.000000</td>\n",
       "      <td>0.000000</td>\n",
       "      <td>0.000000</td>\n",
       "      <td>0.000000</td>\n",
       "      <td>0.000000</td>\n",
       "      <td>1.000000</td>\n",
       "      <td>0.000000</td>\n",
       "    </tr>\n",
       "    <tr>\n",
       "      <th>max</th>\n",
       "      <td>4.196269e+00</td>\n",
       "      <td>3.271816e+00</td>\n",
       "      <td>3.401369e+00</td>\n",
       "      <td>1.000000</td>\n",
       "      <td>1.000000</td>\n",
       "      <td>1.000000</td>\n",
       "      <td>1.000000</td>\n",
       "      <td>1.000000</td>\n",
       "      <td>1.000000</td>\n",
       "      <td>1.000000</td>\n",
       "      <td>...</td>\n",
       "      <td>1.000000</td>\n",
       "      <td>1.000000</td>\n",
       "      <td>1.000000</td>\n",
       "      <td>1.000000</td>\n",
       "      <td>1.000000</td>\n",
       "      <td>1.000000</td>\n",
       "      <td>1.000000</td>\n",
       "      <td>1.000000</td>\n",
       "      <td>1.000000</td>\n",
       "      <td>1.000000</td>\n",
       "    </tr>\n",
       "  </tbody>\n",
       "</table>\n",
       "<p>8 rows × 35 columns</p>\n",
       "</div>"
      ],
      "text/plain": [
       "        TotalVisits    Time Spent  Page Views Per Visit    Free Copy  \\\n",
       "count  6.468000e+03  6.468000e+03          6.468000e+03  6468.000000   \n",
       "mean  -7.991958e-17 -6.701161e-17         -1.991124e-17     0.311843   \n",
       "std    1.000077e+00  1.000077e+00          1.000077e+00     0.463282   \n",
       "min   -1.022595e+00 -8.853708e-01         -1.180474e+00     0.000000   \n",
       "25%   -7.156027e-01 -8.634138e-01         -6.713803e-01     0.000000   \n",
       "50%   -1.016187e-01 -4.352528e-01         -1.622866e-01     0.000000   \n",
       "75%    5.123653e-01  8.098906e-01          3.468071e-01     1.000000   \n",
       "max    4.196269e+00  3.271816e+00          3.401369e+00     1.000000   \n",
       "\n",
       "       Lead Origin_Landing Page Submission  Lead Origin_Lead Add Form  \\\n",
       "count                          6468.000000                6468.000000   \n",
       "mean                              0.528139                   0.079468   \n",
       "std                               0.499246                   0.270489   \n",
       "min                               0.000000                   0.000000   \n",
       "25%                               0.000000                   0.000000   \n",
       "50%                               1.000000                   0.000000   \n",
       "75%                               1.000000                   0.000000   \n",
       "max                               1.000000                   1.000000   \n",
       "\n",
       "       Lead Origin_Others  Lead Source_Google  Lead Source_Olark Chat  \\\n",
       "count         6468.000000         6468.000000             6468.000000   \n",
       "mean             0.005257            0.320037                0.190167   \n",
       "std              0.072318            0.466527                0.392463   \n",
       "min              0.000000            0.000000                0.000000   \n",
       "25%              0.000000            0.000000                0.000000   \n",
       "50%              0.000000            0.000000                0.000000   \n",
       "75%              0.000000            1.000000                0.000000   \n",
       "max              1.000000            1.000000                1.000000   \n",
       "\n",
       "       Lead Source_Organic Search  ...  Specialization_Marketing Management  \\\n",
       "count                 6468.000000  ...                          6468.000000   \n",
       "mean                     0.121058  ...                             0.093383   \n",
       "std                      0.326219  ...                             0.290991   \n",
       "min                      0.000000  ...                             0.000000   \n",
       "25%                      0.000000  ...                             0.000000   \n",
       "50%                      0.000000  ...                             0.000000   \n",
       "75%                      0.000000  ...                             0.000000   \n",
       "max                      1.000000  ...                             1.000000   \n",
       "\n",
       "       Specialization_Media and Advertising  Specialization_Not Specified  \\\n",
       "count                           6468.000000                   6468.000000   \n",
       "mean                               0.020563                      0.367502   \n",
       "std                                0.141926                      0.482162   \n",
       "min                                0.000000                      0.000000   \n",
       "25%                                0.000000                      0.000000   \n",
       "50%                                0.000000                      0.000000   \n",
       "75%                                0.000000                      1.000000   \n",
       "max                                1.000000                      1.000000   \n",
       "\n",
       "       Specialization_Operations Management  Specialization_Others  \\\n",
       "count                           6468.000000            6468.000000   \n",
       "mean                               0.057205               0.055040   \n",
       "std                                0.232251               0.228076   \n",
       "min                                0.000000               0.000000   \n",
       "25%                                0.000000               0.000000   \n",
       "50%                                0.000000               0.000000   \n",
       "75%                                0.000000               0.000000   \n",
       "max                                1.000000               1.000000   \n",
       "\n",
       "       Specialization_Supply Chain Management  \\\n",
       "count                             6468.000000   \n",
       "mean                                 0.037570   \n",
       "std                                  0.190168   \n",
       "min                                  0.000000   \n",
       "25%                                  0.000000   \n",
       "50%                                  0.000000   \n",
       "75%                                  0.000000   \n",
       "max                                  1.000000   \n",
       "\n",
       "       Specialization_Travel and Tourism  Current Occupation_Student  \\\n",
       "count                        6468.000000                 6468.000000   \n",
       "mean                            0.021336                    0.021027   \n",
       "std                             0.144512                    0.143484   \n",
       "min                             0.000000                    0.000000   \n",
       "25%                             0.000000                    0.000000   \n",
       "50%                             0.000000                    0.000000   \n",
       "75%                             0.000000                    0.000000   \n",
       "max                             1.000000                    1.000000   \n",
       "\n",
       "       Current Occupation_Unemployed  Current Occupation_Working Professional  \n",
       "count                    6468.000000                              6468.000000  \n",
       "mean                        0.897805                                 0.077613  \n",
       "std                         0.302929                                 0.267582  \n",
       "min                         0.000000                                 0.000000  \n",
       "25%                         1.000000                                 0.000000  \n",
       "50%                         1.000000                                 0.000000  \n",
       "75%                         1.000000                                 0.000000  \n",
       "max                         1.000000                                 1.000000  \n",
       "\n",
       "[8 rows x 35 columns]"
      ]
     },
     "execution_count": 120,
     "metadata": {},
     "output_type": "execute_result"
    }
   ],
   "source": [
    "# Checking the mean and standard deviation\n",
    "\n",
    "X_train.describe()"
   ]
  },
  {
   "cell_type": "markdown",
   "id": "ae48ffc9-0e75-468a-9f01-93492aa717d0",
   "metadata": {},
   "source": [
    "#### Observation : Standard Deviation is set to 1 and hence it is scaled correctly."
   ]
  },
  {
   "cell_type": "code",
   "execution_count": 121,
   "id": "d39bfeb0-9f91-421c-b58a-6cd681dbe5f4",
   "metadata": {},
   "outputs": [
    {
     "data": {
      "text/plain": [
       "38.53896103896104"
      ]
     },
     "execution_count": 121,
     "metadata": {},
     "output_type": "execute_result"
    }
   ],
   "source": [
    "# Checking the Converted Rate before modelling\n",
    "\n",
    "Converted_Rate = (sum(lead['Converted'])/len(lead['Converted'].index))*100\n",
    "Converted_Rate"
   ]
  },
  {
   "cell_type": "markdown",
   "id": "cd3ccde4-ec34-43ac-9875-5019bccbb3b5",
   "metadata": {},
   "source": [
    "#### Observation : We can see that conversion rate before modelling is found to be around 38.53%"
   ]
  },
  {
   "cell_type": "markdown",
   "id": "4ed29d11-94f8-4178-b46c-567b7a61e81d",
   "metadata": {},
   "source": [
    "## Model Building"
   ]
  },
  {
   "cell_type": "markdown",
   "id": "4ede1e17-6178-45a9-8839-0d41b5e1040b",
   "metadata": {},
   "source": [
    "#### Model - I"
   ]
  },
  {
   "cell_type": "code",
   "execution_count": 122,
   "id": "f09caf22-950c-4ea6-9eeb-4f482c77047a",
   "metadata": {},
   "outputs": [
    {
     "data": {
      "text/plain": [
       "<statsmodels.genmod.generalized_linear_model.GLMResultsWrapper at 0x167087a0c90>"
      ]
     },
     "execution_count": 122,
     "metadata": {},
     "output_type": "execute_result"
    }
   ],
   "source": [
    "# Logistic regression model\n",
    "\n",
    "logm1 = sm.GLM(y_train,(sm.add_constant(X_train)),  family = sm.families.Binomial())\n",
    "logm1.fit()"
   ]
  },
  {
   "cell_type": "code",
   "execution_count": 123,
   "id": "5a75c3fd-4f78-46f2-b367-14877b46c368",
   "metadata": {},
   "outputs": [
    {
     "name": "stdout",
     "output_type": "stream",
     "text": [
      "                 Generalized Linear Model Regression Results                  \n",
      "==============================================================================\n",
      "Dep. Variable:              Converted   No. Observations:                 6468\n",
      "Model:                            GLM   Df Residuals:                     6432\n",
      "Model Family:                Binomial   Df Model:                           35\n",
      "Link Function:                  Logit   Scale:                          1.0000\n",
      "Method:                          IRLS   Log-Likelihood:                -2687.3\n",
      "Date:                Tue, 15 Oct 2024   Deviance:                       5374.6\n",
      "Time:                        14:05:06   Pearson chi2:                 7.82e+03\n",
      "No. Iterations:                     6   Pseudo R-squ. (CS):             0.3925\n",
      "Covariance Type:            nonrobust                                         \n",
      "============================================================================================================\n",
      "                                               coef    std err          z      P>|z|      [0.025      0.975]\n",
      "------------------------------------------------------------------------------------------------------------\n",
      "const                                       -0.4585      0.610     -0.751      0.452      -1.655       0.737\n",
      "TotalVisits                                  0.2946      0.048      6.123      0.000       0.200       0.389\n",
      "Time Spent                                   1.0656      0.039     27.015      0.000       0.988       1.143\n",
      "Page Views Per Visit                        -0.2915      0.055     -5.314      0.000      -0.399      -0.184\n",
      "Free Copy                                   -0.2308      0.106     -2.183      0.029      -0.438      -0.024\n",
      "Lead Origin_Landing Page Submission         -0.9159      0.136     -6.751      0.000      -1.182      -0.650\n",
      "Lead Origin_Lead Add Form                    4.0041      0.422      9.499      0.000       3.178       4.830\n",
      "Lead Origin_Others                          -0.7557      0.551     -1.372      0.170      -1.836       0.324\n",
      "Lead Source_Google                           0.2141      0.112      1.908      0.056      -0.006       0.434\n",
      "Lead Source_Olark Chat                       1.1402      0.161      7.061      0.000       0.824       1.457\n",
      "Lead Source_Organic Search                   0.1797      0.129      1.390      0.164      -0.074       0.433\n",
      "Lead Source_Others                           0.3906      0.266      1.470      0.141      -0.130       0.911\n",
      "Lead Source_Reference                       -0.8614      0.469     -1.837      0.066      -1.780       0.057\n",
      "Last Activity_Email Bounced                 -0.7709      0.364     -2.120      0.034      -1.484      -0.058\n",
      "Last Activity_Email Link Clicked             0.6987      0.306      2.285      0.022       0.099       1.298\n",
      "Last Activity_Email Opened                   1.2260      0.223      5.493      0.000       0.789       1.663\n",
      "Last Activity_Olark Chat Conversation       -0.3067      0.274     -1.121      0.262      -0.843       0.230\n",
      "Last Activity_Others                         1.0061      0.285      3.526      0.000       0.447       1.565\n",
      "Last Activity_Page Visited on Website        0.3596      0.262      1.370      0.171      -0.155       0.874\n",
      "Last Activity_SMS Sent                       2.3527      0.224     10.489      0.000       1.913       2.792\n",
      "Specialization_Business Administration      -0.3335      0.241     -1.382      0.167      -0.807       0.139\n",
      "Specialization_Finance Management           -0.0149      0.207     -0.072      0.943      -0.421       0.391\n",
      "Specialization_Healthcare Management        -0.0563      0.326     -0.173      0.863      -0.695       0.582\n",
      "Specialization_Human Resource Management    -0.2455      0.210     -1.167      0.243      -0.658       0.167\n",
      "Specialization_IT Projects Management        0.0507      0.252      0.202      0.840      -0.442       0.544\n",
      "Specialization_International Business       -0.4987      0.305     -1.635      0.102      -1.097       0.099\n",
      "Specialization_Marketing Management         -0.2045      0.211     -0.970      0.332      -0.618       0.209\n",
      "Specialization_Media and Advertising        -0.0706      0.281     -0.251      0.802      -0.621       0.480\n",
      "Specialization_Not Specified                -1.3344      0.214     -6.232      0.000      -1.754      -0.915\n",
      "Specialization_Operations Management        -0.2476      0.230     -1.075      0.282      -0.699       0.204\n",
      "Specialization_Others                       -0.3354      0.233     -1.440      0.150      -0.792       0.121\n",
      "Specialization_Supply Chain Management      -0.1846      0.249     -0.742      0.458      -0.672       0.303\n",
      "Specialization_Travel and Tourism           -0.1846      0.295     -0.625      0.532      -0.764       0.394\n",
      "Current Occupation_Student                  -0.5747      0.575     -1.000      0.317      -1.701       0.552\n",
      "Current Occupation_Unemployed               -0.9992      0.524     -1.905      0.057      -2.027       0.029\n",
      "Current Occupation_Working Professional      1.7344      0.555      3.124      0.002       0.646       2.823\n",
      "============================================================================================================\n"
     ]
    }
   ],
   "source": [
    "# Checking the summary\n",
    "\n",
    "print(logm1.fit().summary())"
   ]
  },
  {
   "cell_type": "code",
   "execution_count": 124,
   "id": "1c3c6289-d9fe-422b-ab25-27bd0f4565d6",
   "metadata": {},
   "outputs": [
    {
     "name": "stdout",
     "output_type": "stream",
     "text": [
      "35\n"
     ]
    }
   ],
   "source": [
    "# Total number of columns\n",
    "print(len(X_train.columns))"
   ]
  },
  {
   "cell_type": "markdown",
   "id": "665ae49b-c0aa-436b-ac4e-59581ae138eb",
   "metadata": {},
   "source": [
    "#### Observation : We currently have around 35 columns for our evaluation"
   ]
  },
  {
   "cell_type": "markdown",
   "id": "305588b7-56db-413f-bfbe-2ce62ceeab0d",
   "metadata": {},
   "source": [
    "#### Model - II : Feature Selection using RFE"
   ]
  },
  {
   "cell_type": "code",
   "execution_count": 125,
   "id": "2e5f028c-9903-43e8-b334-ad4a2decc6a1",
   "metadata": {},
   "outputs": [],
   "source": [
    "# Importing Logistic Regression module from SkLearn\n",
    "\n",
    "from sklearn.linear_model import LogisticRegression\n",
    "logreg = LogisticRegression()"
   ]
  },
  {
   "cell_type": "code",
   "execution_count": 127,
   "id": "bc3b976b-22d0-4dad-a2e7-8e72c7c1874a",
   "metadata": {},
   "outputs": [],
   "source": [
    "# We currently have 35 features with respect to our discussion, and since 35 is a huge number we will reduce it to 20 columns using RFE.\n",
    "# running RFE with 20 variables as output\n",
    "\n",
    "from sklearn.feature_selection import RFE\n",
    "\n",
    "rfe = RFE(estimator=logreg, n_features_to_select=20) \n",
    "rfe = rfe.fit(X_train, y_train)"
   ]
  },
  {
   "cell_type": "code",
   "execution_count": 128,
   "id": "98696eb6-a76b-45f3-afd8-c268510e7ac9",
   "metadata": {},
   "outputs": [
    {
     "data": {
      "text/plain": [
       "array([ True,  True, False,  True,  True,  True,  True, False,  True,\n",
       "       False,  True,  True,  True,  True,  True,  True,  True, False,\n",
       "        True, False, False, False, False, False,  True, False, False,\n",
       "        True, False, False, False, False,  True,  True,  True])"
      ]
     },
     "execution_count": 128,
     "metadata": {},
     "output_type": "execute_result"
    }
   ],
   "source": [
    "# Printing all the columns that are selected using RFE\n",
    "\n",
    "rfe.support_"
   ]
  },
  {
   "cell_type": "code",
   "execution_count": 129,
   "id": "cdbc1632-7935-4e73-ae49-d4bc36eddc37",
   "metadata": {},
   "outputs": [
    {
     "data": {
      "text/plain": [
       "[('TotalVisits', True, 1),\n",
       " ('Time Spent', True, 1),\n",
       " ('Page Views Per Visit', False, 2),\n",
       " ('Free Copy', True, 1),\n",
       " ('Lead Origin_Landing Page Submission', True, 1),\n",
       " ('Lead Origin_Lead Add Form', True, 1),\n",
       " ('Lead Origin_Others', True, 1),\n",
       " ('Lead Source_Google', False, 6),\n",
       " ('Lead Source_Olark Chat', True, 1),\n",
       " ('Lead Source_Organic Search', False, 7),\n",
       " ('Lead Source_Others', True, 1),\n",
       " ('Lead Source_Reference', True, 1),\n",
       " ('Last Activity_Email Bounced', True, 1),\n",
       " ('Last Activity_Email Link Clicked', True, 1),\n",
       " ('Last Activity_Email Opened', True, 1),\n",
       " ('Last Activity_Olark Chat Conversation', True, 1),\n",
       " ('Last Activity_Others', True, 1),\n",
       " ('Last Activity_Page Visited on Website', False, 3),\n",
       " ('Last Activity_SMS Sent', True, 1),\n",
       " ('Specialization_Business Administration', False, 5),\n",
       " ('Specialization_Finance Management', False, 14),\n",
       " ('Specialization_Healthcare Management', False, 15),\n",
       " ('Specialization_Human Resource Management', False, 8),\n",
       " ('Specialization_IT Projects Management', False, 13),\n",
       " ('Specialization_International Business', True, 1),\n",
       " ('Specialization_Marketing Management', False, 10),\n",
       " ('Specialization_Media and Advertising', False, 16),\n",
       " ('Specialization_Not Specified', True, 1),\n",
       " ('Specialization_Operations Management', False, 9),\n",
       " ('Specialization_Others', False, 4),\n",
       " ('Specialization_Supply Chain Management', False, 11),\n",
       " ('Specialization_Travel and Tourism', False, 12),\n",
       " ('Current Occupation_Student', True, 1),\n",
       " ('Current Occupation_Unemployed', True, 1),\n",
       " ('Current Occupation_Working Professional', True, 1)]"
      ]
     },
     "execution_count": 129,
     "metadata": {},
     "output_type": "execute_result"
    }
   ],
   "source": [
    "# List of all columns on priority ranking\n",
    "\n",
    "list(zip(X_train.columns, rfe.support_, rfe.ranking_))"
   ]
  },
  {
   "cell_type": "code",
   "execution_count": 130,
   "id": "98a380c0-da17-452b-a50a-e65d64a52c56",
   "metadata": {},
   "outputs": [],
   "source": [
    "# This list will hold all the data that is being selected through RFE.\n",
    "\n",
    "col = X_train.columns[rfe.support_]"
   ]
  },
  {
   "cell_type": "code",
   "execution_count": 131,
   "id": "af06e420-665b-4f6a-9585-e89af3d08984",
   "metadata": {},
   "outputs": [
    {
     "data": {
      "text/plain": [
       "Index(['TotalVisits', 'Time Spent', 'Free Copy',\n",
       "       'Lead Origin_Landing Page Submission', 'Lead Origin_Lead Add Form',\n",
       "       'Lead Origin_Others', 'Lead Source_Olark Chat', 'Lead Source_Others',\n",
       "       'Lead Source_Reference', 'Last Activity_Email Bounced',\n",
       "       'Last Activity_Email Link Clicked', 'Last Activity_Email Opened',\n",
       "       'Last Activity_Olark Chat Conversation', 'Last Activity_Others',\n",
       "       'Last Activity_SMS Sent', 'Specialization_International Business',\n",
       "       'Specialization_Not Specified', 'Current Occupation_Student',\n",
       "       'Current Occupation_Unemployed',\n",
       "       'Current Occupation_Working Professional'],\n",
       "      dtype='object')"
      ]
     },
     "execution_count": 131,
     "metadata": {},
     "output_type": "execute_result"
    }
   ],
   "source": [
    "col"
   ]
  },
  {
   "cell_type": "code",
   "execution_count": 132,
   "id": "cbe43914-0d8a-4537-bb6e-fda74ab1965a",
   "metadata": {},
   "outputs": [
    {
     "data": {
      "text/plain": [
       "Index(['Page Views Per Visit', 'Lead Source_Google',\n",
       "       'Lead Source_Organic Search', 'Last Activity_Page Visited on Website',\n",
       "       'Specialization_Business Administration',\n",
       "       'Specialization_Finance Management',\n",
       "       'Specialization_Healthcare Management',\n",
       "       'Specialization_Human Resource Management',\n",
       "       'Specialization_IT Projects Management',\n",
       "       'Specialization_Marketing Management',\n",
       "       'Specialization_Media and Advertising',\n",
       "       'Specialization_Operations Management', 'Specialization_Others',\n",
       "       'Specialization_Supply Chain Management',\n",
       "       'Specialization_Travel and Tourism'],\n",
       "      dtype='object')"
      ]
     },
     "execution_count": 132,
     "metadata": {},
     "output_type": "execute_result"
    }
   ],
   "source": [
    "# Columns that have been rejected because of RFE.\n",
    "\n",
    "X_train.columns[~rfe.support_]"
   ]
  },
  {
   "cell_type": "markdown",
   "id": "54fc449a-6ac8-42a4-b26c-c3b42aeaea77",
   "metadata": {},
   "source": [
    "#### Assessing the model that has already been generated through RFE using Statsmodel - Model 2"
   ]
  },
  {
   "cell_type": "code",
   "execution_count": 133,
   "id": "592e6dcc-21f0-44fb-8020-e5f834910053",
   "metadata": {},
   "outputs": [
    {
     "name": "stdout",
     "output_type": "stream",
     "text": [
      "                 Generalized Linear Model Regression Results                  \n",
      "==============================================================================\n",
      "Dep. Variable:              Converted   No. Observations:                 6468\n",
      "Model:                            GLM   Df Residuals:                     6447\n",
      "Model Family:                Binomial   Df Model:                           20\n",
      "Link Function:                  Logit   Scale:                          1.0000\n",
      "Method:                          IRLS   Log-Likelihood:                -2707.7\n",
      "Date:                Tue, 15 Oct 2024   Deviance:                       5415.5\n",
      "Time:                        14:10:14   Pearson chi2:                 8.09e+03\n",
      "No. Iterations:                     6   Pseudo R-squ. (CS):             0.3886\n",
      "Covariance Type:            nonrobust                                         \n",
      "===========================================================================================================\n",
      "                                              coef    std err          z      P>|z|      [0.025      0.975]\n",
      "-----------------------------------------------------------------------------------------------------------\n",
      "const                                      -0.1330      0.546     -0.244      0.808      -1.203       0.937\n",
      "TotalVisits                                 0.1943      0.040      4.838      0.000       0.116       0.273\n",
      "Time Spent                                  1.0556      0.039     26.988      0.000       0.979       1.132\n",
      "Free Copy                                  -0.3169      0.087     -3.649      0.000      -0.487      -0.147\n",
      "Lead Origin_Landing Page Submission        -1.0285      0.131     -7.875      0.000      -1.285      -0.773\n",
      "Lead Origin_Lead Add Form                   4.2688      0.418     10.218      0.000       3.450       5.088\n",
      "Lead Origin_Others                         -0.5557      0.554     -1.003      0.316      -1.642       0.531\n",
      "Lead Source_Olark Chat                      1.1890      0.130      9.156      0.000       0.934       1.443\n",
      "Lead Source_Others                          0.1436      0.248      0.578      0.563      -0.343       0.630\n",
      "Lead Source_Reference                      -1.0875      0.457     -2.380      0.017      -1.983      -0.192\n",
      "Last Activity_Email Bounced                -1.0651      0.319     -3.339      0.001      -1.690      -0.440\n",
      "Last Activity_Email Link Clicked            0.3831      0.244      1.567      0.117      -0.096       0.862\n",
      "Last Activity_Email Opened                  0.9053      0.127      7.127      0.000       0.656       1.154\n",
      "Last Activity_Olark Chat Conversation      -0.6053      0.202     -2.997      0.003      -1.001      -0.209\n",
      "Last Activity_Others                        0.7263      0.218      3.333      0.001       0.299       1.153\n",
      "Last Activity_SMS Sent                      2.0109      0.130     15.480      0.000       1.756       2.266\n",
      "Specialization_International Business      -0.3699      0.249     -1.483      0.138      -0.859       0.119\n",
      "Specialization_Not Specified               -1.1501      0.124     -9.268      0.000      -1.393      -0.907\n",
      "Current Occupation_Student                 -0.5743      0.578     -0.994      0.320      -1.707       0.559\n",
      "Current Occupation_Unemployed              -1.0078      0.528     -1.908      0.056      -2.043       0.027\n",
      "Current Occupation_Working Professional     1.6985      0.558      3.042      0.002       0.604       2.793\n",
      "===========================================================================================================\n"
     ]
    }
   ],
   "source": [
    "X_train_sm = sm.add_constant(X_train[col])\n",
    "logm2 = sm.GLM(y_train,X_train_sm, family = sm.families.Binomial())\n",
    "res = logm2.fit()\n",
    "print(res.summary())"
   ]
  },
  {
   "cell_type": "code",
   "execution_count": 134,
   "id": "1a80aa51-024a-4147-9022-f2fc4e359f28",
   "metadata": {},
   "outputs": [],
   "source": [
    "# Check for the VIF values of the feature variables. \n",
    "\n",
    "from statsmodels.stats.outliers_influence import variance_inflation_factor"
   ]
  },
  {
   "cell_type": "code",
   "execution_count": 135,
   "id": "42773e44-ff86-4d6e-978d-3f142336875f",
   "metadata": {},
   "outputs": [
    {
     "data": {
      "text/html": [
       "<div>\n",
       "<style scoped>\n",
       "    .dataframe tbody tr th:only-of-type {\n",
       "        vertical-align: middle;\n",
       "    }\n",
       "\n",
       "    .dataframe tbody tr th {\n",
       "        vertical-align: top;\n",
       "    }\n",
       "\n",
       "    .dataframe thead th {\n",
       "        text-align: right;\n",
       "    }\n",
       "</style>\n",
       "<table border=\"1\" class=\"dataframe\">\n",
       "  <thead>\n",
       "    <tr style=\"text-align: right;\">\n",
       "      <th></th>\n",
       "      <th>Features</th>\n",
       "      <th>VIF</th>\n",
       "    </tr>\n",
       "  </thead>\n",
       "  <tbody>\n",
       "    <tr>\n",
       "      <th>18</th>\n",
       "      <td>Current Occupation_Unemployed</td>\n",
       "      <td>18.14</td>\n",
       "    </tr>\n",
       "    <tr>\n",
       "      <th>3</th>\n",
       "      <td>Lead Origin_Landing Page Submission</td>\n",
       "      <td>7.74</td>\n",
       "    </tr>\n",
       "    <tr>\n",
       "      <th>4</th>\n",
       "      <td>Lead Origin_Lead Add Form</td>\n",
       "      <td>6.88</td>\n",
       "    </tr>\n",
       "    <tr>\n",
       "      <th>8</th>\n",
       "      <td>Lead Source_Reference</td>\n",
       "      <td>6.19</td>\n",
       "    </tr>\n",
       "    <tr>\n",
       "      <th>16</th>\n",
       "      <td>Specialization_Not Specified</td>\n",
       "      <td>4.87</td>\n",
       "    </tr>\n",
       "    <tr>\n",
       "      <th>11</th>\n",
       "      <td>Last Activity_Email Opened</td>\n",
       "      <td>4.26</td>\n",
       "    </tr>\n",
       "    <tr>\n",
       "      <th>14</th>\n",
       "      <td>Last Activity_SMS Sent</td>\n",
       "      <td>3.66</td>\n",
       "    </tr>\n",
       "    <tr>\n",
       "      <th>6</th>\n",
       "      <td>Lead Source_Olark Chat</td>\n",
       "      <td>2.66</td>\n",
       "    </tr>\n",
       "    <tr>\n",
       "      <th>19</th>\n",
       "      <td>Current Occupation_Working Professional</td>\n",
       "      <td>2.33</td>\n",
       "    </tr>\n",
       "    <tr>\n",
       "      <th>12</th>\n",
       "      <td>Last Activity_Olark Chat Conversation</td>\n",
       "      <td>2.24</td>\n",
       "    </tr>\n",
       "    <tr>\n",
       "      <th>2</th>\n",
       "      <td>Free Copy</td>\n",
       "      <td>2.21</td>\n",
       "    </tr>\n",
       "    <tr>\n",
       "      <th>7</th>\n",
       "      <td>Lead Source_Others</td>\n",
       "      <td>1.87</td>\n",
       "    </tr>\n",
       "    <tr>\n",
       "      <th>0</th>\n",
       "      <td>TotalVisits</td>\n",
       "      <td>1.48</td>\n",
       "    </tr>\n",
       "    <tr>\n",
       "      <th>17</th>\n",
       "      <td>Current Occupation_Student</td>\n",
       "      <td>1.44</td>\n",
       "    </tr>\n",
       "    <tr>\n",
       "      <th>9</th>\n",
       "      <td>Last Activity_Email Bounced</td>\n",
       "      <td>1.33</td>\n",
       "    </tr>\n",
       "    <tr>\n",
       "      <th>13</th>\n",
       "      <td>Last Activity_Others</td>\n",
       "      <td>1.28</td>\n",
       "    </tr>\n",
       "    <tr>\n",
       "      <th>1</th>\n",
       "      <td>Time Spent</td>\n",
       "      <td>1.27</td>\n",
       "    </tr>\n",
       "    <tr>\n",
       "      <th>10</th>\n",
       "      <td>Last Activity_Email Link Clicked</td>\n",
       "      <td>1.26</td>\n",
       "    </tr>\n",
       "    <tr>\n",
       "      <th>5</th>\n",
       "      <td>Lead Origin_Others</td>\n",
       "      <td>1.25</td>\n",
       "    </tr>\n",
       "    <tr>\n",
       "      <th>15</th>\n",
       "      <td>Specialization_International Business</td>\n",
       "      <td>1.03</td>\n",
       "    </tr>\n",
       "  </tbody>\n",
       "</table>\n",
       "</div>"
      ],
      "text/plain": [
       "                                   Features    VIF\n",
       "18            Current Occupation_Unemployed  18.14\n",
       "3       Lead Origin_Landing Page Submission   7.74\n",
       "4                 Lead Origin_Lead Add Form   6.88\n",
       "8                     Lead Source_Reference   6.19\n",
       "16             Specialization_Not Specified   4.87\n",
       "11               Last Activity_Email Opened   4.26\n",
       "14                   Last Activity_SMS Sent   3.66\n",
       "6                    Lead Source_Olark Chat   2.66\n",
       "19  Current Occupation_Working Professional   2.33\n",
       "12    Last Activity_Olark Chat Conversation   2.24\n",
       "2                                 Free Copy   2.21\n",
       "7                        Lead Source_Others   1.87\n",
       "0                               TotalVisits   1.48\n",
       "17               Current Occupation_Student   1.44\n",
       "9               Last Activity_Email Bounced   1.33\n",
       "13                     Last Activity_Others   1.28\n",
       "1                                Time Spent   1.27\n",
       "10         Last Activity_Email Link Clicked   1.26\n",
       "5                        Lead Origin_Others   1.25\n",
       "15    Specialization_International Business   1.03"
      ]
     },
     "execution_count": 135,
     "metadata": {},
     "output_type": "execute_result"
    }
   ],
   "source": [
    "# Create a dataframe that will contain the names of all the feature variables and their respective VIFs\n",
    "\n",
    "vif = pd.DataFrame()\n",
    "vif['Features'] = X_train[col].columns\n",
    "vif['VIF'] = [variance_inflation_factor(X_train[col].values, i) for i in range(X_train[col].shape[1])]\n",
    "vif['VIF'] = round(vif['VIF'], 2)\n",
    "vif = vif.sort_values(by = \"VIF\", ascending = False)\n",
    "vif"
   ]
  },
  {
   "cell_type": "markdown",
   "id": "7c441efd-7976-4256-8257-18b7a804dfea",
   "metadata": {},
   "source": [
    "#### Observations:-\n",
    "- We see there are many variables with a high P-value and VIF value.\n",
    "- We need to continue model building process to improve the model.\n",
    "- Factors that are needed for consideration : VIF < 5% and P-Value < 5%\n",
    "\n",
    "#### Inferences from the above :-\n",
    "- Lead Source_Others - has a P-value of 56.3%.\n",
    "- The above model has 20 features, and we need to reduce it further.\n",
    "- Current Occupation_Unemployed has a VIF score of ~18."
   ]
  },
  {
   "cell_type": "markdown",
   "id": "425dfa1c-52ef-453c-8e16-b7cfaf09de9e",
   "metadata": {},
   "source": [
    "### Model- III [Dropping Lead_Source Others]"
   ]
  },
  {
   "cell_type": "code",
   "execution_count": 136,
   "id": "5003f0de-7aea-49f3-a358-84ec5b8c229a",
   "metadata": {},
   "outputs": [
    {
     "data": {
      "text/plain": [
       "Index(['TotalVisits', 'Time Spent', 'Free Copy',\n",
       "       'Lead Origin_Landing Page Submission', 'Lead Origin_Lead Add Form',\n",
       "       'Lead Origin_Others', 'Lead Source_Olark Chat', 'Lead Source_Reference',\n",
       "       'Last Activity_Email Bounced', 'Last Activity_Email Link Clicked',\n",
       "       'Last Activity_Email Opened', 'Last Activity_Olark Chat Conversation',\n",
       "       'Last Activity_Others', 'Last Activity_SMS Sent',\n",
       "       'Specialization_International Business', 'Specialization_Not Specified',\n",
       "       'Current Occupation_Student', 'Current Occupation_Unemployed',\n",
       "       'Current Occupation_Working Professional'],\n",
       "      dtype='object')"
      ]
     },
     "execution_count": 136,
     "metadata": {},
     "output_type": "execute_result"
    }
   ],
   "source": [
    "col = col.drop('Lead Source_Others')\n",
    "col"
   ]
  },
  {
   "cell_type": "code",
   "execution_count": 137,
   "id": "adf9932b-a235-48d3-93a9-165b6891516e",
   "metadata": {},
   "outputs": [
    {
     "name": "stdout",
     "output_type": "stream",
     "text": [
      "                 Generalized Linear Model Regression Results                  \n",
      "==============================================================================\n",
      "Dep. Variable:              Converted   No. Observations:                 6468\n",
      "Model:                            GLM   Df Residuals:                     6448\n",
      "Model Family:                Binomial   Df Model:                           19\n",
      "Link Function:                  Logit   Scale:                          1.0000\n",
      "Method:                          IRLS   Log-Likelihood:                -2707.9\n",
      "Date:                Tue, 15 Oct 2024   Deviance:                       5415.8\n",
      "Time:                        14:13:31   Pearson chi2:                 8.09e+03\n",
      "No. Iterations:                     6   Pseudo R-squ. (CS):             0.3886\n",
      "Covariance Type:            nonrobust                                         \n",
      "===========================================================================================================\n",
      "                                              coef    std err          z      P>|z|      [0.025      0.975]\n",
      "-----------------------------------------------------------------------------------------------------------\n",
      "const                                      -0.1298      0.546     -0.238      0.812      -1.200       0.940\n",
      "TotalVisits                                 0.1952      0.040      4.863      0.000       0.117       0.274\n",
      "Time Spent                                  1.0550      0.039     26.986      0.000       0.978       1.132\n",
      "Free Copy                                  -0.3174      0.087     -3.655      0.000      -0.488      -0.147\n",
      "Lead Origin_Landing Page Submission        -1.0325      0.131     -7.911      0.000      -1.288      -0.777\n",
      "Lead Origin_Lead Add Form                   4.3722      0.378     11.558      0.000       3.631       5.114\n",
      "Lead Origin_Others                         -0.4284      0.510     -0.840      0.401      -1.428       0.571\n",
      "Lead Source_Olark Chat                      1.1805      0.129      9.153      0.000       0.928       1.433\n",
      "Lead Source_Reference                      -1.1976      0.416     -2.880      0.004      -2.013      -0.383\n",
      "Last Activity_Email Bounced                -1.0756      0.319     -3.368      0.001      -1.701      -0.450\n",
      "Last Activity_Email Link Clicked            0.3862      0.244      1.580      0.114      -0.093       0.865\n",
      "Last Activity_Email Opened                  0.9039      0.127      7.119      0.000       0.655       1.153\n",
      "Last Activity_Olark Chat Conversation      -0.6044      0.202     -2.994      0.003      -1.000      -0.209\n",
      "Last Activity_Others                        0.7285      0.218      3.343      0.001       0.301       1.156\n",
      "Last Activity_SMS Sent                      2.0076      0.130     15.475      0.000       1.753       2.262\n",
      "Specialization_International Business      -0.3706      0.249     -1.487      0.137      -0.859       0.118\n",
      "Specialization_Not Specified               -1.1468      0.124     -9.246      0.000      -1.390      -0.904\n",
      "Current Occupation_Student                 -0.5707      0.578     -0.987      0.323      -1.704       0.562\n",
      "Current Occupation_Unemployed              -1.0035      0.528     -1.901      0.057      -2.038       0.031\n",
      "Current Occupation_Working Professional     1.7030      0.558      3.051      0.002       0.609       2.797\n",
      "===========================================================================================================\n"
     ]
    }
   ],
   "source": [
    "# Let's re-run the model using the selected variables\n",
    "\n",
    "X_train_sm = sm.add_constant(X_train[col])\n",
    "logm3 = sm.GLM(y_train,X_train_sm, family = sm.families.Binomial())\n",
    "res = logm3.fit()\n",
    "print(res.summary())"
   ]
  },
  {
   "cell_type": "code",
   "execution_count": 138,
   "id": "50a11d94-1d4b-429d-8f7f-23afdcbc0690",
   "metadata": {},
   "outputs": [
    {
     "data": {
      "text/html": [
       "<div>\n",
       "<style scoped>\n",
       "    .dataframe tbody tr th:only-of-type {\n",
       "        vertical-align: middle;\n",
       "    }\n",
       "\n",
       "    .dataframe tbody tr th {\n",
       "        vertical-align: top;\n",
       "    }\n",
       "\n",
       "    .dataframe thead th {\n",
       "        text-align: right;\n",
       "    }\n",
       "</style>\n",
       "<table border=\"1\" class=\"dataframe\">\n",
       "  <thead>\n",
       "    <tr style=\"text-align: right;\">\n",
       "      <th></th>\n",
       "      <th>Features</th>\n",
       "      <th>VIF</th>\n",
       "    </tr>\n",
       "  </thead>\n",
       "  <tbody>\n",
       "    <tr>\n",
       "      <th>17</th>\n",
       "      <td>Current Occupation_Unemployed</td>\n",
       "      <td>18.10</td>\n",
       "    </tr>\n",
       "    <tr>\n",
       "      <th>3</th>\n",
       "      <td>Lead Origin_Landing Page Submission</td>\n",
       "      <td>7.73</td>\n",
       "    </tr>\n",
       "    <tr>\n",
       "      <th>15</th>\n",
       "      <td>Specialization_Not Specified</td>\n",
       "      <td>4.84</td>\n",
       "    </tr>\n",
       "    <tr>\n",
       "      <th>4</th>\n",
       "      <td>Lead Origin_Lead Add Form</td>\n",
       "      <td>4.75</td>\n",
       "    </tr>\n",
       "    <tr>\n",
       "      <th>7</th>\n",
       "      <td>Lead Source_Reference</td>\n",
       "      <td>4.44</td>\n",
       "    </tr>\n",
       "    <tr>\n",
       "      <th>10</th>\n",
       "      <td>Last Activity_Email Opened</td>\n",
       "      <td>4.26</td>\n",
       "    </tr>\n",
       "    <tr>\n",
       "      <th>13</th>\n",
       "      <td>Last Activity_SMS Sent</td>\n",
       "      <td>3.65</td>\n",
       "    </tr>\n",
       "    <tr>\n",
       "      <th>6</th>\n",
       "      <td>Lead Source_Olark Chat</td>\n",
       "      <td>2.63</td>\n",
       "    </tr>\n",
       "    <tr>\n",
       "      <th>18</th>\n",
       "      <td>Current Occupation_Working Professional</td>\n",
       "      <td>2.33</td>\n",
       "    </tr>\n",
       "    <tr>\n",
       "      <th>11</th>\n",
       "      <td>Last Activity_Olark Chat Conversation</td>\n",
       "      <td>2.24</td>\n",
       "    </tr>\n",
       "    <tr>\n",
       "      <th>2</th>\n",
       "      <td>Free Copy</td>\n",
       "      <td>2.21</td>\n",
       "    </tr>\n",
       "    <tr>\n",
       "      <th>0</th>\n",
       "      <td>TotalVisits</td>\n",
       "      <td>1.47</td>\n",
       "    </tr>\n",
       "    <tr>\n",
       "      <th>16</th>\n",
       "      <td>Current Occupation_Student</td>\n",
       "      <td>1.44</td>\n",
       "    </tr>\n",
       "    <tr>\n",
       "      <th>8</th>\n",
       "      <td>Last Activity_Email Bounced</td>\n",
       "      <td>1.33</td>\n",
       "    </tr>\n",
       "    <tr>\n",
       "      <th>12</th>\n",
       "      <td>Last Activity_Others</td>\n",
       "      <td>1.28</td>\n",
       "    </tr>\n",
       "    <tr>\n",
       "      <th>1</th>\n",
       "      <td>Time Spent</td>\n",
       "      <td>1.27</td>\n",
       "    </tr>\n",
       "    <tr>\n",
       "      <th>9</th>\n",
       "      <td>Last Activity_Email Link Clicked</td>\n",
       "      <td>1.26</td>\n",
       "    </tr>\n",
       "    <tr>\n",
       "      <th>5</th>\n",
       "      <td>Lead Origin_Others</td>\n",
       "      <td>1.04</td>\n",
       "    </tr>\n",
       "    <tr>\n",
       "      <th>14</th>\n",
       "      <td>Specialization_International Business</td>\n",
       "      <td>1.03</td>\n",
       "    </tr>\n",
       "  </tbody>\n",
       "</table>\n",
       "</div>"
      ],
      "text/plain": [
       "                                   Features    VIF\n",
       "17            Current Occupation_Unemployed  18.10\n",
       "3       Lead Origin_Landing Page Submission   7.73\n",
       "15             Specialization_Not Specified   4.84\n",
       "4                 Lead Origin_Lead Add Form   4.75\n",
       "7                     Lead Source_Reference   4.44\n",
       "10               Last Activity_Email Opened   4.26\n",
       "13                   Last Activity_SMS Sent   3.65\n",
       "6                    Lead Source_Olark Chat   2.63\n",
       "18  Current Occupation_Working Professional   2.33\n",
       "11    Last Activity_Olark Chat Conversation   2.24\n",
       "2                                 Free Copy   2.21\n",
       "0                               TotalVisits   1.47\n",
       "16               Current Occupation_Student   1.44\n",
       "8               Last Activity_Email Bounced   1.33\n",
       "12                     Last Activity_Others   1.28\n",
       "1                                Time Spent   1.27\n",
       "9          Last Activity_Email Link Clicked   1.26\n",
       "5                        Lead Origin_Others   1.04\n",
       "14    Specialization_International Business   1.03"
      ]
     },
     "execution_count": 138,
     "metadata": {},
     "output_type": "execute_result"
    }
   ],
   "source": [
    "# Create a dataframe that will contain the names of all the feature variables and their respective VIFs\n",
    "\n",
    "vif = pd.DataFrame()\n",
    "vif['Features'] = X_train[col].columns\n",
    "vif['VIF'] = [variance_inflation_factor(X_train[col].values, i) for i in range(X_train[col].shape[1])]\n",
    "vif['VIF'] = round(vif['VIF'], 2)\n",
    "vif = vif.sort_values(by = \"VIF\", ascending = False)\n",
    "vif"
   ]
  },
  {
   "cell_type": "markdown",
   "id": "6a5440e0-a845-494c-b397-18e01f164617",
   "metadata": {},
   "source": [
    "#### Inferences from the above model :-\n",
    "- Lead Origin_Others - has a P-value of 40.0%.\n",
    "- The above model has 19 features, and we need to reduce it further.\n",
    "- Current Occupation_Unemployed has a VIF score of ~18."
   ]
  },
  {
   "cell_type": "markdown",
   "id": "1eb977b7-1d28-4148-a583-7b3a02a366cb",
   "metadata": {},
   "source": [
    "### Model - IV [Drop Lead Origin_Others]"
   ]
  },
  {
   "cell_type": "code",
   "execution_count": 139,
   "id": "5a578500-fbc5-45d6-8a12-e418a558d64b",
   "metadata": {},
   "outputs": [
    {
     "data": {
      "text/plain": [
       "Index(['TotalVisits', 'Time Spent', 'Free Copy',\n",
       "       'Lead Origin_Landing Page Submission', 'Lead Origin_Lead Add Form',\n",
       "       'Lead Source_Olark Chat', 'Lead Source_Reference',\n",
       "       'Last Activity_Email Bounced', 'Last Activity_Email Link Clicked',\n",
       "       'Last Activity_Email Opened', 'Last Activity_Olark Chat Conversation',\n",
       "       'Last Activity_Others', 'Last Activity_SMS Sent',\n",
       "       'Specialization_International Business', 'Specialization_Not Specified',\n",
       "       'Current Occupation_Student', 'Current Occupation_Unemployed',\n",
       "       'Current Occupation_Working Professional'],\n",
       "      dtype='object')"
      ]
     },
     "execution_count": 139,
     "metadata": {},
     "output_type": "execute_result"
    }
   ],
   "source": [
    "col = col.drop('Lead Origin_Others')\n",
    "col"
   ]
  },
  {
   "cell_type": "code",
   "execution_count": 140,
   "id": "4cb320c1-c02c-4a5f-a732-64175830f7df",
   "metadata": {},
   "outputs": [
    {
     "name": "stdout",
     "output_type": "stream",
     "text": [
      "                 Generalized Linear Model Regression Results                  \n",
      "==============================================================================\n",
      "Dep. Variable:              Converted   No. Observations:                 6468\n",
      "Model:                            GLM   Df Residuals:                     6449\n",
      "Model Family:                Binomial   Df Model:                           18\n",
      "Link Function:                  Logit   Scale:                          1.0000\n",
      "Method:                          IRLS   Log-Likelihood:                -2708.3\n",
      "Date:                Tue, 15 Oct 2024   Deviance:                       5416.6\n",
      "Time:                        14:16:54   Pearson chi2:                 8.09e+03\n",
      "No. Iterations:                     6   Pseudo R-squ. (CS):             0.3885\n",
      "Covariance Type:            nonrobust                                         \n",
      "===========================================================================================================\n",
      "                                              coef    std err          z      P>|z|      [0.025      0.975]\n",
      "-----------------------------------------------------------------------------------------------------------\n",
      "const                                      -0.1413      0.546     -0.259      0.796      -1.211       0.928\n",
      "TotalVisits                                 0.1972      0.040      4.921      0.000       0.119       0.276\n",
      "Time Spent                                  1.0563      0.039     27.030      0.000       0.980       1.133\n",
      "Free Copy                                  -0.3166      0.087     -3.646      0.000      -0.487      -0.146\n",
      "Lead Origin_Landing Page Submission        -1.0194      0.130     -7.869      0.000      -1.273      -0.765\n",
      "Lead Origin_Lead Add Form                   4.3862      0.378     11.603      0.000       3.645       5.127\n",
      "Lead Source_Olark Chat                      1.1941      0.128      9.326      0.000       0.943       1.445\n",
      "Lead Source_Reference                      -1.1960      0.416     -2.876      0.004      -2.011      -0.381\n",
      "Last Activity_Email Bounced                -1.0837      0.320     -3.384      0.001      -1.711      -0.456\n",
      "Last Activity_Email Link Clicked            0.3864      0.244      1.581      0.114      -0.093       0.866\n",
      "Last Activity_Email Opened                  0.9009      0.127      7.096      0.000       0.652       1.150\n",
      "Last Activity_Olark Chat Conversation      -0.6041      0.202     -2.992      0.003      -1.000      -0.208\n",
      "Last Activity_Others                        0.7288      0.218      3.344      0.001       0.302       1.156\n",
      "Last Activity_SMS Sent                      2.0060      0.130     15.461      0.000       1.752       2.260\n",
      "Specialization_International Business      -0.3688      0.249     -1.479      0.139      -0.857       0.120\n",
      "Specialization_Not Specified               -1.1420      0.124     -9.226      0.000      -1.385      -0.899\n",
      "Current Occupation_Student                 -0.5706      0.578     -0.987      0.324      -1.703       0.562\n",
      "Current Occupation_Unemployed              -1.0051      0.528     -1.904      0.057      -2.040       0.030\n",
      "Current Occupation_Working Professional     1.7009      0.558      3.047      0.002       0.607       2.795\n",
      "===========================================================================================================\n"
     ]
    }
   ],
   "source": [
    "# Let's re-run the model using the selected variables\n",
    "\n",
    "X_train_sm = sm.add_constant(X_train[col])\n",
    "logm4 = sm.GLM(y_train,X_train_sm, family = sm.families.Binomial())\n",
    "res = logm4.fit()\n",
    "print(res.summary())"
   ]
  },
  {
   "cell_type": "code",
   "execution_count": 141,
   "id": "5af636bf-eff7-4913-b25a-8987b46f9621",
   "metadata": {},
   "outputs": [
    {
     "data": {
      "text/html": [
       "<div>\n",
       "<style scoped>\n",
       "    .dataframe tbody tr th:only-of-type {\n",
       "        vertical-align: middle;\n",
       "    }\n",
       "\n",
       "    .dataframe tbody tr th {\n",
       "        vertical-align: top;\n",
       "    }\n",
       "\n",
       "    .dataframe thead th {\n",
       "        text-align: right;\n",
       "    }\n",
       "</style>\n",
       "<table border=\"1\" class=\"dataframe\">\n",
       "  <thead>\n",
       "    <tr style=\"text-align: right;\">\n",
       "      <th></th>\n",
       "      <th>Features</th>\n",
       "      <th>VIF</th>\n",
       "    </tr>\n",
       "  </thead>\n",
       "  <tbody>\n",
       "    <tr>\n",
       "      <th>16</th>\n",
       "      <td>Current Occupation_Unemployed</td>\n",
       "      <td>17.99</td>\n",
       "    </tr>\n",
       "    <tr>\n",
       "      <th>3</th>\n",
       "      <td>Lead Origin_Landing Page Submission</td>\n",
       "      <td>7.65</td>\n",
       "    </tr>\n",
       "    <tr>\n",
       "      <th>14</th>\n",
       "      <td>Specialization_Not Specified</td>\n",
       "      <td>4.84</td>\n",
       "    </tr>\n",
       "    <tr>\n",
       "      <th>4</th>\n",
       "      <td>Lead Origin_Lead Add Form</td>\n",
       "      <td>4.73</td>\n",
       "    </tr>\n",
       "    <tr>\n",
       "      <th>6</th>\n",
       "      <td>Lead Source_Reference</td>\n",
       "      <td>4.44</td>\n",
       "    </tr>\n",
       "    <tr>\n",
       "      <th>9</th>\n",
       "      <td>Last Activity_Email Opened</td>\n",
       "      <td>4.25</td>\n",
       "    </tr>\n",
       "    <tr>\n",
       "      <th>12</th>\n",
       "      <td>Last Activity_SMS Sent</td>\n",
       "      <td>3.65</td>\n",
       "    </tr>\n",
       "    <tr>\n",
       "      <th>5</th>\n",
       "      <td>Lead Source_Olark Chat</td>\n",
       "      <td>2.59</td>\n",
       "    </tr>\n",
       "    <tr>\n",
       "      <th>17</th>\n",
       "      <td>Current Occupation_Working Professional</td>\n",
       "      <td>2.32</td>\n",
       "    </tr>\n",
       "    <tr>\n",
       "      <th>10</th>\n",
       "      <td>Last Activity_Olark Chat Conversation</td>\n",
       "      <td>2.24</td>\n",
       "    </tr>\n",
       "    <tr>\n",
       "      <th>2</th>\n",
       "      <td>Free Copy</td>\n",
       "      <td>2.21</td>\n",
       "    </tr>\n",
       "    <tr>\n",
       "      <th>0</th>\n",
       "      <td>TotalVisits</td>\n",
       "      <td>1.47</td>\n",
       "    </tr>\n",
       "    <tr>\n",
       "      <th>15</th>\n",
       "      <td>Current Occupation_Student</td>\n",
       "      <td>1.43</td>\n",
       "    </tr>\n",
       "    <tr>\n",
       "      <th>7</th>\n",
       "      <td>Last Activity_Email Bounced</td>\n",
       "      <td>1.33</td>\n",
       "    </tr>\n",
       "    <tr>\n",
       "      <th>11</th>\n",
       "      <td>Last Activity_Others</td>\n",
       "      <td>1.28</td>\n",
       "    </tr>\n",
       "    <tr>\n",
       "      <th>1</th>\n",
       "      <td>Time Spent</td>\n",
       "      <td>1.27</td>\n",
       "    </tr>\n",
       "    <tr>\n",
       "      <th>8</th>\n",
       "      <td>Last Activity_Email Link Clicked</td>\n",
       "      <td>1.26</td>\n",
       "    </tr>\n",
       "    <tr>\n",
       "      <th>13</th>\n",
       "      <td>Specialization_International Business</td>\n",
       "      <td>1.03</td>\n",
       "    </tr>\n",
       "  </tbody>\n",
       "</table>\n",
       "</div>"
      ],
      "text/plain": [
       "                                   Features    VIF\n",
       "16            Current Occupation_Unemployed  17.99\n",
       "3       Lead Origin_Landing Page Submission   7.65\n",
       "14             Specialization_Not Specified   4.84\n",
       "4                 Lead Origin_Lead Add Form   4.73\n",
       "6                     Lead Source_Reference   4.44\n",
       "9                Last Activity_Email Opened   4.25\n",
       "12                   Last Activity_SMS Sent   3.65\n",
       "5                    Lead Source_Olark Chat   2.59\n",
       "17  Current Occupation_Working Professional   2.32\n",
       "10    Last Activity_Olark Chat Conversation   2.24\n",
       "2                                 Free Copy   2.21\n",
       "0                               TotalVisits   1.47\n",
       "15               Current Occupation_Student   1.43\n",
       "7               Last Activity_Email Bounced   1.33\n",
       "11                     Last Activity_Others   1.28\n",
       "1                                Time Spent   1.27\n",
       "8          Last Activity_Email Link Clicked   1.26\n",
       "13    Specialization_International Business   1.03"
      ]
     },
     "execution_count": 141,
     "metadata": {},
     "output_type": "execute_result"
    }
   ],
   "source": [
    "# Create a dataframe that will contain the names of all the feature variables and their respective VIFs\n",
    "\n",
    "vif = pd.DataFrame()\n",
    "vif['Features'] = X_train[col].columns\n",
    "vif['VIF'] = [variance_inflation_factor(X_train[col].values, i) for i in range(X_train[col].shape[1])]\n",
    "vif['VIF'] = round(vif['VIF'], 2)\n",
    "vif = vif.sort_values(by = \"VIF\", ascending = False)\n",
    "vif"
   ]
  },
  {
   "cell_type": "markdown",
   "id": "217cfff6-5c2e-40df-852a-3137d73784fa",
   "metadata": {},
   "source": [
    "#### Inferences from the above model :-\n",
    "- Current Occupation_Student - has a P-value of 32.47%.\n",
    "- The above model has 18features, and we need to reduce it further.\n",
    "- Current Occupation_Unemployed has a VIF score of ~18."
   ]
  },
  {
   "cell_type": "markdown",
   "id": "cadf12db-90a9-441c-b79c-3ecc3eb1d491",
   "metadata": {},
   "source": [
    "### Model - V [Drop Current_Occupation_Student]"
   ]
  },
  {
   "cell_type": "code",
   "execution_count": 142,
   "id": "362f1232-b52d-492a-908e-c6b319733ef3",
   "metadata": {},
   "outputs": [],
   "source": [
    "# Dropping \"Current Occupation_Student\" for further evaluation\n",
    "\n",
    "col = col.drop('Current Occupation_Student')"
   ]
  },
  {
   "cell_type": "code",
   "execution_count": 143,
   "id": "37f12519-5472-4e19-96fb-6cf58aec2c1b",
   "metadata": {},
   "outputs": [
    {
     "name": "stdout",
     "output_type": "stream",
     "text": [
      "                 Generalized Linear Model Regression Results                  \n",
      "==============================================================================\n",
      "Dep. Variable:              Converted   No. Observations:                 6468\n",
      "Model:                            GLM   Df Residuals:                     6450\n",
      "Model Family:                Binomial   Df Model:                           17\n",
      "Link Function:                  Logit   Scale:                          1.0000\n",
      "Method:                          IRLS   Log-Likelihood:                -2708.8\n",
      "Date:                Tue, 15 Oct 2024   Deviance:                       5417.6\n",
      "Time:                        14:18:10   Pearson chi2:                 8.11e+03\n",
      "No. Iterations:                     6   Pseudo R-squ. (CS):             0.3885\n",
      "Covariance Type:            nonrobust                                         \n",
      "===========================================================================================================\n",
      "                                              coef    std err          z      P>|z|      [0.025      0.975]\n",
      "-----------------------------------------------------------------------------------------------------------\n",
      "const                                      -0.6086      0.268     -2.273      0.023      -1.134      -0.084\n",
      "TotalVisits                                 0.1979      0.040      4.942      0.000       0.119       0.276\n",
      "Time Spent                                  1.0570      0.039     27.053      0.000       0.980       1.134\n",
      "Free Copy                                  -0.3168      0.087     -3.649      0.000      -0.487      -0.147\n",
      "Lead Origin_Landing Page Submission        -1.0229      0.130     -7.899      0.000      -1.277      -0.769\n",
      "Lead Origin_Lead Add Form                   4.3879      0.378     11.607      0.000       3.647       5.129\n",
      "Lead Source_Olark Chat                      1.1922      0.128      9.313      0.000       0.941       1.443\n",
      "Lead Source_Reference                      -1.1950      0.416     -2.873      0.004      -2.010      -0.380\n",
      "Last Activity_Email Bounced                -1.0882      0.320     -3.398      0.001      -1.716      -0.461\n",
      "Last Activity_Email Link Clicked            0.3859      0.244      1.580      0.114      -0.093       0.865\n",
      "Last Activity_Email Opened                  0.8984      0.127      7.081      0.000       0.650       1.147\n",
      "Last Activity_Olark Chat Conversation      -0.6030      0.202     -2.990      0.003      -0.998      -0.208\n",
      "Last Activity_Others                        0.7355      0.218      3.379      0.001       0.309       1.162\n",
      "Last Activity_SMS Sent                      2.0033      0.130     15.450      0.000       1.749       2.257\n",
      "Specialization_International Business      -0.3722      0.249     -1.493      0.135      -0.861       0.116\n",
      "Specialization_Not Specified               -1.1461      0.124     -9.261      0.000      -1.389      -0.904\n",
      "Current Occupation_Unemployed              -0.5323      0.218     -2.444      0.015      -0.959      -0.105\n",
      "Current Occupation_Working Professional     2.1729      0.285      7.628      0.000       1.615       2.731\n",
      "===========================================================================================================\n"
     ]
    }
   ],
   "source": [
    "# Let's re-run the model using the selected variables\n",
    "\n",
    "X_train_sm = sm.add_constant(X_train[col])\n",
    "logm5 = sm.GLM(y_train,X_train_sm, family = sm.families.Binomial())\n",
    "res = logm5.fit()\n",
    "print(res.summary())"
   ]
  },
  {
   "cell_type": "code",
   "execution_count": 144,
   "id": "8b0028e5-1bae-4de1-bea7-e2820fdc7ef6",
   "metadata": {},
   "outputs": [
    {
     "data": {
      "text/html": [
       "<div>\n",
       "<style scoped>\n",
       "    .dataframe tbody tr th:only-of-type {\n",
       "        vertical-align: middle;\n",
       "    }\n",
       "\n",
       "    .dataframe tbody tr th {\n",
       "        vertical-align: top;\n",
       "    }\n",
       "\n",
       "    .dataframe thead th {\n",
       "        text-align: right;\n",
       "    }\n",
       "</style>\n",
       "<table border=\"1\" class=\"dataframe\">\n",
       "  <thead>\n",
       "    <tr style=\"text-align: right;\">\n",
       "      <th></th>\n",
       "      <th>Features</th>\n",
       "      <th>VIF</th>\n",
       "    </tr>\n",
       "  </thead>\n",
       "  <tbody>\n",
       "    <tr>\n",
       "      <th>15</th>\n",
       "      <td>Current Occupation_Unemployed</td>\n",
       "      <td>12.91</td>\n",
       "    </tr>\n",
       "    <tr>\n",
       "      <th>3</th>\n",
       "      <td>Lead Origin_Landing Page Submission</td>\n",
       "      <td>6.52</td>\n",
       "    </tr>\n",
       "    <tr>\n",
       "      <th>4</th>\n",
       "      <td>Lead Origin_Lead Add Form</td>\n",
       "      <td>4.72</td>\n",
       "    </tr>\n",
       "    <tr>\n",
       "      <th>6</th>\n",
       "      <td>Lead Source_Reference</td>\n",
       "      <td>4.40</td>\n",
       "    </tr>\n",
       "    <tr>\n",
       "      <th>14</th>\n",
       "      <td>Specialization_Not Specified</td>\n",
       "      <td>4.21</td>\n",
       "    </tr>\n",
       "    <tr>\n",
       "      <th>9</th>\n",
       "      <td>Last Activity_Email Opened</td>\n",
       "      <td>3.84</td>\n",
       "    </tr>\n",
       "    <tr>\n",
       "      <th>12</th>\n",
       "      <td>Last Activity_SMS Sent</td>\n",
       "      <td>3.40</td>\n",
       "    </tr>\n",
       "    <tr>\n",
       "      <th>5</th>\n",
       "      <td>Lead Source_Olark Chat</td>\n",
       "      <td>2.54</td>\n",
       "    </tr>\n",
       "    <tr>\n",
       "      <th>2</th>\n",
       "      <td>Free Copy</td>\n",
       "      <td>2.20</td>\n",
       "    </tr>\n",
       "    <tr>\n",
       "      <th>10</th>\n",
       "      <td>Last Activity_Olark Chat Conversation</td>\n",
       "      <td>2.14</td>\n",
       "    </tr>\n",
       "    <tr>\n",
       "      <th>16</th>\n",
       "      <td>Current Occupation_Working Professional</td>\n",
       "      <td>1.97</td>\n",
       "    </tr>\n",
       "    <tr>\n",
       "      <th>0</th>\n",
       "      <td>TotalVisits</td>\n",
       "      <td>1.47</td>\n",
       "    </tr>\n",
       "    <tr>\n",
       "      <th>7</th>\n",
       "      <td>Last Activity_Email Bounced</td>\n",
       "      <td>1.29</td>\n",
       "    </tr>\n",
       "    <tr>\n",
       "      <th>1</th>\n",
       "      <td>Time Spent</td>\n",
       "      <td>1.27</td>\n",
       "    </tr>\n",
       "    <tr>\n",
       "      <th>11</th>\n",
       "      <td>Last Activity_Others</td>\n",
       "      <td>1.25</td>\n",
       "    </tr>\n",
       "    <tr>\n",
       "      <th>8</th>\n",
       "      <td>Last Activity_Email Link Clicked</td>\n",
       "      <td>1.23</td>\n",
       "    </tr>\n",
       "    <tr>\n",
       "      <th>13</th>\n",
       "      <td>Specialization_International Business</td>\n",
       "      <td>1.03</td>\n",
       "    </tr>\n",
       "  </tbody>\n",
       "</table>\n",
       "</div>"
      ],
      "text/plain": [
       "                                   Features    VIF\n",
       "15            Current Occupation_Unemployed  12.91\n",
       "3       Lead Origin_Landing Page Submission   6.52\n",
       "4                 Lead Origin_Lead Add Form   4.72\n",
       "6                     Lead Source_Reference   4.40\n",
       "14             Specialization_Not Specified   4.21\n",
       "9                Last Activity_Email Opened   3.84\n",
       "12                   Last Activity_SMS Sent   3.40\n",
       "5                    Lead Source_Olark Chat   2.54\n",
       "2                                 Free Copy   2.20\n",
       "10    Last Activity_Olark Chat Conversation   2.14\n",
       "16  Current Occupation_Working Professional   1.97\n",
       "0                               TotalVisits   1.47\n",
       "7               Last Activity_Email Bounced   1.29\n",
       "1                                Time Spent   1.27\n",
       "11                     Last Activity_Others   1.25\n",
       "8          Last Activity_Email Link Clicked   1.23\n",
       "13    Specialization_International Business   1.03"
      ]
     },
     "execution_count": 144,
     "metadata": {},
     "output_type": "execute_result"
    }
   ],
   "source": [
    "# Create a dataframe that will contain the names of all the feature variables and their respective VIFs\n",
    "\n",
    "vif = pd.DataFrame()\n",
    "vif['Features'] = X_train[col].columns\n",
    "vif['VIF'] = [variance_inflation_factor(X_train[col].values, i) for i in range(X_train[col].shape[1])]\n",
    "vif['VIF'] = round(vif['VIF'], 2)\n",
    "vif = vif.sort_values(by = \"VIF\", ascending = False)\n",
    "vif"
   ]
  },
  {
   "cell_type": "markdown",
   "id": "2d88f53e-c4fc-4e1f-b154-5a051484e1c5",
   "metadata": {},
   "source": [
    "#### Inferences from the above model :-\n",
    "- Specialization International_Business - has a P-value of 13.5%.\n",
    "- The above model has 17 features, and we need to reduce it further.\n",
    "- Current Occupation_Unemployed has a VIF score of ~13."
   ]
  },
  {
   "cell_type": "markdown",
   "id": "6480ae67-537a-4c95-8478-fbf26ee1f5cc",
   "metadata": {},
   "source": [
    "### Model - VI [Drop Specialization_International Business]"
   ]
  },
  {
   "cell_type": "code",
   "execution_count": 145,
   "id": "3b49ea85-539a-4bad-9138-bf15366be87a",
   "metadata": {},
   "outputs": [
    {
     "data": {
      "text/plain": [
       "Index(['TotalVisits', 'Time Spent', 'Free Copy',\n",
       "       'Lead Origin_Landing Page Submission', 'Lead Origin_Lead Add Form',\n",
       "       'Lead Source_Olark Chat', 'Lead Source_Reference',\n",
       "       'Last Activity_Email Bounced', 'Last Activity_Email Link Clicked',\n",
       "       'Last Activity_Email Opened', 'Last Activity_Olark Chat Conversation',\n",
       "       'Last Activity_Others', 'Last Activity_SMS Sent',\n",
       "       'Specialization_Not Specified', 'Current Occupation_Unemployed',\n",
       "       'Current Occupation_Working Professional'],\n",
       "      dtype='object')"
      ]
     },
     "execution_count": 145,
     "metadata": {},
     "output_type": "execute_result"
    }
   ],
   "source": [
    "# Dropping \"Specialization International_Business\" for model building improvement\n",
    "\n",
    "col = col.drop('Specialization_International Business', 1)\n",
    "col"
   ]
  },
  {
   "cell_type": "code",
   "execution_count": 146,
   "id": "d742553a-c084-4c4a-b008-db83341b32a7",
   "metadata": {},
   "outputs": [
    {
     "name": "stdout",
     "output_type": "stream",
     "text": [
      "                 Generalized Linear Model Regression Results                  \n",
      "==============================================================================\n",
      "Dep. Variable:              Converted   No. Observations:                 6468\n",
      "Model:                            GLM   Df Residuals:                     6451\n",
      "Model Family:                Binomial   Df Model:                           16\n",
      "Link Function:                  Logit   Scale:                          1.0000\n",
      "Method:                          IRLS   Log-Likelihood:                -2709.9\n",
      "Date:                Tue, 15 Oct 2024   Deviance:                       5419.9\n",
      "Time:                        14:20:25   Pearson chi2:                 8.10e+03\n",
      "No. Iterations:                     6   Pseudo R-squ. (CS):             0.3882\n",
      "Covariance Type:            nonrobust                                         \n",
      "===========================================================================================================\n",
      "                                              coef    std err          z      P>|z|      [0.025      0.975]\n",
      "-----------------------------------------------------------------------------------------------------------\n",
      "const                                      -0.6214      0.268     -2.322      0.020      -1.146      -0.097\n",
      "TotalVisits                                 0.1978      0.040      4.941      0.000       0.119       0.276\n",
      "Time Spent                                  1.0582      0.039     27.086      0.000       0.982       1.135\n",
      "Free Copy                                  -0.3168      0.087     -3.651      0.000      -0.487      -0.147\n",
      "Lead Origin_Landing Page Submission        -1.0209      0.129     -7.888      0.000      -1.275      -0.767\n",
      "Lead Origin_Lead Add Form                   4.3921      0.378     11.614      0.000       3.651       5.133\n",
      "Lead Source_Olark Chat                      1.1940      0.128      9.328      0.000       0.943       1.445\n",
      "Lead Source_Reference                      -1.1960      0.416     -2.876      0.004      -2.011      -0.381\n",
      "Last Activity_Email Bounced                -1.1020      0.322     -3.428      0.001      -1.732      -0.472\n",
      "Last Activity_Email Link Clicked            0.3851      0.244      1.578      0.115      -0.093       0.864\n",
      "Last Activity_Email Opened                  0.8977      0.127      7.073      0.000       0.649       1.146\n",
      "Last Activity_Olark Chat Conversation      -0.6022      0.202     -2.986      0.003      -0.997      -0.207\n",
      "Last Activity_Others                        0.7318      0.217      3.365      0.001       0.306       1.158\n",
      "Last Activity_SMS Sent                      2.0021      0.130     15.437      0.000       1.748       2.256\n",
      "Specialization_Not Specified               -1.1334      0.123     -9.184      0.000      -1.375      -0.891\n",
      "Current Occupation_Unemployed              -0.5321      0.218     -2.445      0.014      -0.959      -0.106\n",
      "Current Occupation_Working Professional     2.1762      0.285      7.645      0.000       1.618       2.734\n",
      "===========================================================================================================\n"
     ]
    }
   ],
   "source": [
    "# Let's re-run the model using the selected variables\n",
    "\n",
    "X_train_sm = sm.add_constant(X_train[col])\n",
    "logm6 = sm.GLM(y_train,X_train_sm, family = sm.families.Binomial())\n",
    "res = logm6.fit()\n",
    "print(res.summary())"
   ]
  },
  {
   "cell_type": "code",
   "execution_count": 147,
   "id": "584e08e0-ba20-4969-8e5a-42b0563b0d88",
   "metadata": {},
   "outputs": [
    {
     "data": {
      "text/html": [
       "<div>\n",
       "<style scoped>\n",
       "    .dataframe tbody tr th:only-of-type {\n",
       "        vertical-align: middle;\n",
       "    }\n",
       "\n",
       "    .dataframe tbody tr th {\n",
       "        vertical-align: top;\n",
       "    }\n",
       "\n",
       "    .dataframe thead th {\n",
       "        text-align: right;\n",
       "    }\n",
       "</style>\n",
       "<table border=\"1\" class=\"dataframe\">\n",
       "  <thead>\n",
       "    <tr style=\"text-align: right;\">\n",
       "      <th></th>\n",
       "      <th>Features</th>\n",
       "      <th>VIF</th>\n",
       "    </tr>\n",
       "  </thead>\n",
       "  <tbody>\n",
       "    <tr>\n",
       "      <th>14</th>\n",
       "      <td>Current Occupation_Unemployed</td>\n",
       "      <td>12.90</td>\n",
       "    </tr>\n",
       "    <tr>\n",
       "      <th>3</th>\n",
       "      <td>Lead Origin_Landing Page Submission</td>\n",
       "      <td>6.52</td>\n",
       "    </tr>\n",
       "    <tr>\n",
       "      <th>4</th>\n",
       "      <td>Lead Origin_Lead Add Form</td>\n",
       "      <td>4.72</td>\n",
       "    </tr>\n",
       "    <tr>\n",
       "      <th>6</th>\n",
       "      <td>Lead Source_Reference</td>\n",
       "      <td>4.40</td>\n",
       "    </tr>\n",
       "    <tr>\n",
       "      <th>13</th>\n",
       "      <td>Specialization_Not Specified</td>\n",
       "      <td>4.20</td>\n",
       "    </tr>\n",
       "    <tr>\n",
       "      <th>9</th>\n",
       "      <td>Last Activity_Email Opened</td>\n",
       "      <td>3.83</td>\n",
       "    </tr>\n",
       "    <tr>\n",
       "      <th>12</th>\n",
       "      <td>Last Activity_SMS Sent</td>\n",
       "      <td>3.40</td>\n",
       "    </tr>\n",
       "    <tr>\n",
       "      <th>5</th>\n",
       "      <td>Lead Source_Olark Chat</td>\n",
       "      <td>2.54</td>\n",
       "    </tr>\n",
       "    <tr>\n",
       "      <th>2</th>\n",
       "      <td>Free Copy</td>\n",
       "      <td>2.20</td>\n",
       "    </tr>\n",
       "    <tr>\n",
       "      <th>10</th>\n",
       "      <td>Last Activity_Olark Chat Conversation</td>\n",
       "      <td>2.14</td>\n",
       "    </tr>\n",
       "    <tr>\n",
       "      <th>15</th>\n",
       "      <td>Current Occupation_Working Professional</td>\n",
       "      <td>1.97</td>\n",
       "    </tr>\n",
       "    <tr>\n",
       "      <th>0</th>\n",
       "      <td>TotalVisits</td>\n",
       "      <td>1.47</td>\n",
       "    </tr>\n",
       "    <tr>\n",
       "      <th>7</th>\n",
       "      <td>Last Activity_Email Bounced</td>\n",
       "      <td>1.29</td>\n",
       "    </tr>\n",
       "    <tr>\n",
       "      <th>1</th>\n",
       "      <td>Time Spent</td>\n",
       "      <td>1.27</td>\n",
       "    </tr>\n",
       "    <tr>\n",
       "      <th>11</th>\n",
       "      <td>Last Activity_Others</td>\n",
       "      <td>1.25</td>\n",
       "    </tr>\n",
       "    <tr>\n",
       "      <th>8</th>\n",
       "      <td>Last Activity_Email Link Clicked</td>\n",
       "      <td>1.23</td>\n",
       "    </tr>\n",
       "  </tbody>\n",
       "</table>\n",
       "</div>"
      ],
      "text/plain": [
       "                                   Features    VIF\n",
       "14            Current Occupation_Unemployed  12.90\n",
       "3       Lead Origin_Landing Page Submission   6.52\n",
       "4                 Lead Origin_Lead Add Form   4.72\n",
       "6                     Lead Source_Reference   4.40\n",
       "13             Specialization_Not Specified   4.20\n",
       "9                Last Activity_Email Opened   3.83\n",
       "12                   Last Activity_SMS Sent   3.40\n",
       "5                    Lead Source_Olark Chat   2.54\n",
       "2                                 Free Copy   2.20\n",
       "10    Last Activity_Olark Chat Conversation   2.14\n",
       "15  Current Occupation_Working Professional   1.97\n",
       "0                               TotalVisits   1.47\n",
       "7               Last Activity_Email Bounced   1.29\n",
       "1                                Time Spent   1.27\n",
       "11                     Last Activity_Others   1.25\n",
       "8          Last Activity_Email Link Clicked   1.23"
      ]
     },
     "execution_count": 147,
     "metadata": {},
     "output_type": "execute_result"
    }
   ],
   "source": [
    "# Create a dataframe that will contain the names of all the feature variables and their respective VIFs\n",
    "\n",
    "vif = pd.DataFrame()\n",
    "vif['Features'] = X_train[col].columns\n",
    "vif['VIF'] = [variance_inflation_factor(X_train[col].values, i) for i in range(X_train[col].shape[1])]\n",
    "vif['VIF'] = round(vif['VIF'], 2)\n",
    "vif = vif.sort_values(by = \"VIF\", ascending = False)\n",
    "vif"
   ]
  },
  {
   "cell_type": "markdown",
   "id": "835bc31d-b2a3-4b98-975d-7eb0e4922e8c",
   "metadata": {},
   "source": [
    "#### Inferences from the above model :-\n",
    "- Last Activity_Email Link Clicked - has a P-value of 11.5%.\n",
    "- The above model has 16 features, and we need to reduce it further.\n",
    "- Current Occupation_Unemployed has a VIF score of ~13."
   ]
  },
  {
   "cell_type": "markdown",
   "id": "cc7eacfb-297b-4f9b-a3ae-3b47f1f08b1a",
   "metadata": {},
   "source": [
    "### Model - VII [Drop Last Activity_Email Link Clicked ]"
   ]
  },
  {
   "cell_type": "code",
   "execution_count": 149,
   "id": "cae5c220-0e56-44d6-8642-ef88b666735e",
   "metadata": {},
   "outputs": [
    {
     "data": {
      "text/plain": [
       "Index(['TotalVisits', 'Time Spent', 'Free Copy',\n",
       "       'Lead Origin_Landing Page Submission', 'Lead Origin_Lead Add Form',\n",
       "       'Lead Source_Olark Chat', 'Lead Source_Reference',\n",
       "       'Last Activity_Email Bounced', 'Last Activity_Email Opened',\n",
       "       'Last Activity_Olark Chat Conversation', 'Last Activity_Others',\n",
       "       'Last Activity_SMS Sent', 'Specialization_Not Specified',\n",
       "       'Current Occupation_Unemployed',\n",
       "       'Current Occupation_Working Professional'],\n",
       "      dtype='object')"
      ]
     },
     "execution_count": 149,
     "metadata": {},
     "output_type": "execute_result"
    }
   ],
   "source": [
    "# Dropping \"Last Activity Email Link Clicked\" to improve the model.\n",
    "\n",
    "col = col.drop('Last Activity_Email Link Clicked', 1)\n",
    "col"
   ]
  },
  {
   "cell_type": "code",
   "execution_count": 150,
   "id": "332f00f0-8478-4b25-8ca7-44601a5a4ef1",
   "metadata": {},
   "outputs": [
    {
     "name": "stdout",
     "output_type": "stream",
     "text": [
      "                 Generalized Linear Model Regression Results                  \n",
      "==============================================================================\n",
      "Dep. Variable:              Converted   No. Observations:                 6468\n",
      "Model:                            GLM   Df Residuals:                     6452\n",
      "Model Family:                Binomial   Df Model:                           15\n",
      "Link Function:                  Logit   Scale:                          1.0000\n",
      "Method:                          IRLS   Log-Likelihood:                -2711.1\n",
      "Date:                Tue, 15 Oct 2024   Deviance:                       5422.3\n",
      "Time:                        14:23:50   Pearson chi2:                 8.11e+03\n",
      "No. Iterations:                     6   Pseudo R-squ. (CS):             0.3880\n",
      "Covariance Type:            nonrobust                                         \n",
      "===========================================================================================================\n",
      "                                              coef    std err          z      P>|z|      [0.025      0.975]\n",
      "-----------------------------------------------------------------------------------------------------------\n",
      "const                                      -0.5451      0.262     -2.077      0.038      -1.059      -0.031\n",
      "TotalVisits                                 0.1941      0.040      4.866      0.000       0.116       0.272\n",
      "Time Spent                                  1.0567      0.039     27.082      0.000       0.980       1.133\n",
      "Free Copy                                  -0.3171      0.087     -3.657      0.000      -0.487      -0.147\n",
      "Lead Origin_Landing Page Submission        -1.0209      0.129     -7.890      0.000      -1.275      -0.767\n",
      "Lead Origin_Lead Add Form                   4.4073      0.379     11.635      0.000       3.665       5.150\n",
      "Lead Source_Olark Chat                      1.2023      0.128      9.398      0.000       0.952       1.453\n",
      "Lead Source_Reference                      -1.2007      0.417     -2.881      0.004      -2.018      -0.384\n",
      "Last Activity_Email Bounced                -1.1864      0.317     -3.746      0.000      -1.807      -0.566\n",
      "Last Activity_Email Opened                  0.8150      0.114      7.148      0.000       0.592       1.039\n",
      "Last Activity_Olark Chat Conversation      -0.6909      0.193     -3.583      0.000      -1.069      -0.313\n",
      "Last Activity_Others                        0.6510      0.210      3.093      0.002       0.239       1.064\n",
      "Last Activity_SMS Sent                      1.9194      0.117     16.405      0.000       1.690       2.149\n",
      "Specialization_Not Specified               -1.1336      0.123     -9.182      0.000      -1.376      -0.892\n",
      "Current Occupation_Unemployed              -0.5269      0.218     -2.422      0.015      -0.953      -0.101\n",
      "Current Occupation_Working Professional     2.1784      0.284      7.660      0.000       1.621       2.736\n",
      "===========================================================================================================\n"
     ]
    }
   ],
   "source": [
    "# Let's re-run the model using the selected variables\n",
    "\n",
    "X_train_sm = sm.add_constant(X_train[col])\n",
    "logm7 = sm.GLM(y_train,X_train_sm, family = sm.families.Binomial())\n",
    "res = logm7.fit()\n",
    "print(res.summary())"
   ]
  },
  {
   "cell_type": "markdown",
   "id": "98aaf041-c3e8-45bc-9960-38b6af83fe2b",
   "metadata": {},
   "source": [
    "#### Inferences from the above model :-\n",
    "- All P-Values are less than 5%, now lets check for VIF.\n",
    "- The above model has 15 features, and we need to reduce it further."
   ]
  },
  {
   "cell_type": "code",
   "execution_count": 151,
   "id": "4e4f91dc-52db-4a67-a6b5-bd8aa7284beb",
   "metadata": {},
   "outputs": [
    {
     "data": {
      "text/html": [
       "<div>\n",
       "<style scoped>\n",
       "    .dataframe tbody tr th:only-of-type {\n",
       "        vertical-align: middle;\n",
       "    }\n",
       "\n",
       "    .dataframe tbody tr th {\n",
       "        vertical-align: top;\n",
       "    }\n",
       "\n",
       "    .dataframe thead th {\n",
       "        text-align: right;\n",
       "    }\n",
       "</style>\n",
       "<table border=\"1\" class=\"dataframe\">\n",
       "  <thead>\n",
       "    <tr style=\"text-align: right;\">\n",
       "      <th></th>\n",
       "      <th>Features</th>\n",
       "      <th>VIF</th>\n",
       "    </tr>\n",
       "  </thead>\n",
       "  <tbody>\n",
       "    <tr>\n",
       "      <th>13</th>\n",
       "      <td>Current Occupation_Unemployed</td>\n",
       "      <td>12.20</td>\n",
       "    </tr>\n",
       "    <tr>\n",
       "      <th>3</th>\n",
       "      <td>Lead Origin_Landing Page Submission</td>\n",
       "      <td>6.49</td>\n",
       "    </tr>\n",
       "    <tr>\n",
       "      <th>4</th>\n",
       "      <td>Lead Origin_Lead Add Form</td>\n",
       "      <td>4.72</td>\n",
       "    </tr>\n",
       "    <tr>\n",
       "      <th>6</th>\n",
       "      <td>Lead Source_Reference</td>\n",
       "      <td>4.40</td>\n",
       "    </tr>\n",
       "    <tr>\n",
       "      <th>12</th>\n",
       "      <td>Specialization_Not Specified</td>\n",
       "      <td>4.18</td>\n",
       "    </tr>\n",
       "    <tr>\n",
       "      <th>8</th>\n",
       "      <td>Last Activity_Email Opened</td>\n",
       "      <td>3.32</td>\n",
       "    </tr>\n",
       "    <tr>\n",
       "      <th>11</th>\n",
       "      <td>Last Activity_SMS Sent</td>\n",
       "      <td>2.98</td>\n",
       "    </tr>\n",
       "    <tr>\n",
       "      <th>5</th>\n",
       "      <td>Lead Source_Olark Chat</td>\n",
       "      <td>2.51</td>\n",
       "    </tr>\n",
       "    <tr>\n",
       "      <th>2</th>\n",
       "      <td>Free Copy</td>\n",
       "      <td>2.20</td>\n",
       "    </tr>\n",
       "    <tr>\n",
       "      <th>9</th>\n",
       "      <td>Last Activity_Olark Chat Conversation</td>\n",
       "      <td>1.95</td>\n",
       "    </tr>\n",
       "    <tr>\n",
       "      <th>14</th>\n",
       "      <td>Current Occupation_Working Professional</td>\n",
       "      <td>1.90</td>\n",
       "    </tr>\n",
       "    <tr>\n",
       "      <th>0</th>\n",
       "      <td>TotalVisits</td>\n",
       "      <td>1.46</td>\n",
       "    </tr>\n",
       "    <tr>\n",
       "      <th>1</th>\n",
       "      <td>Time Spent</td>\n",
       "      <td>1.27</td>\n",
       "    </tr>\n",
       "    <tr>\n",
       "      <th>7</th>\n",
       "      <td>Last Activity_Email Bounced</td>\n",
       "      <td>1.24</td>\n",
       "    </tr>\n",
       "    <tr>\n",
       "      <th>10</th>\n",
       "      <td>Last Activity_Others</td>\n",
       "      <td>1.21</td>\n",
       "    </tr>\n",
       "  </tbody>\n",
       "</table>\n",
       "</div>"
      ],
      "text/plain": [
       "                                   Features    VIF\n",
       "13            Current Occupation_Unemployed  12.20\n",
       "3       Lead Origin_Landing Page Submission   6.49\n",
       "4                 Lead Origin_Lead Add Form   4.72\n",
       "6                     Lead Source_Reference   4.40\n",
       "12             Specialization_Not Specified   4.18\n",
       "8                Last Activity_Email Opened   3.32\n",
       "11                   Last Activity_SMS Sent   2.98\n",
       "5                    Lead Source_Olark Chat   2.51\n",
       "2                                 Free Copy   2.20\n",
       "9     Last Activity_Olark Chat Conversation   1.95\n",
       "14  Current Occupation_Working Professional   1.90\n",
       "0                               TotalVisits   1.46\n",
       "1                                Time Spent   1.27\n",
       "7               Last Activity_Email Bounced   1.24\n",
       "10                     Last Activity_Others   1.21"
      ]
     },
     "execution_count": 151,
     "metadata": {},
     "output_type": "execute_result"
    }
   ],
   "source": [
    "# Create a dataframe that will contain the names of all the feature variables and their respective VIFs\n",
    "\n",
    "vif = pd.DataFrame()\n",
    "vif['Features'] = X_train[col].columns\n",
    "vif['VIF'] = [variance_inflation_factor(X_train[col].values, i) for i in range(X_train[col].shape[1])]\n",
    "vif['VIF'] = round(vif['VIF'], 2)\n",
    "vif = vif.sort_values(by = \"VIF\", ascending = False)\n",
    "vif"
   ]
  },
  {
   "cell_type": "markdown",
   "id": "dee4b2b5-8159-4469-a2aa-398c52ea6fc7",
   "metadata": {},
   "source": [
    "#### Current occupation_Unemployed has a high VIF of 12.20 and we need to reduce this further."
   ]
  },
  {
   "cell_type": "markdown",
   "id": "3c977474-a2a9-4f94-898c-ff34c6576182",
   "metadata": {},
   "source": [
    "### Model - VIII [Drop Current Occupation_Unemployed ]"
   ]
  },
  {
   "cell_type": "code",
   "execution_count": 152,
   "id": "e9100dd5-7b48-4293-859d-69c5d734a888",
   "metadata": {},
   "outputs": [
    {
     "data": {
      "text/plain": [
       "Index(['TotalVisits', 'Time Spent', 'Free Copy',\n",
       "       'Lead Origin_Landing Page Submission', 'Lead Origin_Lead Add Form',\n",
       "       'Lead Source_Olark Chat', 'Lead Source_Reference',\n",
       "       'Last Activity_Email Bounced', 'Last Activity_Email Opened',\n",
       "       'Last Activity_Olark Chat Conversation', 'Last Activity_Others',\n",
       "       'Last Activity_SMS Sent', 'Specialization_Not Specified',\n",
       "       'Current Occupation_Working Professional'],\n",
       "      dtype='object')"
      ]
     },
     "execution_count": 152,
     "metadata": {},
     "output_type": "execute_result"
    }
   ],
   "source": [
    "# Dropping \"Current Occupation_Employed\" because of high VIF\n",
    "\n",
    "col = col.drop('Current Occupation_Unemployed', 1)\n",
    "col"
   ]
  },
  {
   "cell_type": "code",
   "execution_count": 153,
   "id": "489041e6-2dd9-46d3-926a-f752a0b3a1b9",
   "metadata": {},
   "outputs": [
    {
     "name": "stdout",
     "output_type": "stream",
     "text": [
      "                 Generalized Linear Model Regression Results                  \n",
      "==============================================================================\n",
      "Dep. Variable:              Converted   No. Observations:                 6468\n",
      "Model:                            GLM   Df Residuals:                     6453\n",
      "Model Family:                Binomial   Df Model:                           14\n",
      "Link Function:                  Logit   Scale:                          1.0000\n",
      "Method:                          IRLS   Log-Likelihood:                -2714.0\n",
      "Date:                Tue, 15 Oct 2024   Deviance:                       5428.0\n",
      "Time:                        14:25:32   Pearson chi2:                 8.15e+03\n",
      "No. Iterations:                     6   Pseudo R-squ. (CS):             0.3875\n",
      "Covariance Type:            nonrobust                                         \n",
      "===========================================================================================================\n",
      "                                              coef    std err          z      P>|z|      [0.025      0.975]\n",
      "-----------------------------------------------------------------------------------------------------------\n",
      "const                                      -1.0565      0.155     -6.805      0.000      -1.361      -0.752\n",
      "TotalVisits                                 0.1944      0.040      4.879      0.000       0.116       0.273\n",
      "Time Spent                                  1.0574      0.039     27.109      0.000       0.981       1.134\n",
      "Free Copy                                  -0.3186      0.087     -3.677      0.000      -0.488      -0.149\n",
      "Lead Origin_Landing Page Submission        -1.0199      0.130     -7.876      0.000      -1.274      -0.766\n",
      "Lead Origin_Lead Add Form                   4.4017      0.379     11.623      0.000       3.659       5.144\n",
      "Lead Source_Olark Chat                      1.2101      0.128      9.463      0.000       0.959       1.461\n",
      "Lead Source_Reference                      -1.1764      0.417     -2.824      0.005      -1.993      -0.360\n",
      "Last Activity_Email Bounced                -1.1921      0.317     -3.758      0.000      -1.814      -0.570\n",
      "Last Activity_Email Opened                  0.8166      0.114      7.171      0.000       0.593       1.040\n",
      "Last Activity_Olark Chat Conversation      -0.6859      0.193     -3.561      0.000      -1.063      -0.308\n",
      "Last Activity_Others                        0.6463      0.210      3.073      0.002       0.234       1.059\n",
      "Last Activity_SMS Sent                      1.9097      0.117     16.358      0.000       1.681       2.138\n",
      "Specialization_Not Specified               -1.1380      0.124     -9.204      0.000      -1.380      -0.896\n",
      "Current Occupation_Working Professional     2.6908      0.190     14.130      0.000       2.318       3.064\n",
      "===========================================================================================================\n"
     ]
    }
   ],
   "source": [
    "# Let's re-run the model using the selected variables\n",
    "\n",
    "X_train_sm = sm.add_constant(X_train[col])\n",
    "logm8 = sm.GLM(y_train,X_train_sm, family = sm.families.Binomial())\n",
    "res = logm8.fit()\n",
    "print(res.summary())"
   ]
  },
  {
   "cell_type": "code",
   "execution_count": 154,
   "id": "d4662a2e-88f4-4915-ad68-a0f13ae13476",
   "metadata": {},
   "outputs": [
    {
     "data": {
      "text/html": [
       "<div>\n",
       "<style scoped>\n",
       "    .dataframe tbody tr th:only-of-type {\n",
       "        vertical-align: middle;\n",
       "    }\n",
       "\n",
       "    .dataframe tbody tr th {\n",
       "        vertical-align: top;\n",
       "    }\n",
       "\n",
       "    .dataframe thead th {\n",
       "        text-align: right;\n",
       "    }\n",
       "</style>\n",
       "<table border=\"1\" class=\"dataframe\">\n",
       "  <thead>\n",
       "    <tr style=\"text-align: right;\">\n",
       "      <th></th>\n",
       "      <th>Features</th>\n",
       "      <th>VIF</th>\n",
       "    </tr>\n",
       "  </thead>\n",
       "  <tbody>\n",
       "    <tr>\n",
       "      <th>4</th>\n",
       "      <td>Lead Origin_Lead Add Form</td>\n",
       "      <td>4.66</td>\n",
       "    </tr>\n",
       "    <tr>\n",
       "      <th>6</th>\n",
       "      <td>Lead Source_Reference</td>\n",
       "      <td>4.36</td>\n",
       "    </tr>\n",
       "    <tr>\n",
       "      <th>3</th>\n",
       "      <td>Lead Origin_Landing Page Submission</td>\n",
       "      <td>3.99</td>\n",
       "    </tr>\n",
       "    <tr>\n",
       "      <th>8</th>\n",
       "      <td>Last Activity_Email Opened</td>\n",
       "      <td>2.68</td>\n",
       "    </tr>\n",
       "    <tr>\n",
       "      <th>12</th>\n",
       "      <td>Specialization_Not Specified</td>\n",
       "      <td>2.68</td>\n",
       "    </tr>\n",
       "    <tr>\n",
       "      <th>11</th>\n",
       "      <td>Last Activity_SMS Sent</td>\n",
       "      <td>2.48</td>\n",
       "    </tr>\n",
       "    <tr>\n",
       "      <th>5</th>\n",
       "      <td>Lead Source_Olark Chat</td>\n",
       "      <td>2.39</td>\n",
       "    </tr>\n",
       "    <tr>\n",
       "      <th>2</th>\n",
       "      <td>Free Copy</td>\n",
       "      <td>2.16</td>\n",
       "    </tr>\n",
       "    <tr>\n",
       "      <th>9</th>\n",
       "      <td>Last Activity_Olark Chat Conversation</td>\n",
       "      <td>1.82</td>\n",
       "    </tr>\n",
       "    <tr>\n",
       "      <th>0</th>\n",
       "      <td>TotalVisits</td>\n",
       "      <td>1.45</td>\n",
       "    </tr>\n",
       "    <tr>\n",
       "      <th>1</th>\n",
       "      <td>Time Spent</td>\n",
       "      <td>1.27</td>\n",
       "    </tr>\n",
       "    <tr>\n",
       "      <th>13</th>\n",
       "      <td>Current Occupation_Working Professional</td>\n",
       "      <td>1.21</td>\n",
       "    </tr>\n",
       "    <tr>\n",
       "      <th>7</th>\n",
       "      <td>Last Activity_Email Bounced</td>\n",
       "      <td>1.20</td>\n",
       "    </tr>\n",
       "    <tr>\n",
       "      <th>10</th>\n",
       "      <td>Last Activity_Others</td>\n",
       "      <td>1.14</td>\n",
       "    </tr>\n",
       "  </tbody>\n",
       "</table>\n",
       "</div>"
      ],
      "text/plain": [
       "                                   Features   VIF\n",
       "4                 Lead Origin_Lead Add Form  4.66\n",
       "6                     Lead Source_Reference  4.36\n",
       "3       Lead Origin_Landing Page Submission  3.99\n",
       "8                Last Activity_Email Opened  2.68\n",
       "12             Specialization_Not Specified  2.68\n",
       "11                   Last Activity_SMS Sent  2.48\n",
       "5                    Lead Source_Olark Chat  2.39\n",
       "2                                 Free Copy  2.16\n",
       "9     Last Activity_Olark Chat Conversation  1.82\n",
       "0                               TotalVisits  1.45\n",
       "1                                Time Spent  1.27\n",
       "13  Current Occupation_Working Professional  1.21\n",
       "7               Last Activity_Email Bounced  1.20\n",
       "10                     Last Activity_Others  1.14"
      ]
     },
     "execution_count": 154,
     "metadata": {},
     "output_type": "execute_result"
    }
   ],
   "source": [
    "# Create a dataframe that will contain the names of all the feature variables and their respective VIFs\n",
    "\n",
    "vif = pd.DataFrame()\n",
    "vif['Features'] = X_train[col].columns\n",
    "vif['VIF'] = [variance_inflation_factor(X_train[col].values, i) for i in range(X_train[col].shape[1])]\n",
    "vif['VIF'] = round(vif['VIF'], 2)\n",
    "vif = vif.sort_values(by = \"VIF\", ascending = False)\n",
    "vif"
   ]
  },
  {
   "cell_type": "markdown",
   "id": "ff063f1a-f79c-413c-8ef3-d0770906a929",
   "metadata": {},
   "source": [
    "#### After multiple re-runs and improving the model upto 8 times, we can say that, all the selected features have a P-value < 5%. and VIF value < 5\n",
    "\n",
    "#### Thus, 8th model is our final model."
   ]
  },
  {
   "cell_type": "markdown",
   "id": "f8108d63-6be1-4e2e-a7ee-fafed82fcd72",
   "metadata": {},
   "source": [
    "#### Prediction of Y - values, as per the final model.\n",
    "\n"
   ]
  },
  {
   "cell_type": "code",
   "execution_count": 155,
   "id": "b706d249-70a6-477d-a9db-e8b80c826174",
   "metadata": {},
   "outputs": [
    {
     "data": {
      "text/plain": [
       "1871    0.458895\n",
       "6795    0.064739\n",
       "3516    0.310168\n",
       "8105    0.798414\n",
       "3934    0.213689\n",
       "4844    0.989374\n",
       "3297    0.106106\n",
       "8071    0.994567\n",
       "987     0.155379\n",
       "7423    0.856092\n",
       "dtype: float64"
      ]
     },
     "execution_count": 155,
     "metadata": {},
     "output_type": "execute_result"
    }
   ],
   "source": [
    "# Getting the predicted values on the train set\n",
    "# X_train_sm will provide the predictor variable. \n",
    "# res will contain the Logistic Regression model result\n",
    "# y_train_Pred will provide us the Predicted Y Values for the given feature variables.\n",
    "\n",
    "y_train_pred = res.predict(X_train_sm)\n",
    "y_train_pred[:10]"
   ]
  },
  {
   "cell_type": "code",
   "execution_count": 156,
   "id": "c296a288-bdae-43e0-bd67-a249e3d22c6f",
   "metadata": {},
   "outputs": [],
   "source": [
    "# Reshaping the predicted probabilities so that it returns an array of Conversion_Probabilities.\n",
    "\n",
    "y_train_pred = y_train_pred.values.reshape(-1)"
   ]
  },
  {
   "cell_type": "markdown",
   "id": "d11d99e3-6eee-4202-bfd8-d3193d8d706d",
   "metadata": {},
   "source": [
    "#### Creation of DataFrame - with the predicted Y values."
   ]
  },
  {
   "cell_type": "code",
   "execution_count": 157,
   "id": "cd6e64a0-279e-409a-a189-02ef557e9bcd",
   "metadata": {},
   "outputs": [
    {
     "data": {
      "text/html": [
       "<div>\n",
       "<style scoped>\n",
       "    .dataframe tbody tr th:only-of-type {\n",
       "        vertical-align: middle;\n",
       "    }\n",
       "\n",
       "    .dataframe tbody tr th {\n",
       "        vertical-align: top;\n",
       "    }\n",
       "\n",
       "    .dataframe thead th {\n",
       "        text-align: right;\n",
       "    }\n",
       "</style>\n",
       "<table border=\"1\" class=\"dataframe\">\n",
       "  <thead>\n",
       "    <tr style=\"text-align: right;\">\n",
       "      <th></th>\n",
       "      <th>Converted</th>\n",
       "      <th>Conversion_Prob</th>\n",
       "      <th>Cust_Id</th>\n",
       "    </tr>\n",
       "  </thead>\n",
       "  <tbody>\n",
       "    <tr>\n",
       "      <th>0</th>\n",
       "      <td>0</td>\n",
       "      <td>0.458895</td>\n",
       "      <td>1871</td>\n",
       "    </tr>\n",
       "    <tr>\n",
       "      <th>1</th>\n",
       "      <td>0</td>\n",
       "      <td>0.064739</td>\n",
       "      <td>6795</td>\n",
       "    </tr>\n",
       "    <tr>\n",
       "      <th>2</th>\n",
       "      <td>0</td>\n",
       "      <td>0.310168</td>\n",
       "      <td>3516</td>\n",
       "    </tr>\n",
       "    <tr>\n",
       "      <th>3</th>\n",
       "      <td>0</td>\n",
       "      <td>0.798414</td>\n",
       "      <td>8105</td>\n",
       "    </tr>\n",
       "    <tr>\n",
       "      <th>4</th>\n",
       "      <td>0</td>\n",
       "      <td>0.213689</td>\n",
       "      <td>3934</td>\n",
       "    </tr>\n",
       "  </tbody>\n",
       "</table>\n",
       "</div>"
      ],
      "text/plain": [
       "   Converted  Conversion_Prob  Cust_Id\n",
       "0          0         0.458895     1871\n",
       "1          0         0.064739     6795\n",
       "2          0         0.310168     3516\n",
       "3          0         0.798414     8105\n",
       "4          0         0.213689     3934"
      ]
     },
     "execution_count": 157,
     "metadata": {},
     "output_type": "execute_result"
    }
   ],
   "source": [
    "# Creating a data frame with the actual Converted score and Probability of conversion\n",
    "# The dataframe is stored in the variable y_train_pred_final.\n",
    "\n",
    "y_train_pred_final = pd.DataFrame({'Converted':y_train.values, 'Conversion_Prob':y_train_pred})\n",
    "y_train_pred_final['Cust_Id'] = y_train.index\n",
    "y_train_pred_final.head()"
   ]
  },
  {
   "cell_type": "code",
   "execution_count": 158,
   "id": "dd6b3b14-0448-4eba-aff0-912771c8a4f5",
   "metadata": {},
   "outputs": [
    {
     "data": {
      "text/html": [
       "<div>\n",
       "<style scoped>\n",
       "    .dataframe tbody tr th:only-of-type {\n",
       "        vertical-align: middle;\n",
       "    }\n",
       "\n",
       "    .dataframe tbody tr th {\n",
       "        vertical-align: top;\n",
       "    }\n",
       "\n",
       "    .dataframe thead th {\n",
       "        text-align: right;\n",
       "    }\n",
       "</style>\n",
       "<table border=\"1\" class=\"dataframe\">\n",
       "  <thead>\n",
       "    <tr style=\"text-align: right;\">\n",
       "      <th></th>\n",
       "      <th>Converted</th>\n",
       "      <th>Conversion_Prob</th>\n",
       "      <th>Cust_Id</th>\n",
       "      <th>predicted</th>\n",
       "    </tr>\n",
       "  </thead>\n",
       "  <tbody>\n",
       "    <tr>\n",
       "      <th>0</th>\n",
       "      <td>0</td>\n",
       "      <td>0.458895</td>\n",
       "      <td>1871</td>\n",
       "      <td>0</td>\n",
       "    </tr>\n",
       "    <tr>\n",
       "      <th>1</th>\n",
       "      <td>0</td>\n",
       "      <td>0.064739</td>\n",
       "      <td>6795</td>\n",
       "      <td>0</td>\n",
       "    </tr>\n",
       "    <tr>\n",
       "      <th>2</th>\n",
       "      <td>0</td>\n",
       "      <td>0.310168</td>\n",
       "      <td>3516</td>\n",
       "      <td>0</td>\n",
       "    </tr>\n",
       "    <tr>\n",
       "      <th>3</th>\n",
       "      <td>0</td>\n",
       "      <td>0.798414</td>\n",
       "      <td>8105</td>\n",
       "      <td>1</td>\n",
       "    </tr>\n",
       "    <tr>\n",
       "      <th>4</th>\n",
       "      <td>0</td>\n",
       "      <td>0.213689</td>\n",
       "      <td>3934</td>\n",
       "      <td>0</td>\n",
       "    </tr>\n",
       "  </tbody>\n",
       "</table>\n",
       "</div>"
      ],
      "text/plain": [
       "   Converted  Conversion_Prob  Cust_Id  predicted\n",
       "0          0         0.458895     1871          0\n",
       "1          0         0.064739     6795          0\n",
       "2          0         0.310168     3516          0\n",
       "3          0         0.798414     8105          1\n",
       "4          0         0.213689     3934          0"
      ]
     },
     "execution_count": 158,
     "metadata": {},
     "output_type": "execute_result"
    }
   ],
   "source": [
    "# Mapping the prediction conversion Rate according to the probability cut off.\n",
    "\n",
    "y_train_pred_final['predicted'] = y_train_pred_final.Conversion_Prob.map(lambda x: 1 if x > 0.5 else 0)\n",
    "\n",
    "# Let's see the head\n",
    "y_train_pred_final.head()"
   ]
  },
  {
   "cell_type": "markdown",
   "id": "75cb5d5a-8ff9-4d75-83f7-67916a33722c",
   "metadata": {},
   "source": [
    "#### Calculation of Metrics for the final model"
   ]
  },
  {
   "cell_type": "code",
   "execution_count": 159,
   "id": "8ffbb215-f03a-43aa-aa50-d11415d4963a",
   "metadata": {},
   "outputs": [
    {
     "name": "stdout",
     "output_type": "stream",
     "text": [
      "[[3578  424]\n",
      " [ 811 1655]]\n"
     ]
    }
   ],
   "source": [
    "# Importing the required libraries for metric calculation\n",
    "from sklearn import metrics\n",
    "\n",
    "# Confusion matrix - Final Model \n",
    "\n",
    "confusion = metrics.confusion_matrix(y_train_pred_final.Converted, y_train_pred_final.predicted )\n",
    "print(confusion)"
   ]
  },
  {
   "cell_type": "code",
   "execution_count": 160,
   "id": "c220a97e-6f62-4e5d-956d-242dba8eef4f",
   "metadata": {},
   "outputs": [
    {
     "name": "stdout",
     "output_type": "stream",
     "text": [
      "0.8090599876314162\n"
     ]
    }
   ],
   "source": [
    "# Let's check the overall accuracy.\n",
    "\n",
    "print(metrics.accuracy_score(y_train_pred_final.Converted, y_train_pred_final.predicted))"
   ]
  },
  {
   "cell_type": "code",
   "execution_count": 161,
   "id": "58851204-377e-4f45-a08b-234194b1e130",
   "metadata": {},
   "outputs": [],
   "source": [
    "# Calculation of Final Model characteristics.\n",
    "\n",
    "TP = confusion[1,1] # true positive \n",
    "TN = confusion[0,0] # true negatives\n",
    "FP = confusion[0,1] # false positives\n",
    "FN = confusion[1,0] # false negatives"
   ]
  },
  {
   "cell_type": "code",
   "execution_count": 162,
   "id": "23967935-1fd2-40c1-a2cf-b6fbeea24e50",
   "metadata": {},
   "outputs": [
    {
     "data": {
      "text/plain": [
       "0.6711273317112734"
      ]
     },
     "execution_count": 162,
     "metadata": {},
     "output_type": "execute_result"
    }
   ],
   "source": [
    "# Let's see the sensitivity of our logistic regression model\n",
    "\n",
    "TP / float(TP+FN)"
   ]
  },
  {
   "cell_type": "code",
   "execution_count": 163,
   "id": "8952f978-49da-4cfa-97db-9402836b93c0",
   "metadata": {},
   "outputs": [
    {
     "data": {
      "text/plain": [
       "0.8940529735132434"
      ]
     },
     "execution_count": 163,
     "metadata": {},
     "output_type": "execute_result"
    }
   ],
   "source": [
    "# Let's calculate specificity\n",
    "\n",
    "TN / float(TN+FP)"
   ]
  },
  {
   "cell_type": "code",
   "execution_count": 164,
   "id": "9f188c91-c7a4-4a3a-b0f2-cf3756edc0df",
   "metadata": {},
   "outputs": [
    {
     "name": "stdout",
     "output_type": "stream",
     "text": [
      "0.10594702648675662\n"
     ]
    }
   ],
   "source": [
    "# Calculate false postive rate - predicting churn when customer does not have churned\n",
    "\n",
    "print(FP/ float(TN+FP))"
   ]
  },
  {
   "cell_type": "code",
   "execution_count": 165,
   "id": "2f685c47-62be-40b7-b243-a0bc82a3dad6",
   "metadata": {},
   "outputs": [
    {
     "name": "stdout",
     "output_type": "stream",
     "text": [
      "0.8152198678514468\n"
     ]
    }
   ],
   "source": [
    "# Negative predictive value\n",
    "\n",
    "print (TN / float(TN+ FN))"
   ]
  },
  {
   "cell_type": "markdown",
   "id": "1bc35c80-d3bb-49db-9189-7acadef7fbbf",
   "metadata": {},
   "source": [
    "### ROC Curve and its parameters"
   ]
  },
  {
   "cell_type": "code",
   "execution_count": 167,
   "id": "df135104-44f0-4ca1-bef6-62abed6b84d9",
   "metadata": {},
   "outputs": [],
   "source": [
    "#Function to plot and draw ROC curve.\n",
    "def draw_roc( actual, probs ):\n",
    "    fpr, tpr, thresholds = metrics.roc_curve( actual, probs,\n",
    "                                              drop_intermediate = False )\n",
    "    auc_score = metrics.roc_auc_score( actual, probs )\n",
    "    plt.figure(figsize=(5, 5))\n",
    "    plt.plot( fpr, tpr, label='ROC curve (area = %0.2f)' % auc_score )\n",
    "    plt.plot([0, 1], [0, 1], 'k--')\n",
    "    plt.xlim([0.0, 1.0])\n",
    "    plt.ylim([0.0, 1.05])\n",
    "    plt.xlabel('False Positive Rate or [1 - True Negative Rate]')\n",
    "    plt.ylabel('True Positive Rate')\n",
    "    plt.title('Receiver operating characteristic example')\n",
    "    plt.legend(loc=\"lower right\")\n",
    "    plt.show()\n",
    "    return None"
   ]
  },
  {
   "cell_type": "code",
   "execution_count": 168,
   "id": "c1267f40-ef10-4d04-af3c-7a0c4f024bf2",
   "metadata": {},
   "outputs": [],
   "source": [
    "# Calculation and FPR and TPR and thresholds for trade off Sensitivity and Specificity.\n",
    "\n",
    "fpr, tpr, thresholds = metrics.roc_curve( y_train_pred_final.Converted, y_train_pred_final.Conversion_Prob, drop_intermediate = False )"
   ]
  },
  {
   "cell_type": "code",
   "execution_count": 170,
   "id": "0b14e882-decf-48e9-b30c-af0cfcf1ccf6",
   "metadata": {},
   "outputs": [
    {
     "data": {
      "image/png": "[encoded data removed]",
      "text/plain": [
       "<Figure size 500x500 with 1 Axes>"
      ]
     },
     "metadata": {},
     "output_type": "display_data"
    }
   ],
   "source": [
    "# Invoking the function to plot ROC - Curve. \n",
    "\n",
    "draw_roc(y_train_pred_final.Converted, y_train_pred_final.Conversion_Prob)"
   ]
  },
  {
   "cell_type": "markdown",
   "id": "e3ff7bd3-8019-4177-87f2-0775a909925a",
   "metadata": {},
   "source": [
    "#### The ROC curve is plotted to find the trade off between Sensitivity and Specificity."
   ]
  },
  {
   "cell_type": "code",
   "execution_count": 175,
   "id": "461681af-1c0f-4244-879a-ced11daac313",
   "metadata": {},
   "outputs": [
    {
     "data": {
      "text/html": [
       "<div>\n",
       "<style scoped>\n",
       "    .dataframe tbody tr th:only-of-type {\n",
       "        vertical-align: middle;\n",
       "    }\n",
       "\n",
       "    .dataframe tbody tr th {\n",
       "        vertical-align: top;\n",
       "    }\n",
       "\n",
       "    .dataframe thead th {\n",
       "        text-align: right;\n",
       "    }\n",
       "</style>\n",
       "<table border=\"1\" class=\"dataframe\">\n",
       "  <thead>\n",
       "    <tr style=\"text-align: right;\">\n",
       "      <th></th>\n",
       "      <th>Converted</th>\n",
       "      <th>Conversion_Prob</th>\n",
       "      <th>Cust_Id</th>\n",
       "      <th>predicted</th>\n",
       "      <th>0.0</th>\n",
       "      <th>0.1</th>\n",
       "      <th>0.2</th>\n",
       "      <th>0.3</th>\n",
       "      <th>0.4</th>\n",
       "      <th>0.5</th>\n",
       "      <th>0.6</th>\n",
       "      <th>0.7</th>\n",
       "      <th>0.8</th>\n",
       "      <th>0.9</th>\n",
       "    </tr>\n",
       "  </thead>\n",
       "  <tbody>\n",
       "    <tr>\n",
       "      <th>0</th>\n",
       "      <td>0</td>\n",
       "      <td>0.458895</td>\n",
       "      <td>1871</td>\n",
       "      <td>0</td>\n",
       "      <td>1</td>\n",
       "      <td>1</td>\n",
       "      <td>1</td>\n",
       "      <td>1</td>\n",
       "      <td>1</td>\n",
       "      <td>0</td>\n",
       "      <td>0</td>\n",
       "      <td>0</td>\n",
       "      <td>0</td>\n",
       "      <td>0</td>\n",
       "    </tr>\n",
       "    <tr>\n",
       "      <th>1</th>\n",
       "      <td>0</td>\n",
       "      <td>0.064739</td>\n",
       "      <td>6795</td>\n",
       "      <td>0</td>\n",
       "      <td>1</td>\n",
       "      <td>0</td>\n",
       "      <td>0</td>\n",
       "      <td>0</td>\n",
       "      <td>0</td>\n",
       "      <td>0</td>\n",
       "      <td>0</td>\n",
       "      <td>0</td>\n",
       "      <td>0</td>\n",
       "      <td>0</td>\n",
       "    </tr>\n",
       "    <tr>\n",
       "      <th>2</th>\n",
       "      <td>0</td>\n",
       "      <td>0.310168</td>\n",
       "      <td>3516</td>\n",
       "      <td>0</td>\n",
       "      <td>1</td>\n",
       "      <td>1</td>\n",
       "      <td>1</td>\n",
       "      <td>1</td>\n",
       "      <td>0</td>\n",
       "      <td>0</td>\n",
       "      <td>0</td>\n",
       "      <td>0</td>\n",
       "      <td>0</td>\n",
       "      <td>0</td>\n",
       "    </tr>\n",
       "    <tr>\n",
       "      <th>3</th>\n",
       "      <td>0</td>\n",
       "      <td>0.798414</td>\n",
       "      <td>8105</td>\n",
       "      <td>1</td>\n",
       "      <td>1</td>\n",
       "      <td>1</td>\n",
       "      <td>1</td>\n",
       "      <td>1</td>\n",
       "      <td>1</td>\n",
       "      <td>1</td>\n",
       "      <td>1</td>\n",
       "      <td>1</td>\n",
       "      <td>0</td>\n",
       "      <td>0</td>\n",
       "    </tr>\n",
       "    <tr>\n",
       "      <th>4</th>\n",
       "      <td>0</td>\n",
       "      <td>0.213689</td>\n",
       "      <td>3934</td>\n",
       "      <td>0</td>\n",
       "      <td>1</td>\n",
       "      <td>1</td>\n",
       "      <td>1</td>\n",
       "      <td>0</td>\n",
       "      <td>0</td>\n",
       "      <td>0</td>\n",
       "      <td>0</td>\n",
       "      <td>0</td>\n",
       "      <td>0</td>\n",
       "      <td>0</td>\n",
       "    </tr>\n",
       "  </tbody>\n",
       "</table>\n",
       "</div>"
      ],
      "text/plain": [
       "   Converted  Conversion_Prob  Cust_Id  predicted  0.0  0.1  0.2  0.3  0.4  \\\n",
       "0          0         0.458895     1871          0    1    1    1    1    1   \n",
       "1          0         0.064739     6795          0    1    0    0    0    0   \n",
       "2          0         0.310168     3516          0    1    1    1    1    0   \n",
       "3          0         0.798414     8105          1    1    1    1    1    1   \n",
       "4          0         0.213689     3934          0    1    1    1    0    0   \n",
       "\n",
       "   0.5  0.6  0.7  0.8  0.9  \n",
       "0    0    0    0    0    0  \n",
       "1    0    0    0    0    0  \n",
       "2    0    0    0    0    0  \n",
       "3    1    1    1    0    0  \n",
       "4    0    0    0    0    0  "
      ]
     },
     "execution_count": 175,
     "metadata": {},
     "output_type": "execute_result"
    }
   ],
   "source": [
    "# Let's create columns with different probability cutoffs \n",
    "\n",
    "numbers = [float(x)/10 for x in range(10)]\n",
    "for i in numbers:\n",
    "    y_train_pred_final[i]= y_train_pred_final.Conversion_Prob.map(lambda x: 1 if x > i else 0)\n",
    "y_train_pred_final.head()"
   ]
  },
  {
   "cell_type": "code",
   "execution_count": 178,
   "id": "799c70a6-93a0-4d93-a006-10c8cc577845",
   "metadata": {},
   "outputs": [
    {
     "name": "stdout",
     "output_type": "stream",
     "text": [
      "     prob  accuracy     sensi     speci\n",
      "0.0   0.0  0.381262  1.000000  0.000000\n",
      "0.1   0.1  0.599567  0.972425  0.369815\n",
      "0.2   0.2  0.724799  0.925385  0.601199\n",
      "0.3   0.3  0.798392  0.838200  0.773863\n",
      "0.4   0.4  0.818027  0.777778  0.842829\n",
      "0.5   0.5  0.809060  0.671127  0.894053\n",
      "0.6   0.6  0.797619  0.596918  0.921289\n",
      "0.7   0.7  0.780767  0.513382  0.945527\n",
      "0.8   0.8  0.756957  0.414031  0.968266\n",
      "0.9   0.9  0.708565  0.252636  0.989505\n"
     ]
    }
   ],
   "source": [
    "# Now let's calculate accuracy sensitivity and specificity for various probability cutoffs.\n",
    "\n",
    "cutoff_df = pd.DataFrame( columns = ['prob','accuracy','sensi','speci'])\n",
    "from sklearn.metrics import confusion_matrix\n",
    "\n",
    "# TP = confusion[1,1] # true positive \n",
    "# TN = confusion[0,0] # true negatives\n",
    "# FP = confusion[0,1] # false positives\n",
    "# FN = confusion[1,0] # false negatives\n",
    "\n",
    "num = [0.0,0.1,0.2,0.3,0.4,0.5,0.6,0.7,0.8,0.9]\n",
    "for i in num:\n",
    "    cm1 = metrics.confusion_matrix(y_train_pred_final.Converted, y_train_pred_final[i] )\n",
    "    total1=sum(sum(cm1))\n",
    "    accuracy = (cm1[0,0]+cm1[1,1])/total1\n",
    "    \n",
    "    speci = cm1[0,0]/(cm1[0,0]+cm1[0,1])\n",
    "    sensi = cm1[1,1]/(cm1[1,0]+cm1[1,1])\n",
    "    cutoff_df.loc[i] =[ i ,accuracy,sensi,speci]\n",
    "print(cutoff_df)"
   ]
  },
  {
   "cell_type": "markdown",
   "id": "acfad340-a596-4b89-9a19-8d6a0a7d6fec",
   "metadata": {},
   "source": [
    "#### Intersection between Accuracy - Sensitivity and Specificity"
   ]
  },
  {
   "cell_type": "code",
   "execution_count": 179,
   "id": "87b1f37d-2adc-4c39-95f9-b43dc36a0fc0",
   "metadata": {},
   "outputs": [
    {
     "data": {
      "image/png": "[encoded data removed]",
      "text/plain": [
       "<Figure size 640x480 with 1 Axes>"
      ]
     },
     "metadata": {},
     "output_type": "display_data"
    },
    {
     "data": {
      "text/plain": [
       "<Figure size 1100x1100 with 0 Axes>"
      ]
     },
     "metadata": {},
     "output_type": "display_data"
    }
   ],
   "source": [
    "# Let's plot accuracy sensitivity and specificity for various probabilities.\n",
    "\n",
    "cutoff_df.plot.line(x='prob', y=['accuracy','sensi','speci'])\n",
    "plt.xticks(np.arange(0, 1, step=0.05), rotation = 90)\n",
    "plt.figure(figsize=(11,11))\n",
    "plt.tight_layout()\n",
    "plt.show()"
   ]
  },
  {
   "cell_type": "markdown",
   "id": "647b9a93-8abd-43e0-9eac-44ceaf082a32",
   "metadata": {},
   "source": [
    "#### From the curve above, 0.35 is the optimum point to take it as a cutoff probability."
   ]
  },
  {
   "cell_type": "markdown",
   "id": "4115d7a7-0fb3-42a7-86ea-dcaaad231813",
   "metadata": {},
   "source": [
    "#### Calculation of predicted values on the score : 0.35"
   ]
  },
  {
   "cell_type": "code",
   "execution_count": 180,
   "id": "b364b910-ffcc-4e18-8c60-6fc5c0065ff2",
   "metadata": {},
   "outputs": [
    {
     "data": {
      "text/html": [
       "<div>\n",
       "<style scoped>\n",
       "    .dataframe tbody tr th:only-of-type {\n",
       "        vertical-align: middle;\n",
       "    }\n",
       "\n",
       "    .dataframe tbody tr th {\n",
       "        vertical-align: top;\n",
       "    }\n",
       "\n",
       "    .dataframe thead th {\n",
       "        text-align: right;\n",
       "    }\n",
       "</style>\n",
       "<table border=\"1\" class=\"dataframe\">\n",
       "  <thead>\n",
       "    <tr style=\"text-align: right;\">\n",
       "      <th></th>\n",
       "      <th>Converted</th>\n",
       "      <th>Conversion_Prob</th>\n",
       "      <th>Cust_Id</th>\n",
       "      <th>predicted</th>\n",
       "      <th>0.0</th>\n",
       "      <th>0.1</th>\n",
       "      <th>0.2</th>\n",
       "      <th>0.3</th>\n",
       "      <th>0.4</th>\n",
       "      <th>0.5</th>\n",
       "      <th>0.6</th>\n",
       "      <th>0.7</th>\n",
       "      <th>0.8</th>\n",
       "      <th>0.9</th>\n",
       "      <th>final_predicted</th>\n",
       "    </tr>\n",
       "  </thead>\n",
       "  <tbody>\n",
       "    <tr>\n",
       "      <th>0</th>\n",
       "      <td>0</td>\n",
       "      <td>0.458895</td>\n",
       "      <td>1871</td>\n",
       "      <td>0</td>\n",
       "      <td>1</td>\n",
       "      <td>1</td>\n",
       "      <td>1</td>\n",
       "      <td>1</td>\n",
       "      <td>1</td>\n",
       "      <td>0</td>\n",
       "      <td>0</td>\n",
       "      <td>0</td>\n",
       "      <td>0</td>\n",
       "      <td>0</td>\n",
       "      <td>1</td>\n",
       "    </tr>\n",
       "    <tr>\n",
       "      <th>1</th>\n",
       "      <td>0</td>\n",
       "      <td>0.064739</td>\n",
       "      <td>6795</td>\n",
       "      <td>0</td>\n",
       "      <td>1</td>\n",
       "      <td>0</td>\n",
       "      <td>0</td>\n",
       "      <td>0</td>\n",
       "      <td>0</td>\n",
       "      <td>0</td>\n",
       "      <td>0</td>\n",
       "      <td>0</td>\n",
       "      <td>0</td>\n",
       "      <td>0</td>\n",
       "      <td>0</td>\n",
       "    </tr>\n",
       "    <tr>\n",
       "      <th>2</th>\n",
       "      <td>0</td>\n",
       "      <td>0.310168</td>\n",
       "      <td>3516</td>\n",
       "      <td>0</td>\n",
       "      <td>1</td>\n",
       "      <td>1</td>\n",
       "      <td>1</td>\n",
       "      <td>1</td>\n",
       "      <td>0</td>\n",
       "      <td>0</td>\n",
       "      <td>0</td>\n",
       "      <td>0</td>\n",
       "      <td>0</td>\n",
       "      <td>0</td>\n",
       "      <td>0</td>\n",
       "    </tr>\n",
       "    <tr>\n",
       "      <th>3</th>\n",
       "      <td>0</td>\n",
       "      <td>0.798414</td>\n",
       "      <td>8105</td>\n",
       "      <td>1</td>\n",
       "      <td>1</td>\n",
       "      <td>1</td>\n",
       "      <td>1</td>\n",
       "      <td>1</td>\n",
       "      <td>1</td>\n",
       "      <td>1</td>\n",
       "      <td>1</td>\n",
       "      <td>1</td>\n",
       "      <td>0</td>\n",
       "      <td>0</td>\n",
       "      <td>1</td>\n",
       "    </tr>\n",
       "    <tr>\n",
       "      <th>4</th>\n",
       "      <td>0</td>\n",
       "      <td>0.213689</td>\n",
       "      <td>3934</td>\n",
       "      <td>0</td>\n",
       "      <td>1</td>\n",
       "      <td>1</td>\n",
       "      <td>1</td>\n",
       "      <td>0</td>\n",
       "      <td>0</td>\n",
       "      <td>0</td>\n",
       "      <td>0</td>\n",
       "      <td>0</td>\n",
       "      <td>0</td>\n",
       "      <td>0</td>\n",
       "      <td>0</td>\n",
       "    </tr>\n",
       "  </tbody>\n",
       "</table>\n",
       "</div>"
      ],
      "text/plain": [
       "   Converted  Conversion_Prob  Cust_Id  predicted  0.0  0.1  0.2  0.3  0.4  \\\n",
       "0          0         0.458895     1871          0    1    1    1    1    1   \n",
       "1          0         0.064739     6795          0    1    0    0    0    0   \n",
       "2          0         0.310168     3516          0    1    1    1    1    0   \n",
       "3          0         0.798414     8105          1    1    1    1    1    1   \n",
       "4          0         0.213689     3934          0    1    1    1    0    0   \n",
       "\n",
       "   0.5  0.6  0.7  0.8  0.9  final_predicted  \n",
       "0    0    0    0    0    0                1  \n",
       "1    0    0    0    0    0                0  \n",
       "2    0    0    0    0    0                0  \n",
       "3    1    1    1    0    0                1  \n",
       "4    0    0    0    0    0                0  "
      ]
     },
     "execution_count": 180,
     "metadata": {},
     "output_type": "execute_result"
    }
   ],
   "source": [
    "y_train_pred_final['final_predicted'] = y_train_pred_final.Conversion_Prob.map( lambda x: 1 if x > 0.35 else 0)\n",
    "y_train_pred_final.head()"
   ]
  },
  {
   "cell_type": "markdown",
   "id": "8557f899-9740-4b1b-80ac-9a25187eab4c",
   "metadata": {},
   "source": [
    "### Metrics calculation for after choosing final probability cut off."
   ]
  },
  {
   "cell_type": "code",
   "execution_count": 181,
   "id": "4a75ee18-87b7-4d6a-a2dc-14cf40e576af",
   "metadata": {},
   "outputs": [
    {
     "data": {
      "text/plain": [
       "0.8119975262832406"
      ]
     },
     "execution_count": 181,
     "metadata": {},
     "output_type": "execute_result"
    }
   ],
   "source": [
    "# Let's check the overall accuracy.\n",
    "\n",
    "metrics.accuracy_score(y_train_pred_final.Converted, y_train_pred_final.final_predicted)"
   ]
  },
  {
   "cell_type": "code",
   "execution_count": 182,
   "id": "2987d0cc-0377-4978-a151-7e82cfdd9be8",
   "metadata": {},
   "outputs": [
    {
     "data": {
      "text/plain": [
       "array([[3268,  734],\n",
       "       [ 482, 1984]], dtype=int64)"
      ]
     },
     "execution_count": 182,
     "metadata": {},
     "output_type": "execute_result"
    }
   ],
   "source": [
    "# Confusion matrix after probability cutoff : 0.35 \n",
    "\n",
    "confusion2 = metrics.confusion_matrix(y_train_pred_final.Converted, y_train_pred_final.final_predicted )\n",
    "confusion2"
   ]
  },
  {
   "cell_type": "code",
   "execution_count": 183,
   "id": "3bac4cdc-aa36-4316-840b-8da9d1a7e467",
   "metadata": {},
   "outputs": [],
   "source": [
    "# Confusion Matrix - Calculating all parameters.\n",
    "\n",
    "TP = confusion2[1,1] # true positive \n",
    "TN = confusion2[0,0] # true negatives\n",
    "FP = confusion2[0,1] # false positives\n",
    "FN = confusion2[1,0] # false negatives"
   ]
  },
  {
   "cell_type": "code",
   "execution_count": 184,
   "id": "15c57ed0-99e4-46ba-aea3-c1cfbd681819",
   "metadata": {},
   "outputs": [
    {
     "data": {
      "text/plain": [
       "0.8045417680454177"
      ]
     },
     "execution_count": 184,
     "metadata": {},
     "output_type": "execute_result"
    }
   ],
   "source": [
    "# Let's see the sensitivity of our logistic regression model\n",
    "\n",
    "TP / float(TP+FN)"
   ]
  },
  {
   "cell_type": "code",
   "execution_count": 185,
   "id": "e3c91f42-2db8-48b2-a89d-980e67da629c",
   "metadata": {},
   "outputs": [
    {
     "data": {
      "text/plain": [
       "0.816591704147926"
      ]
     },
     "execution_count": 185,
     "metadata": {},
     "output_type": "execute_result"
    }
   ],
   "source": [
    "# Let us calculate specificity\n",
    "\n",
    "TN / float(TN+FP)"
   ]
  },
  {
   "cell_type": "code",
   "execution_count": 186,
   "id": "2c78712e-59e6-4a6d-8924-87957d14a107",
   "metadata": {},
   "outputs": [
    {
     "name": "stdout",
     "output_type": "stream",
     "text": [
      "0.18340829585207397\n"
     ]
    }
   ],
   "source": [
    "# Calculate false postive rate - predicting conversion rate when customer will be a hot lead or not\n",
    "\n",
    "print(FP/ float(TN+FP))"
   ]
  },
  {
   "cell_type": "code",
   "execution_count": 187,
   "id": "ba057216-e3ad-47bd-8638-d6ce12a28d1e",
   "metadata": {},
   "outputs": [
    {
     "name": "stdout",
     "output_type": "stream",
     "text": [
      "0.7299484915378955\n"
     ]
    }
   ],
   "source": [
    "# Positive predictive value \n",
    "\n",
    "print (TP / float(TP+FP))"
   ]
  },
  {
   "cell_type": "code",
   "execution_count": 188,
   "id": "f333afbb-b1a1-49ed-b02b-84bea9b6f90e",
   "metadata": {},
   "outputs": [
    {
     "name": "stdout",
     "output_type": "stream",
     "text": [
      "0.8714666666666666\n"
     ]
    }
   ],
   "source": [
    "# Negative predictive value\n",
    "\n",
    "print (TN / float(TN+ FN))"
   ]
  },
  {
   "cell_type": "markdown",
   "id": "663f18c3-a53e-4752-9f7f-7ca85451f979",
   "metadata": {},
   "source": [
    "### ACCURACY - SPECIFICITY - SENSITIVITY\n",
    "#### ACCURACY - 81.19%\n",
    "#### SENSITIVITY - 80.45%\n",
    "#### SPECIFICITY - 81.7%"
   ]
  },
  {
   "cell_type": "markdown",
   "id": "71e5cd19-1539-4c9b-8b8c-4c5d595810a2",
   "metadata": {},
   "source": [
    "## Model Evaluation - ON TEST SET"
   ]
  },
  {
   "cell_type": "code",
   "execution_count": 189,
   "id": "a1ac8669-dc36-427f-95bb-d9701003570b",
   "metadata": {},
   "outputs": [],
   "source": [
    "# Perform all the scaling on the available features.\n",
    "\n",
    "X_test[['TotalVisits','Time Spent','Page Views Per Visit']] = scaler.transform(X_test[['TotalVisits','Time Spent','Page Views Per Visit']])"
   ]
  },
  {
   "cell_type": "code",
   "execution_count": 190,
   "id": "e5130ffe-fcea-42cd-9ab2-1b42c44c88c5",
   "metadata": {},
   "outputs": [
    {
     "data": {
      "text/html": [
       "<div>\n",
       "<style scoped>\n",
       "    .dataframe tbody tr th:only-of-type {\n",
       "        vertical-align: middle;\n",
       "    }\n",
       "\n",
       "    .dataframe tbody tr th {\n",
       "        vertical-align: top;\n",
       "    }\n",
       "\n",
       "    .dataframe thead th {\n",
       "        text-align: right;\n",
       "    }\n",
       "</style>\n",
       "<table border=\"1\" class=\"dataframe\">\n",
       "  <thead>\n",
       "    <tr style=\"text-align: right;\">\n",
       "      <th></th>\n",
       "      <th>TotalVisits</th>\n",
       "      <th>Time Spent</th>\n",
       "      <th>Free Copy</th>\n",
       "      <th>Lead Origin_Landing Page Submission</th>\n",
       "      <th>Lead Origin_Lead Add Form</th>\n",
       "      <th>Lead Source_Olark Chat</th>\n",
       "      <th>Lead Source_Reference</th>\n",
       "      <th>Last Activity_Email Bounced</th>\n",
       "      <th>Last Activity_Email Opened</th>\n",
       "      <th>Last Activity_Olark Chat Conversation</th>\n",
       "      <th>Last Activity_Others</th>\n",
       "      <th>Last Activity_SMS Sent</th>\n",
       "      <th>Specialization_Not Specified</th>\n",
       "      <th>Current Occupation_Working Professional</th>\n",
       "    </tr>\n",
       "  </thead>\n",
       "  <tbody>\n",
       "    <tr>\n",
       "      <th>4269</th>\n",
       "      <td>1.433341</td>\n",
       "      <td>0.964504</td>\n",
       "      <td>0</td>\n",
       "      <td>0</td>\n",
       "      <td>0</td>\n",
       "      <td>0</td>\n",
       "      <td>0</td>\n",
       "      <td>0</td>\n",
       "      <td>0</td>\n",
       "      <td>0</td>\n",
       "      <td>0</td>\n",
       "      <td>1</td>\n",
       "      <td>1</td>\n",
       "      <td>0</td>\n",
       "    </tr>\n",
       "    <tr>\n",
       "      <th>2376</th>\n",
       "      <td>-1.022595</td>\n",
       "      <td>-0.885371</td>\n",
       "      <td>0</td>\n",
       "      <td>0</td>\n",
       "      <td>1</td>\n",
       "      <td>0</td>\n",
       "      <td>1</td>\n",
       "      <td>0</td>\n",
       "      <td>0</td>\n",
       "      <td>0</td>\n",
       "      <td>0</td>\n",
       "      <td>1</td>\n",
       "      <td>1</td>\n",
       "      <td>0</td>\n",
       "    </tr>\n",
       "    <tr>\n",
       "      <th>7766</th>\n",
       "      <td>0.512365</td>\n",
       "      <td>-0.777416</td>\n",
       "      <td>0</td>\n",
       "      <td>0</td>\n",
       "      <td>0</td>\n",
       "      <td>0</td>\n",
       "      <td>0</td>\n",
       "      <td>0</td>\n",
       "      <td>0</td>\n",
       "      <td>0</td>\n",
       "      <td>1</td>\n",
       "      <td>0</td>\n",
       "      <td>0</td>\n",
       "      <td>1</td>\n",
       "    </tr>\n",
       "    <tr>\n",
       "      <th>9199</th>\n",
       "      <td>-1.022595</td>\n",
       "      <td>-0.885371</td>\n",
       "      <td>0</td>\n",
       "      <td>0</td>\n",
       "      <td>0</td>\n",
       "      <td>1</td>\n",
       "      <td>0</td>\n",
       "      <td>0</td>\n",
       "      <td>0</td>\n",
       "      <td>1</td>\n",
       "      <td>0</td>\n",
       "      <td>0</td>\n",
       "      <td>1</td>\n",
       "      <td>0</td>\n",
       "    </tr>\n",
       "    <tr>\n",
       "      <th>4359</th>\n",
       "      <td>-1.022595</td>\n",
       "      <td>-0.885371</td>\n",
       "      <td>0</td>\n",
       "      <td>0</td>\n",
       "      <td>1</td>\n",
       "      <td>0</td>\n",
       "      <td>1</td>\n",
       "      <td>0</td>\n",
       "      <td>1</td>\n",
       "      <td>0</td>\n",
       "      <td>0</td>\n",
       "      <td>0</td>\n",
       "      <td>0</td>\n",
       "      <td>0</td>\n",
       "    </tr>\n",
       "  </tbody>\n",
       "</table>\n",
       "</div>"
      ],
      "text/plain": [
       "      TotalVisits  Time Spent  Free Copy  Lead Origin_Landing Page Submission  \\\n",
       "4269     1.433341    0.964504          0                                    0   \n",
       "2376    -1.022595   -0.885371          0                                    0   \n",
       "7766     0.512365   -0.777416          0                                    0   \n",
       "9199    -1.022595   -0.885371          0                                    0   \n",
       "4359    -1.022595   -0.885371          0                                    0   \n",
       "\n",
       "      Lead Origin_Lead Add Form  Lead Source_Olark Chat  \\\n",
       "4269                          0                       0   \n",
       "2376                          1                       0   \n",
       "7766                          0                       0   \n",
       "9199                          0                       1   \n",
       "4359                          1                       0   \n",
       "\n",
       "      Lead Source_Reference  Last Activity_Email Bounced  \\\n",
       "4269                      0                            0   \n",
       "2376                      1                            0   \n",
       "7766                      0                            0   \n",
       "9199                      0                            0   \n",
       "4359                      1                            0   \n",
       "\n",
       "      Last Activity_Email Opened  Last Activity_Olark Chat Conversation  \\\n",
       "4269                           0                                      0   \n",
       "2376                           0                                      0   \n",
       "7766                           0                                      0   \n",
       "9199                           0                                      1   \n",
       "4359                           1                                      0   \n",
       "\n",
       "      Last Activity_Others  Last Activity_SMS Sent  \\\n",
       "4269                     0                       1   \n",
       "2376                     0                       1   \n",
       "7766                     1                       0   \n",
       "9199                     0                       0   \n",
       "4359                     0                       0   \n",
       "\n",
       "      Specialization_Not Specified  Current Occupation_Working Professional  \n",
       "4269                             1                                        0  \n",
       "2376                             1                                        0  \n",
       "7766                             0                                        1  \n",
       "9199                             1                                        0  \n",
       "4359                             0                                        0  "
      ]
     },
     "execution_count": 190,
     "metadata": {},
     "output_type": "execute_result"
    }
   ],
   "source": [
    "# Selecting all the features, which are selected as per final model\n",
    "# col has all the features available in the final model.\n",
    "\n",
    "X_test = X_test[col]\n",
    "X_test.head()"
   ]
  },
  {
   "cell_type": "markdown",
   "id": "3ed523ac-76fd-4deb-b7f3-2d66fa76ab8d",
   "metadata": {},
   "source": [
    "### Building the model - ON TEST SET"
   ]
  },
  {
   "cell_type": "code",
   "execution_count": 191,
   "id": "06907744-676d-490c-8e98-be8416d6ed60",
   "metadata": {},
   "outputs": [],
   "source": [
    "# Adding a constant for X_Test.\n",
    "\n",
    "X_test_sm = sm.add_constant(X_test)"
   ]
  },
  {
   "cell_type": "code",
   "execution_count": 192,
   "id": "0eef1360-8ece-4b11-8c9e-b50a9f7fd73e",
   "metadata": {},
   "outputs": [],
   "source": [
    "# y_test_pred - X_test_sm has all the features after model building\n",
    "# res = > Result of model building\n",
    "\n",
    "y_test_pred = res.predict(X_test_sm)"
   ]
  },
  {
   "cell_type": "code",
   "execution_count": 193,
   "id": "4eccbf22-6ecf-49bf-a373-9362e46f50c2",
   "metadata": {},
   "outputs": [
    {
     "data": {
      "text/plain": [
       "4269    0.733731\n",
       "2376    0.858812\n",
       "7766    0.826093\n",
       "9199    0.057037\n",
       "4359    0.864181\n",
       "9186    0.559817\n",
       "1631    0.465935\n",
       "8963    0.139994\n",
       "8007    0.085739\n",
       "5324    0.307222\n",
       "dtype: float64"
      ]
     },
     "execution_count": 193,
     "metadata": {},
     "output_type": "execute_result"
    }
   ],
   "source": [
    "# Displaying all the predicted values\n",
    "\n",
    "y_test_pred[:10]"
   ]
  },
  {
   "cell_type": "markdown",
   "id": "670deaf2-bc74-45b0-bcd6-bfe52257fe56",
   "metadata": {},
   "source": [
    "#### Creating a dataframe with the predicted values"
   ]
  },
  {
   "cell_type": "code",
   "execution_count": 195,
   "id": "4f7cd363-cb5f-4ec0-aa1c-3c34cc9708f5",
   "metadata": {},
   "outputs": [
    {
     "data": {
      "text/html": [
       "<div>\n",
       "<style scoped>\n",
       "    .dataframe tbody tr th:only-of-type {\n",
       "        vertical-align: middle;\n",
       "    }\n",
       "\n",
       "    .dataframe tbody tr th {\n",
       "        vertical-align: top;\n",
       "    }\n",
       "\n",
       "    .dataframe thead th {\n",
       "        text-align: right;\n",
       "    }\n",
       "</style>\n",
       "<table border=\"1\" class=\"dataframe\">\n",
       "  <thead>\n",
       "    <tr style=\"text-align: right;\">\n",
       "      <th></th>\n",
       "      <th>0</th>\n",
       "    </tr>\n",
       "  </thead>\n",
       "  <tbody>\n",
       "    <tr>\n",
       "      <th>4269</th>\n",
       "      <td>0.733731</td>\n",
       "    </tr>\n",
       "    <tr>\n",
       "      <th>2376</th>\n",
       "      <td>0.858812</td>\n",
       "    </tr>\n",
       "    <tr>\n",
       "      <th>7766</th>\n",
       "      <td>0.826093</td>\n",
       "    </tr>\n",
       "    <tr>\n",
       "      <th>9199</th>\n",
       "      <td>0.057037</td>\n",
       "    </tr>\n",
       "    <tr>\n",
       "      <th>4359</th>\n",
       "      <td>0.864181</td>\n",
       "    </tr>\n",
       "  </tbody>\n",
       "</table>\n",
       "</div>"
      ],
      "text/plain": [
       "             0\n",
       "4269  0.733731\n",
       "2376  0.858812\n",
       "7766  0.826093\n",
       "9199  0.057037\n",
       "4359  0.864181"
      ]
     },
     "execution_count": 195,
     "metadata": {},
     "output_type": "execute_result"
    }
   ],
   "source": [
    "# Converting y_pred to a dataframe which is an array\n",
    "\n",
    "y_test_pred_1 = pd.DataFrame(y_test_pred)\n",
    "y_test_pred_1.head()"
   ]
  },
  {
   "cell_type": "code",
   "execution_count": 196,
   "id": "97157267-5c8a-4d06-9db5-65188eb6facd",
   "metadata": {},
   "outputs": [],
   "source": [
    "# Converting y_test to dataframe\n",
    "\n",
    "y_test_df = pd.DataFrame(y_test)"
   ]
  },
  {
   "cell_type": "code",
   "execution_count": 197,
   "id": "45b8c9fe-1078-45b1-b458-0856be9cc205",
   "metadata": {},
   "outputs": [],
   "source": [
    "# Putting CustID to index\n",
    "\n",
    "y_test_df['CustID'] = y_test_df.index"
   ]
  },
  {
   "cell_type": "code",
   "execution_count": 198,
   "id": "20b04227-98c6-4ede-b4d4-b854211e2bc6",
   "metadata": {},
   "outputs": [],
   "source": [
    "# Removing index for both dataframes to append them side by side \n",
    "\n",
    "y_test_pred_1.reset_index(drop=True, inplace=True)\n",
    "\n",
    "y_test_df.reset_index(drop=True, inplace=True)"
   ]
  },
  {
   "cell_type": "code",
   "execution_count": 199,
   "id": "77a9441c-619c-4eeb-8520-2349606ce463",
   "metadata": {},
   "outputs": [],
   "source": [
    "# Appending y_test_df and y_pred_1\n",
    "\n",
    "y_pred_final = pd.concat([y_test_df, y_test_pred_1],axis=1)"
   ]
  },
  {
   "cell_type": "code",
   "execution_count": 200,
   "id": "fd092bca-4235-4b31-b92c-89caaf1ecbe9",
   "metadata": {},
   "outputs": [
    {
     "data": {
      "text/html": [
       "<div>\n",
       "<style scoped>\n",
       "    .dataframe tbody tr th:only-of-type {\n",
       "        vertical-align: middle;\n",
       "    }\n",
       "\n",
       "    .dataframe tbody tr th {\n",
       "        vertical-align: top;\n",
       "    }\n",
       "\n",
       "    .dataframe thead th {\n",
       "        text-align: right;\n",
       "    }\n",
       "</style>\n",
       "<table border=\"1\" class=\"dataframe\">\n",
       "  <thead>\n",
       "    <tr style=\"text-align: right;\">\n",
       "      <th></th>\n",
       "      <th>Converted</th>\n",
       "      <th>CustID</th>\n",
       "      <th>0</th>\n",
       "    </tr>\n",
       "  </thead>\n",
       "  <tbody>\n",
       "    <tr>\n",
       "      <th>0</th>\n",
       "      <td>1</td>\n",
       "      <td>4269</td>\n",
       "      <td>0.733731</td>\n",
       "    </tr>\n",
       "    <tr>\n",
       "      <th>1</th>\n",
       "      <td>1</td>\n",
       "      <td>2376</td>\n",
       "      <td>0.858812</td>\n",
       "    </tr>\n",
       "    <tr>\n",
       "      <th>2</th>\n",
       "      <td>1</td>\n",
       "      <td>7766</td>\n",
       "      <td>0.826093</td>\n",
       "    </tr>\n",
       "    <tr>\n",
       "      <th>3</th>\n",
       "      <td>0</td>\n",
       "      <td>9199</td>\n",
       "      <td>0.057037</td>\n",
       "    </tr>\n",
       "    <tr>\n",
       "      <th>4</th>\n",
       "      <td>1</td>\n",
       "      <td>4359</td>\n",
       "      <td>0.864181</td>\n",
       "    </tr>\n",
       "  </tbody>\n",
       "</table>\n",
       "</div>"
      ],
      "text/plain": [
       "   Converted  CustID         0\n",
       "0          1    4269  0.733731\n",
       "1          1    2376  0.858812\n",
       "2          1    7766  0.826093\n",
       "3          0    9199  0.057037\n",
       "4          1    4359  0.864181"
      ]
     },
     "execution_count": 200,
     "metadata": {},
     "output_type": "execute_result"
    }
   ],
   "source": [
    "\n",
    "y_pred_final.head()"
   ]
  },
  {
   "cell_type": "code",
   "execution_count": 201,
   "id": "becfb35a-ea3f-4025-8396-ea43a120ebd4",
   "metadata": {},
   "outputs": [],
   "source": [
    "# Renaming the column \n",
    "\n",
    "y_pred_final= y_pred_final.rename(columns={ 0 : 'Conversion_Prob'})"
   ]
  },
  {
   "cell_type": "code",
   "execution_count": 202,
   "id": "bc5cf2be-6511-4070-8a59-7a96c68781fc",
   "metadata": {},
   "outputs": [],
   "source": [
    "# Predicting the test model on cut off probabilty\n",
    "\n",
    "y_pred_final['final_predicted'] = y_pred_final.Conversion_Prob.map(lambda x: 1 if x > 0.35 else 0)"
   ]
  },
  {
   "cell_type": "code",
   "execution_count": 203,
   "id": "2fa81ac4-e188-48a8-a127-e0e3b9963a35",
   "metadata": {},
   "outputs": [
    {
     "data": {
      "text/html": [
       "<div>\n",
       "<style scoped>\n",
       "    .dataframe tbody tr th:only-of-type {\n",
       "        vertical-align: middle;\n",
       "    }\n",
       "\n",
       "    .dataframe tbody tr th {\n",
       "        vertical-align: top;\n",
       "    }\n",
       "\n",
       "    .dataframe thead th {\n",
       "        text-align: right;\n",
       "    }\n",
       "</style>\n",
       "<table border=\"1\" class=\"dataframe\">\n",
       "  <thead>\n",
       "    <tr style=\"text-align: right;\">\n",
       "      <th></th>\n",
       "      <th>Converted</th>\n",
       "      <th>CustID</th>\n",
       "      <th>Conversion_Prob</th>\n",
       "      <th>final_predicted</th>\n",
       "    </tr>\n",
       "  </thead>\n",
       "  <tbody>\n",
       "    <tr>\n",
       "      <th>0</th>\n",
       "      <td>1</td>\n",
       "      <td>4269</td>\n",
       "      <td>0.733731</td>\n",
       "      <td>1</td>\n",
       "    </tr>\n",
       "    <tr>\n",
       "      <th>1</th>\n",
       "      <td>1</td>\n",
       "      <td>2376</td>\n",
       "      <td>0.858812</td>\n",
       "      <td>1</td>\n",
       "    </tr>\n",
       "    <tr>\n",
       "      <th>2</th>\n",
       "      <td>1</td>\n",
       "      <td>7766</td>\n",
       "      <td>0.826093</td>\n",
       "      <td>1</td>\n",
       "    </tr>\n",
       "    <tr>\n",
       "      <th>3</th>\n",
       "      <td>0</td>\n",
       "      <td>9199</td>\n",
       "      <td>0.057037</td>\n",
       "      <td>0</td>\n",
       "    </tr>\n",
       "    <tr>\n",
       "      <th>4</th>\n",
       "      <td>1</td>\n",
       "      <td>4359</td>\n",
       "      <td>0.864181</td>\n",
       "      <td>1</td>\n",
       "    </tr>\n",
       "  </tbody>\n",
       "</table>\n",
       "</div>"
      ],
      "text/plain": [
       "   Converted  CustID  Conversion_Prob  final_predicted\n",
       "0          1    4269         0.733731                1\n",
       "1          1    2376         0.858812                1\n",
       "2          1    7766         0.826093                1\n",
       "3          0    9199         0.057037                0\n",
       "4          1    4359         0.864181                1"
      ]
     },
     "execution_count": 203,
     "metadata": {},
     "output_type": "execute_result"
    }
   ],
   "source": [
    "# Displaying the predicted value dataframe.\n",
    "\n",
    "y_pred_final.head()"
   ]
  },
  {
   "cell_type": "markdown",
   "id": "eeca612f-9eda-455a-bf6f-372e362fcb35",
   "metadata": {},
   "source": [
    "#### Calculation of Model Evaluation parameters"
   ]
  },
  {
   "cell_type": "code",
   "execution_count": 204,
   "id": "1f411a8c-d434-47ac-9ffb-fb3268b0625f",
   "metadata": {},
   "outputs": [
    {
     "data": {
      "text/plain": [
       "0.8008658008658008"
      ]
     },
     "execution_count": 204,
     "metadata": {},
     "output_type": "execute_result"
    }
   ],
   "source": [
    "# Let's check the overall accuracy.\n",
    "\n",
    "metrics.accuracy_score(y_pred_final.Converted, y_pred_final.final_predicted)"
   ]
  },
  {
   "cell_type": "code",
   "execution_count": 205,
   "id": "0fba0468-3396-4d89-9682-387d0e25e20a",
   "metadata": {},
   "outputs": [
    {
     "data": {
      "text/plain": [
       "array([[1348,  329],\n",
       "       [ 223,  872]], dtype=int64)"
      ]
     },
     "execution_count": 205,
     "metadata": {},
     "output_type": "execute_result"
    }
   ],
   "source": [
    "confusionTest= metrics.confusion_matrix(y_pred_final.Converted, y_pred_final.final_predicted)\n",
    "confusionTest"
   ]
  },
  {
   "cell_type": "code",
   "execution_count": 206,
   "id": "0c66091e-c941-404b-852b-706dba1c8084",
   "metadata": {},
   "outputs": [],
   "source": [
    "\n",
    "TP = confusionTest[1,1] # true positive \n",
    "TN = confusionTest[0,0] # true negatives\n",
    "FP = confusionTest[0,1] # false positives\n",
    "FN = confusionTest[1,0] # false negatives"
   ]
  },
  {
   "cell_type": "code",
   "execution_count": 207,
   "id": "6c32980b-7fe2-427d-9b40-b8846ed4c605",
   "metadata": {},
   "outputs": [
    {
     "name": "stdout",
     "output_type": "stream",
     "text": [
      "80.0\n"
     ]
    }
   ],
   "source": [
    "# Let's see the sensitivity of our logistic regression model\n",
    "\n",
    "sensitivity = round(TP / float(TP+FN),2) *100 \n",
    "print(sensitivity)"
   ]
  },
  {
   "cell_type": "code",
   "execution_count": 208,
   "id": "3cc6e3a9-f2ca-4b1a-88f4-3af2008e9ac5",
   "metadata": {},
   "outputs": [
    {
     "data": {
      "text/plain": [
       "0.8038163387000596"
      ]
     },
     "execution_count": 208,
     "metadata": {},
     "output_type": "execute_result"
    }
   ],
   "source": [
    "# Let's calculate specificity\n",
    "\n",
    "TN / float(TN+FP)"
   ]
  },
  {
   "cell_type": "markdown",
   "id": "7a505685-4f4b-4af6-afc3-9c70e87005d9",
   "metadata": {},
   "source": [
    "### ACCURACY - SPECIFICITY - SENSITIVITY\n",
    "- #### ACCURACY - 80.08%\n",
    "- #### SENSITIVITY - 80.0%\n",
    "- #### SPECIFICITY - 80.3%"
   ]
  },
  {
   "cell_type": "markdown",
   "id": "ad3f4867-9879-44f6-a9d8-3a7383024198",
   "metadata": {},
   "source": [
    "### OBSERVATION :\n",
    "We got 0.5% to 1% difference on train and test data's performance metrics.This implies that our final model didn't overfit training data and is performing well.\n",
    "\n",
    "From our model, We can conclude following points :\n",
    "\n",
    "1. The customer/leads who fills the form are the potential leads.\n",
    "\n",
    "2. We must majorly focus on working professionals.\n",
    "\n",
    "3. We must majorly focus on leads whose last activity is SMS sent or Email opened.\n",
    "\n",
    "4. It’s always good to focus on customers, who have spent significant time on our website.\n",
    "\n",
    "5. It’s better to focus least on customers to whom the sent mail is bounced back.\n",
    "\n",
    "6. If the lead source is referral, he/she may not be the potential lead.\n",
    "\n",
    "7. If the lead didn’t fill specialization, he/she may not know what to study and are not right people to target. So, it’s better to focus less on such cases."
   ]
  },
  {
   "cell_type": "code",
   "execution_count": 210,
   "id": "81bc6e46-07e3-4b85-b7aa-9e0c3162dac0",
   "metadata": {},
   "outputs": [],
   "source": [
    "# Preparing the dataframe - to scale the variables and prepare the complete data.\n",
    "\n",
    "X[['TotalVisits','Time Spent','Page Views Per Visit']] = scaler.transform(X[['TotalVisits','Time Spent','Page Views Per Visit']])"
   ]
  },
  {
   "cell_type": "code",
   "execution_count": 211,
   "id": "0afb8834-813c-4862-a6c7-44a9a8fec8ba",
   "metadata": {},
   "outputs": [
    {
     "data": {
      "text/html": [
       "<div>\n",
       "<style scoped>\n",
       "    .dataframe tbody tr th:only-of-type {\n",
       "        vertical-align: middle;\n",
       "    }\n",
       "\n",
       "    .dataframe tbody tr th {\n",
       "        vertical-align: top;\n",
       "    }\n",
       "\n",
       "    .dataframe thead th {\n",
       "        text-align: right;\n",
       "    }\n",
       "</style>\n",
       "<table border=\"1\" class=\"dataframe\">\n",
       "  <thead>\n",
       "    <tr style=\"text-align: right;\">\n",
       "      <th></th>\n",
       "      <th>TotalVisits</th>\n",
       "      <th>Time Spent</th>\n",
       "      <th>Free Copy</th>\n",
       "      <th>Lead Origin_Landing Page Submission</th>\n",
       "      <th>Lead Origin_Lead Add Form</th>\n",
       "      <th>Lead Source_Olark Chat</th>\n",
       "      <th>Lead Source_Reference</th>\n",
       "      <th>Last Activity_Email Bounced</th>\n",
       "      <th>Last Activity_Email Opened</th>\n",
       "      <th>Last Activity_Olark Chat Conversation</th>\n",
       "      <th>Last Activity_Others</th>\n",
       "      <th>Last Activity_SMS Sent</th>\n",
       "      <th>Specialization_Not Specified</th>\n",
       "      <th>Current Occupation_Working Professional</th>\n",
       "    </tr>\n",
       "  </thead>\n",
       "  <tbody>\n",
       "    <tr>\n",
       "      <th>0</th>\n",
       "      <td>-1.022595</td>\n",
       "      <td>-0.885371</td>\n",
       "      <td>0</td>\n",
       "      <td>0</td>\n",
       "      <td>0</td>\n",
       "      <td>1</td>\n",
       "      <td>0</td>\n",
       "      <td>0</td>\n",
       "      <td>0</td>\n",
       "      <td>0</td>\n",
       "      <td>0</td>\n",
       "      <td>0</td>\n",
       "      <td>1</td>\n",
       "      <td>0</td>\n",
       "    </tr>\n",
       "    <tr>\n",
       "      <th>1</th>\n",
       "      <td>0.512365</td>\n",
       "      <td>0.347879</td>\n",
       "      <td>0</td>\n",
       "      <td>0</td>\n",
       "      <td>0</td>\n",
       "      <td>0</td>\n",
       "      <td>0</td>\n",
       "      <td>0</td>\n",
       "      <td>1</td>\n",
       "      <td>0</td>\n",
       "      <td>0</td>\n",
       "      <td>0</td>\n",
       "      <td>1</td>\n",
       "      <td>0</td>\n",
       "    </tr>\n",
       "    <tr>\n",
       "      <th>2</th>\n",
       "      <td>-0.408611</td>\n",
       "      <td>1.917803</td>\n",
       "      <td>1</td>\n",
       "      <td>1</td>\n",
       "      <td>0</td>\n",
       "      <td>0</td>\n",
       "      <td>0</td>\n",
       "      <td>0</td>\n",
       "      <td>1</td>\n",
       "      <td>0</td>\n",
       "      <td>0</td>\n",
       "      <td>0</td>\n",
       "      <td>0</td>\n",
       "      <td>0</td>\n",
       "    </tr>\n",
       "    <tr>\n",
       "      <th>3</th>\n",
       "      <td>-0.715603</td>\n",
       "      <td>-0.327298</td>\n",
       "      <td>0</td>\n",
       "      <td>1</td>\n",
       "      <td>0</td>\n",
       "      <td>0</td>\n",
       "      <td>0</td>\n",
       "      <td>0</td>\n",
       "      <td>0</td>\n",
       "      <td>0</td>\n",
       "      <td>1</td>\n",
       "      <td>0</td>\n",
       "      <td>0</td>\n",
       "      <td>0</td>\n",
       "    </tr>\n",
       "    <tr>\n",
       "      <th>4</th>\n",
       "      <td>-0.408611</td>\n",
       "      <td>1.727509</td>\n",
       "      <td>0</td>\n",
       "      <td>1</td>\n",
       "      <td>0</td>\n",
       "      <td>0</td>\n",
       "      <td>0</td>\n",
       "      <td>0</td>\n",
       "      <td>0</td>\n",
       "      <td>0</td>\n",
       "      <td>0</td>\n",
       "      <td>0</td>\n",
       "      <td>1</td>\n",
       "      <td>0</td>\n",
       "    </tr>\n",
       "  </tbody>\n",
       "</table>\n",
       "</div>"
      ],
      "text/plain": [
       "   TotalVisits  Time Spent  Free Copy  Lead Origin_Landing Page Submission  \\\n",
       "0    -1.022595   -0.885371          0                                    0   \n",
       "1     0.512365    0.347879          0                                    0   \n",
       "2    -0.408611    1.917803          1                                    1   \n",
       "3    -0.715603   -0.327298          0                                    1   \n",
       "4    -0.408611    1.727509          0                                    1   \n",
       "\n",
       "   Lead Origin_Lead Add Form  Lead Source_Olark Chat  Lead Source_Reference  \\\n",
       "0                          0                       1                      0   \n",
       "1                          0                       0                      0   \n",
       "2                          0                       0                      0   \n",
       "3                          0                       0                      0   \n",
       "4                          0                       0                      0   \n",
       "\n",
       "   Last Activity_Email Bounced  Last Activity_Email Opened  \\\n",
       "0                            0                           0   \n",
       "1                            0                           1   \n",
       "2                            0                           1   \n",
       "3                            0                           0   \n",
       "4                            0                           0   \n",
       "\n",
       "   Last Activity_Olark Chat Conversation  Last Activity_Others  \\\n",
       "0                                      0                     0   \n",
       "1                                      0                     0   \n",
       "2                                      0                     0   \n",
       "3                                      0                     1   \n",
       "4                                      0                     0   \n",
       "\n",
       "   Last Activity_SMS Sent  Specialization_Not Specified  \\\n",
       "0                       0                             1   \n",
       "1                       0                             1   \n",
       "2                       0                             0   \n",
       "3                       0                             0   \n",
       "4                       0                             1   \n",
       "\n",
       "   Current Occupation_Working Professional  \n",
       "0                                        0  \n",
       "1                                        0  \n",
       "2                                        0  \n",
       "3                                        0  \n",
       "4                                        0  "
      ]
     },
     "execution_count": 211,
     "metadata": {},
     "output_type": "execute_result"
    }
   ],
   "source": [
    "# Selecting the features in our final model on the scaled dataframe.\n",
    "\n",
    "X = X[col]\n",
    "X.head()"
   ]
  },
  {
   "cell_type": "code",
   "execution_count": 212,
   "id": "494ffc34-accd-4e77-a9a7-7a7025aa071a",
   "metadata": {},
   "outputs": [],
   "source": [
    "# Adding a constant to the dataframe\n",
    "\n",
    "X_sm = sm.add_constant(X)"
   ]
  },
  {
   "cell_type": "code",
   "execution_count": 213,
   "id": "841a13a6-1e45-4567-bb62-0317bac0c1bd",
   "metadata": {},
   "outputs": [],
   "source": [
    "# Predicting the y-values on X dataframe (Leads.csv)\n",
    "\n",
    "y_ans_pred = res.predict(X_sm)"
   ]
  },
  {
   "cell_type": "code",
   "execution_count": 214,
   "id": "15c274ff-7e4a-4888-8153-f3bdb0330a13",
   "metadata": {},
   "outputs": [
    {
     "data": {
      "text/plain": [
       "0    0.107220\n",
       "1    0.286904\n",
       "2    0.591466\n",
       "3    0.128387\n",
       "4    0.187359\n",
       "5    0.057037\n",
       "6    0.710450\n",
       "7    0.057037\n",
       "8    0.078954\n",
       "9    0.264265\n",
       "dtype: float64"
      ]
     },
     "execution_count": 214,
     "metadata": {},
     "output_type": "execute_result"
    }
   ],
   "source": [
    "# Printing the probabilities\n",
    "\n",
    "y_ans_pred[:10]"
   ]
  },
  {
   "cell_type": "code",
   "execution_count": 215,
   "id": "80fc5eb7-c043-4b57-92a9-d694bd66548e",
   "metadata": {},
   "outputs": [],
   "source": [
    "# Converting y_pred to a dataframe which is an array\n",
    "\n",
    "y_ans_pred_df = pd.DataFrame(y_ans_pred)"
   ]
  },
  {
   "cell_type": "code",
   "execution_count": 216,
   "id": "a56cff00-254b-48d8-9a54-783ec7890cc1",
   "metadata": {},
   "outputs": [],
   "source": [
    "# Converting y to dataframe\n",
    "\n",
    "y_df = pd.DataFrame(y)"
   ]
  },
  {
   "cell_type": "code",
   "execution_count": 217,
   "id": "06fdc3fc-1ae0-4580-a051-d5ce57b0b2b7",
   "metadata": {},
   "outputs": [],
   "source": [
    "# Putting Lead_Number to index\n",
    "\n",
    "y_df['Lead_Number'] = lead['Lead Number']"
   ]
  },
  {
   "cell_type": "code",
   "execution_count": 218,
   "id": "eb076903-0ebb-40ec-99a7-ff1b32c00846",
   "metadata": {},
   "outputs": [],
   "source": [
    "# Removing index for both dataframes to append them side by side \n",
    "\n",
    "y_ans_pred_df.reset_index(drop=True, inplace=True)\n",
    "y_df.reset_index(drop=True, inplace=True)"
   ]
  },
  {
   "cell_type": "code",
   "execution_count": 219,
   "id": "d0f8cad4-0183-48b9-85f6-90bb9c99c001",
   "metadata": {},
   "outputs": [],
   "source": [
    "# Appending y_test_df and y_df\n",
    "\n",
    "y_ans_final = pd.concat([y_df, y_ans_pred_df],axis=1)"
   ]
  },
  {
   "cell_type": "code",
   "execution_count": 220,
   "id": "7cb17a37-13d6-426f-90f0-212bb11b9076",
   "metadata": {},
   "outputs": [],
   "source": [
    "# Renaming the column \n",
    "\n",
    "y_ans_final= y_ans_final.rename(columns={ 0 : 'Conversion_Prob'})"
   ]
  },
  {
   "cell_type": "code",
   "execution_count": 221,
   "id": "1c34dcee-0d06-41ff-b9ef-6b4460c5850e",
   "metadata": {},
   "outputs": [
    {
     "data": {
      "text/html": [
       "<div>\n",
       "<style scoped>\n",
       "    .dataframe tbody tr th:only-of-type {\n",
       "        vertical-align: middle;\n",
       "    }\n",
       "\n",
       "    .dataframe tbody tr th {\n",
       "        vertical-align: top;\n",
       "    }\n",
       "\n",
       "    .dataframe thead th {\n",
       "        text-align: right;\n",
       "    }\n",
       "</style>\n",
       "<table border=\"1\" class=\"dataframe\">\n",
       "  <thead>\n",
       "    <tr style=\"text-align: right;\">\n",
       "      <th></th>\n",
       "      <th>Converted</th>\n",
       "      <th>Lead_Number</th>\n",
       "      <th>Conversion_Prob</th>\n",
       "    </tr>\n",
       "  </thead>\n",
       "  <tbody>\n",
       "    <tr>\n",
       "      <th>0</th>\n",
       "      <td>0</td>\n",
       "      <td>660737</td>\n",
       "      <td>0.107220</td>\n",
       "    </tr>\n",
       "    <tr>\n",
       "      <th>1</th>\n",
       "      <td>0</td>\n",
       "      <td>660728</td>\n",
       "      <td>0.286904</td>\n",
       "    </tr>\n",
       "    <tr>\n",
       "      <th>2</th>\n",
       "      <td>1</td>\n",
       "      <td>660727</td>\n",
       "      <td>0.591466</td>\n",
       "    </tr>\n",
       "    <tr>\n",
       "      <th>3</th>\n",
       "      <td>0</td>\n",
       "      <td>660719</td>\n",
       "      <td>0.128387</td>\n",
       "    </tr>\n",
       "    <tr>\n",
       "      <th>4</th>\n",
       "      <td>1</td>\n",
       "      <td>660681</td>\n",
       "      <td>0.187359</td>\n",
       "    </tr>\n",
       "  </tbody>\n",
       "</table>\n",
       "</div>"
      ],
      "text/plain": [
       "   Converted  Lead_Number  Conversion_Prob\n",
       "0          0       660737         0.107220\n",
       "1          0       660728         0.286904\n",
       "2          1       660727         0.591466\n",
       "3          0       660719         0.128387\n",
       "4          1       660681         0.187359"
      ]
     },
     "execution_count": 221,
     "metadata": {},
     "output_type": "execute_result"
    }
   ],
   "source": [
    "# Displaying the Answer_Dataframe\n",
    "\n",
    "y_ans_final.head()"
   ]
  },
  {
   "cell_type": "markdown",
   "id": "820b65fd-cd65-4457-bbd4-18616c40e719",
   "metadata": {},
   "source": [
    "### Finding the converted value using the probability cut-off = 0.35"
   ]
  },
  {
   "cell_type": "code",
   "execution_count": 222,
   "id": "7358932f-b224-4e51-ada4-a64400fef100",
   "metadata": {},
   "outputs": [],
   "source": [
    "# Finding the Predicted values using the probability cut off\n",
    "\n",
    "y_ans_final['final_predicted'] = y_ans_final.Conversion_Prob.map(lambda x: 1 if x > 0.35 else 0)"
   ]
  },
  {
   "cell_type": "code",
   "execution_count": 223,
   "id": "3220a3cb-ab23-4604-8a51-b33f23cb9f5b",
   "metadata": {},
   "outputs": [],
   "source": [
    "# Appending the score to the dataframe.\n",
    "\n",
    "y_ans_final['Score'] = round(y_ans_final['Conversion_Prob'] * 100, 2)"
   ]
  },
  {
   "cell_type": "code",
   "execution_count": 224,
   "id": "119cad97-cbee-4b4f-9b4e-ddbf1c0ce09e",
   "metadata": {},
   "outputs": [
    {
     "data": {
      "text/html": [
       "<div>\n",
       "<style scoped>\n",
       "    .dataframe tbody tr th:only-of-type {\n",
       "        vertical-align: middle;\n",
       "    }\n",
       "\n",
       "    .dataframe tbody tr th {\n",
       "        vertical-align: top;\n",
       "    }\n",
       "\n",
       "    .dataframe thead th {\n",
       "        text-align: right;\n",
       "    }\n",
       "</style>\n",
       "<table border=\"1\" class=\"dataframe\">\n",
       "  <thead>\n",
       "    <tr style=\"text-align: right;\">\n",
       "      <th></th>\n",
       "      <th>Converted</th>\n",
       "      <th>Lead_Number</th>\n",
       "      <th>Conversion_Prob</th>\n",
       "      <th>final_predicted</th>\n",
       "      <th>Score</th>\n",
       "    </tr>\n",
       "  </thead>\n",
       "  <tbody>\n",
       "    <tr>\n",
       "      <th>0</th>\n",
       "      <td>0</td>\n",
       "      <td>660737</td>\n",
       "      <td>0.107220</td>\n",
       "      <td>0</td>\n",
       "      <td>10.72</td>\n",
       "    </tr>\n",
       "    <tr>\n",
       "      <th>1</th>\n",
       "      <td>0</td>\n",
       "      <td>660728</td>\n",
       "      <td>0.286904</td>\n",
       "      <td>0</td>\n",
       "      <td>28.69</td>\n",
       "    </tr>\n",
       "    <tr>\n",
       "      <th>2</th>\n",
       "      <td>1</td>\n",
       "      <td>660727</td>\n",
       "      <td>0.591466</td>\n",
       "      <td>1</td>\n",
       "      <td>59.15</td>\n",
       "    </tr>\n",
       "    <tr>\n",
       "      <th>3</th>\n",
       "      <td>0</td>\n",
       "      <td>660719</td>\n",
       "      <td>0.128387</td>\n",
       "      <td>0</td>\n",
       "      <td>12.84</td>\n",
       "    </tr>\n",
       "    <tr>\n",
       "      <th>4</th>\n",
       "      <td>1</td>\n",
       "      <td>660681</td>\n",
       "      <td>0.187359</td>\n",
       "      <td>0</td>\n",
       "      <td>18.74</td>\n",
       "    </tr>\n",
       "  </tbody>\n",
       "</table>\n",
       "</div>"
      ],
      "text/plain": [
       "   Converted  Lead_Number  Conversion_Prob  final_predicted  Score\n",
       "0          0       660737         0.107220                0  10.72\n",
       "1          0       660728         0.286904                0  28.69\n",
       "2          1       660727         0.591466                1  59.15\n",
       "3          0       660719         0.128387                0  12.84\n",
       "4          1       660681         0.187359                0  18.74"
      ]
     },
     "execution_count": 224,
     "metadata": {},
     "output_type": "execute_result"
    }
   ],
   "source": [
    "# Displaying the predicted conversion on the final values\n",
    "\n",
    "y_ans_final.head()"
   ]
  },
  {
   "cell_type": "markdown",
   "id": "c6c10e0e-6639-4d8b-8900-c5427d7ae5ad",
   "metadata": {},
   "source": [
    "### Metric Calculation - Complete Dataframe"
   ]
  },
  {
   "cell_type": "code",
   "execution_count": 225,
   "id": "a5c3ed07-6f2a-42f5-b55a-d55983593d55",
   "metadata": {},
   "outputs": [
    {
     "data": {
      "text/plain": [
       "0.8086580086580086"
      ]
     },
     "execution_count": 225,
     "metadata": {},
     "output_type": "execute_result"
    }
   ],
   "source": [
    "# Let's check the overall accuracy.\n",
    "\n",
    "metrics.accuracy_score(y_ans_final.Converted, y_ans_final.final_predicted)"
   ]
  },
  {
   "cell_type": "code",
   "execution_count": 226,
   "id": "f2f05c17-0082-48a2-bf88-3251e91c9dd1",
   "metadata": {},
   "outputs": [
    {
     "data": {
      "text/plain": [
       "array([[4616, 1063],\n",
       "       [ 705, 2856]], dtype=int64)"
      ]
     },
     "execution_count": 226,
     "metadata": {},
     "output_type": "execute_result"
    }
   ],
   "source": [
    "# Confusion Matrix\n",
    "\n",
    "confusionAns= metrics.confusion_matrix(y_ans_final.Converted, y_ans_final.final_predicted)\n",
    "confusionAns"
   ]
  },
  {
   "cell_type": "code",
   "execution_count": 227,
   "id": "e9338801-1ce9-46e9-b4ff-40bcd457445b",
   "metadata": {},
   "outputs": [],
   "source": [
    "# Confusion Matrix - Parameters\n",
    "\n",
    "TP = confusionAns[1,1] # true positive \n",
    "TN = confusionAns[0,0] # true negatives\n",
    "FP = confusionAns[0,1] # false positives\n",
    "FN = confusionAns[1,0] # false negatives"
   ]
  },
  {
   "cell_type": "code",
   "execution_count": 228,
   "id": "ccc0e0b1-66cc-4345-a772-04e280f077a3",
   "metadata": {},
   "outputs": [
    {
     "name": "stdout",
     "output_type": "stream",
     "text": [
      "80.0\n"
     ]
    }
   ],
   "source": [
    "# Let's see the sensitivity of our logistic regression model\n",
    "\n",
    "sensitivity = round(TP / float(TP+FN),2) *100 \n",
    "print(sensitivity)"
   ]
  },
  {
   "cell_type": "code",
   "execution_count": 229,
   "id": "ef2f3672-64a8-4fb0-bfa5-af2483aaeec7",
   "metadata": {},
   "outputs": [
    {
     "data": {
      "text/plain": [
       "0.812819158302518"
      ]
     },
     "execution_count": 229,
     "metadata": {},
     "output_type": "execute_result"
    }
   ],
   "source": [
    "# Let us calculate specificity\n",
    "TN / float(TN+FP)"
   ]
  },
  {
   "cell_type": "markdown",
   "id": "577a5be8-9a60-4043-81b9-efcf1c79dddd",
   "metadata": {},
   "source": [
    "### Sorting The Dataframe - To Find The Top Leads"
   ]
  },
  {
   "cell_type": "code",
   "execution_count": 231,
   "id": "7c969940-6408-4845-ae01-7a5ef859b9b7",
   "metadata": {},
   "outputs": [],
   "source": [
    "# Sorting values to find the top leads. \n",
    "\n",
    "ResultDf = y_ans_final.sort_values(by='Score', ascending=False)"
   ]
  },
  {
   "cell_type": "code",
   "execution_count": 232,
   "id": "fb248558-0e36-42c7-b194-5e9cc2ce0de6",
   "metadata": {},
   "outputs": [
    {
     "data": {
      "text/html": [
       "<div>\n",
       "<style scoped>\n",
       "    .dataframe tbody tr th:only-of-type {\n",
       "        vertical-align: middle;\n",
       "    }\n",
       "\n",
       "    .dataframe tbody tr th {\n",
       "        vertical-align: top;\n",
       "    }\n",
       "\n",
       "    .dataframe thead th {\n",
       "        text-align: right;\n",
       "    }\n",
       "</style>\n",
       "<table border=\"1\" class=\"dataframe\">\n",
       "  <thead>\n",
       "    <tr style=\"text-align: right;\">\n",
       "      <th></th>\n",
       "      <th>Converted</th>\n",
       "      <th>Lead_Number</th>\n",
       "      <th>Conversion_Prob</th>\n",
       "      <th>final_predicted</th>\n",
       "      <th>Score</th>\n",
       "    </tr>\n",
       "  </thead>\n",
       "  <tbody>\n",
       "    <tr>\n",
       "      <th>2656</th>\n",
       "      <td>1</td>\n",
       "      <td>634047</td>\n",
       "      <td>0.999681</td>\n",
       "      <td>1</td>\n",
       "      <td>99.97</td>\n",
       "    </tr>\n",
       "    <tr>\n",
       "      <th>3478</th>\n",
       "      <td>1</td>\n",
       "      <td>627106</td>\n",
       "      <td>0.999659</td>\n",
       "      <td>1</td>\n",
       "      <td>99.97</td>\n",
       "    </tr>\n",
       "    <tr>\n",
       "      <th>8074</th>\n",
       "      <td>1</td>\n",
       "      <td>588037</td>\n",
       "      <td>0.999566</td>\n",
       "      <td>1</td>\n",
       "      <td>99.96</td>\n",
       "    </tr>\n",
       "    <tr>\n",
       "      <th>3428</th>\n",
       "      <td>1</td>\n",
       "      <td>627462</td>\n",
       "      <td>0.999458</td>\n",
       "      <td>1</td>\n",
       "      <td>99.95</td>\n",
       "    </tr>\n",
       "    <tr>\n",
       "      <th>5921</th>\n",
       "      <td>1</td>\n",
       "      <td>604411</td>\n",
       "      <td>0.999389</td>\n",
       "      <td>1</td>\n",
       "      <td>99.94</td>\n",
       "    </tr>\n",
       "  </tbody>\n",
       "</table>\n",
       "</div>"
      ],
      "text/plain": [
       "      Converted  Lead_Number  Conversion_Prob  final_predicted  Score\n",
       "2656          1       634047         0.999681                1  99.97\n",
       "3478          1       627106         0.999659                1  99.97\n",
       "8074          1       588037         0.999566                1  99.96\n",
       "3428          1       627462         0.999458                1  99.95\n",
       "5921          1       604411         0.999389                1  99.94"
      ]
     },
     "execution_count": 232,
     "metadata": {},
     "output_type": "execute_result"
    }
   ],
   "source": [
    "# Displaying the top leads\n",
    "\n",
    "ResultDf.head()"
   ]
  },
  {
   "cell_type": "code",
   "execution_count": 233,
   "id": "cad8c811-2540-41cb-91e7-be9fbc1c65d8",
   "metadata": {},
   "outputs": [],
   "source": [
    "FilteredResult = ResultDf.loc[ResultDf['Score'] >= 35]"
   ]
  },
  {
   "cell_type": "code",
   "execution_count": 234,
   "id": "7f96ff83-39af-46a3-9d6c-0ec46bbb53c7",
   "metadata": {},
   "outputs": [
    {
     "name": "stdout",
     "output_type": "stream",
     "text": [
      "(9240, 5)\n",
      "(3919, 5)\n"
     ]
    }
   ],
   "source": [
    "print(ResultDf.shape)\n",
    "print(FilteredResult.shape)"
   ]
  },
  {
   "cell_type": "code",
   "execution_count": 238,
   "id": "4e56abee-6f15-4e7e-8122-cae8a9cad2fb",
   "metadata": {},
   "outputs": [
    {
     "data": {
      "text/html": [
       "<div>\n",
       "<style scoped>\n",
       "    .dataframe tbody tr th:only-of-type {\n",
       "        vertical-align: middle;\n",
       "    }\n",
       "\n",
       "    .dataframe tbody tr th {\n",
       "        vertical-align: top;\n",
       "    }\n",
       "\n",
       "    .dataframe thead th {\n",
       "        text-align: right;\n",
       "    }\n",
       "</style>\n",
       "<table border=\"1\" class=\"dataframe\">\n",
       "  <thead>\n",
       "    <tr style=\"text-align: right;\">\n",
       "      <th></th>\n",
       "      <th>Converted</th>\n",
       "      <th>Lead_Number</th>\n",
       "      <th>Conversion_Prob</th>\n",
       "      <th>final_predicted</th>\n",
       "      <th>Score</th>\n",
       "    </tr>\n",
       "  </thead>\n",
       "  <tbody>\n",
       "    <tr>\n",
       "      <th>2656</th>\n",
       "      <td>1</td>\n",
       "      <td>634047</td>\n",
       "      <td>0.999681</td>\n",
       "      <td>1</td>\n",
       "      <td>99.97</td>\n",
       "    </tr>\n",
       "    <tr>\n",
       "      <th>3478</th>\n",
       "      <td>1</td>\n",
       "      <td>627106</td>\n",
       "      <td>0.999659</td>\n",
       "      <td>1</td>\n",
       "      <td>99.97</td>\n",
       "    </tr>\n",
       "    <tr>\n",
       "      <th>8074</th>\n",
       "      <td>1</td>\n",
       "      <td>588037</td>\n",
       "      <td>0.999566</td>\n",
       "      <td>1</td>\n",
       "      <td>99.96</td>\n",
       "    </tr>\n",
       "    <tr>\n",
       "      <th>3428</th>\n",
       "      <td>1</td>\n",
       "      <td>627462</td>\n",
       "      <td>0.999458</td>\n",
       "      <td>1</td>\n",
       "      <td>99.95</td>\n",
       "    </tr>\n",
       "    <tr>\n",
       "      <th>5921</th>\n",
       "      <td>1</td>\n",
       "      <td>604411</td>\n",
       "      <td>0.999389</td>\n",
       "      <td>1</td>\n",
       "      <td>99.94</td>\n",
       "    </tr>\n",
       "    <tr>\n",
       "      <th>7579</th>\n",
       "      <td>1</td>\n",
       "      <td>591536</td>\n",
       "      <td>0.999355</td>\n",
       "      <td>1</td>\n",
       "      <td>99.94</td>\n",
       "    </tr>\n",
       "    <tr>\n",
       "      <th>6751</th>\n",
       "      <td>1</td>\n",
       "      <td>598055</td>\n",
       "      <td>0.999298</td>\n",
       "      <td>1</td>\n",
       "      <td>99.93</td>\n",
       "    </tr>\n",
       "    <tr>\n",
       "      <th>5671</th>\n",
       "      <td>1</td>\n",
       "      <td>606508</td>\n",
       "      <td>0.999140</td>\n",
       "      <td>1</td>\n",
       "      <td>99.91</td>\n",
       "    </tr>\n",
       "    <tr>\n",
       "      <th>9015</th>\n",
       "      <td>1</td>\n",
       "      <td>581257</td>\n",
       "      <td>0.999054</td>\n",
       "      <td>1</td>\n",
       "      <td>99.91</td>\n",
       "    </tr>\n",
       "    <tr>\n",
       "      <th>8081</th>\n",
       "      <td>1</td>\n",
       "      <td>588013</td>\n",
       "      <td>0.999131</td>\n",
       "      <td>1</td>\n",
       "      <td>99.91</td>\n",
       "    </tr>\n",
       "  </tbody>\n",
       "</table>\n",
       "</div>"
      ],
      "text/plain": [
       "      Converted  Lead_Number  Conversion_Prob  final_predicted  Score\n",
       "2656          1       634047         0.999681                1  99.97\n",
       "3478          1       627106         0.999659                1  99.97\n",
       "8074          1       588037         0.999566                1  99.96\n",
       "3428          1       627462         0.999458                1  99.95\n",
       "5921          1       604411         0.999389                1  99.94\n",
       "7579          1       591536         0.999355                1  99.94\n",
       "6751          1       598055         0.999298                1  99.93\n",
       "5671          1       606508         0.999140                1  99.91\n",
       "9015          1       581257         0.999054                1  99.91\n",
       "8081          1       588013         0.999131                1  99.91"
      ]
     },
     "execution_count": 238,
     "metadata": {},
     "output_type": "execute_result"
    }
   ],
   "source": [
    "# displaying the filtrerd dataframe\n",
    "\n",
    "FilteredResult.head(10)"
   ]
  },
  {
   "cell_type": "code",
   "execution_count": 241,
   "id": "c3050b9c-0837-4998-8f30-0bf60428744c",
   "metadata": {},
   "outputs": [
    {
     "data": {
      "text/plain": [
       "72.87573360551161"
      ]
     },
     "execution_count": 241,
     "metadata": {},
     "output_type": "execute_result"
    }
   ],
   "source": [
    "# Checking the Converted Rate\n",
    "\n",
    "Converted_Rate_AfterModelling= (sum(FilteredResult['Converted'])/len(FilteredResult['Converted'].index))*100\n",
    "Converted_Rate_AfterModelling"
   ]
  },
  {
   "cell_type": "markdown",
   "id": "dd12626d-412a-4624-bc75-d15573f2fb90",
   "metadata": {},
   "source": [
    "#### Observation - We provide a list of only 4000 who have the chances of getting converted into a potential lead so it is easier for the company to limit their target. When we check for conversion rate, it is found to be around 73%."
   ]
  },
  {
   "cell_type": "markdown",
   "id": "ab40d999-131d-44df-89d6-388bfa636580",
   "metadata": {},
   "source": [
    "## Sorting The Dataframe - To Find The Hot Leads With Higher Conversion Rate."
   ]
  },
  {
   "cell_type": "code",
   "execution_count": 242,
   "id": "faefd527-eead-4a3b-a9a1-96944ab2bd1f",
   "metadata": {},
   "outputs": [],
   "source": [
    "HotLeads = ResultDf.loc[ResultDf['Score'] >= 95]"
   ]
  },
  {
   "cell_type": "code",
   "execution_count": 243,
   "id": "90be93c5-cc4d-40ff-950a-30c5fc706f2e",
   "metadata": {},
   "outputs": [
    {
     "data": {
      "text/plain": [
       "(716, 5)"
      ]
     },
     "execution_count": 243,
     "metadata": {},
     "output_type": "execute_result"
    }
   ],
   "source": [
    "HotLeads.shape"
   ]
  },
  {
   "cell_type": "code",
   "execution_count": 244,
   "id": "7c3f6330-39c3-40eb-abfe-5b35540fb20e",
   "metadata": {},
   "outputs": [
    {
     "data": {
      "text/plain": [
       "95.94972067039106"
      ]
     },
     "execution_count": 244,
     "metadata": {},
     "output_type": "execute_result"
    }
   ],
   "source": [
    "# Checking the Converted Rate\n",
    "\n",
    "Converted_Rate_ForHotLeads= (sum(HotLeads['Converted'])/len(HotLeads['Converted'].index))*100\n",
    "Converted_Rate_ForHotLeads"
   ]
  },
  {
   "cell_type": "markdown",
   "id": "2b397352-283a-4e9b-b78b-8fdd45b1d488",
   "metadata": {},
   "source": [
    "#### Here, we provide a list of only 700 who are mostly getting converted to a lead, so it is easier for the company to limit their target. When we check for conversion rate, it is found to be around 96%. This list aims to target the top 10% of the customers."
   ]
  },
  {
   "cell_type": "markdown",
   "id": "c7fabdf1-fc33-4b34-8099-c0049eac4d35",
   "metadata": {},
   "source": [
    "## CONCLUSION\n",
    "- Conversion Rate for hot leads is increases from 73% to 96%. This means they have a 96% probability of getting converted to a lead.\n",
    "- Focusing on Hot Leads will increase the chances of obtaining more value to the business as the number of people we contact are less but the conversion rate is high.\n",
    "\n",
    "#### From our model, we can conclude following points :\n",
    "- The customer/leads who fills the form are the potential leads.\n",
    "- We must majorly focus on working professionals.\n",
    "- We must majorly focus on leads whose last activity is SMS sent or Email opened.\n",
    "- It’s always good to focus on customers, who have spent significant time on our website.\n",
    "- It’s better to focus least on customers to whom the sent mail is bounced back.\n",
    "- If the lead source is referral, he/she may not be the potential lead.\n",
    "- If the lead didn’t fill specialization, he/she may not know what to study and are not right people to target. So, it’s better to focus less on such cases."
   ]
  },
  {
   "cell_type": "markdown",
   "id": "4403d6e1-0926-48bb-9b5d-741b80b2c772",
   "metadata": {},
   "source": [
    "#### We know that the relationship between ln(odds) of ‘y’ and feature variable “X” is much more intuitive and easier to understand.\n",
    "\n",
    "Equation:\n",
    "\n",
    "ln(odds)= -1.0565 * const + 0.1944 * TotalVisits + 1.0574* Time Spent -0.3186 * Free Copy -1.0199 * Lead Origin_Landing Page Submission + 4.4017 * Lead Origin_Lead Add Form + 1.2101 * Lead Source_Olark Chat-1.1764 * Lead Source_Reference -1.1921 * Last Activity_Email Bounced + 0.8166 * Last Activity_Email Opened -0.6859 * Last Activity_Olark Chat Conversation + 0.6463 * Last Activity_Others - 1.9097 * Last Activity_SMS Sent -1.1380 * Specialization_Not Specified + 2.6908 * Current Occupation_Working Professional"
   ]
  },
  {
   "cell_type": "markdown",
   "id": "e6c72274-fbbb-4501-aec3-9d469ad5b210",
   "metadata": {},
   "source": [
    "# RECOMMENDATIONS\n",
    "- #### It’s good to collect data often and run the model and get updated with the potential leads. There is a belief that the best time to call your potential leads is within few hours after the lead shows interest in the courses.\n",
    "- #### Along with phone calls, it’s good to mail the leads also to keep them reminding as email is as powerful as cold calling.\n",
    "- #### Reducing the number of call attempts to 2-4 and increasing the frequency of usage of other media like advertisements in Google, or via emails to keep in touch with the lead will save a lot of time.\n",
    "- #### Focusing on Hot Leads will increase the chances of obtaining more value to the business as the number of people we contact are less but the conversion rate is high."
   ]
  },
  {
   "cell_type": "code",
   "execution_count": null,
   "id": "1e72ad2d-2ad0-4eab-a982-1471fe96d0f0",
   "metadata": {},
   "outputs": [],
   "source": []
  }
 ],
 "metadata": {
  "kernelspec": {
   "display_name": "Python 3 (ipykernel)",
   "language": "python",
   "name": "python3"
  },
  "language_info": {
   "codemirror_mode": {
    "name": "ipython",
    "version": 3
   },
   "file_extension": ".py",
   "mimetype": "text/x-python",
   "name": "python",
   "nbconvert_exporter": "python",
   "pygments_lexer": "ipython3",
   "version": "3.11.7"
  }
 },
 "nbformat": 4,
 "nbformat_minor": 5
}
